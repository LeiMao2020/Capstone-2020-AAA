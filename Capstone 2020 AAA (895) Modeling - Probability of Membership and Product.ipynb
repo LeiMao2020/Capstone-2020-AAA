{
 "cells": [
  {
   "cell_type": "code",
   "execution_count": null,
   "metadata": {},
   "outputs": [],
   "source": [
    "# 1st step - Read data and sample to training and validation.\n",
    "# 2nd step - trim down the dataset for certain modeling (use linear/log regression to do the initial feature selection)\n",
    "# 3rd step - build models and compare and choose the best one based on validation\n",
    "# 4th step - Score all the data and output\n",
    "\n",
    "%matplotlib inline\n",
    "import numpy as np\n",
    "import pandas as pd\n",
    "import matplotlib.pyplot as plt\n",
    "import pathlib, re\n",
    "\n",
    "from sklearn.feature_extraction.text import CountVectorizer\n",
    "from sklearn.model_selection import train_test_split\n",
    "from sklearn.naive_bayes import MultinomialNB\n",
    "#nbayes = MultinomialNB()\n",
    "#nbayes.fit(sms_messages_train, labels_train)\n",
    "#accuracy=nbayes.score(sms_messages_test,labels_test)\n"
   ]
  },
  {
   "cell_type": "code",
   "execution_count": 350,
   "metadata": {},
   "outputs": [
    {
     "name": "stdout",
     "output_type": "stream",
     "text": [
      "<class 'pandas.core.frame.DataFrame'>\n",
      "RangeIndex: 9665 entries, 0 to 9664\n",
      "Data columns (total 64 columns):\n",
      "Unnamed: 0                          9665 non-null int64\n",
      "Individual Key                      9665 non-null float64\n",
      "Household Key                       9665 non-null float64\n",
      "Voluntary Cancel Flag               9665 non-null int64\n",
      "m_PlusMember                        9665 non-null int64\n",
      "FSV CMSI Flag                       9665 non-null object\n",
      "FSV Credit Card Flag                9665 non-null object\n",
      "FSV Deposit Program Flag            9665 non-null object\n",
      "FSV Home Equity Flag                9665 non-null object\n",
      "FSV ID Theft Flag                   9665 non-null object\n",
      "FSV Mortgage Flag                   9665 non-null object\n",
      "INS Client Flag                     9665 non-null object\n",
      "TRV Globalware Flag                 9665 non-null object\n",
      "Months from Join to Cancel          9665 non-null float64\n",
      "m_ProfileMissing                    9665 non-null int64\n",
      "m_TenureYr                          9665 non-null float64\n",
      "m_OccupationMissing                 9665 non-null int64\n",
      "m_MosJoin2CancelMissing             9665 non-null int64\n",
      "m_AgeMissing                        9665 non-null int64\n",
      "m_IncomeMissing                     9665 non-null int64\n",
      "m_CreditMissing                     9665 non-null int64\n",
      "m_HomeownerFlag                     9665 non-null int64\n",
      "m_RenterFlag                        9665 non-null int64\n",
      "m_memberage                         9665 non-null float64\n",
      "m_DwellMissing                      9665 non-null int64\n",
      "m_nChild                            9665 non-null int64\n",
      "m_LenResidence                      9665 non-null float64\n",
      "m_MailRespond                       9665 non-null object\n",
      "m_Income                            9665 non-null int64\n",
      "m_Credit                            9665 non-null int64\n",
      "m_MailRespondYes                    9665 non-null int64\n",
      "m_NoChild                           9665 non-null int64\n",
      "m_No2DirectMail                     9665 non-null int64\n",
      "m_PrimaryMember                     9665 non-null int64\n",
      "m_OptIn_Publication                 9665 non-null int64\n",
      "m_CashCallYes                       9665 non-null int64\n",
      "m_MosaicMIssing                     9665 non-null int64\n",
      "m_NewMover                          9665 non-null int64\n",
      "Occ_Blue_Collar                     9665 non-null int64\n",
      "Occ_Management                      9665 non-null int64\n",
      "Occ_OfficeAdmin                     9665 non-null int64\n",
      "Occ_Other                           9665 non-null int64\n",
      "Occ_Professional                    9665 non-null int64\n",
      "Occ_Retired                         9665 non-null int64\n",
      "Occ_Sales                           9665 non-null int64\n",
      "Occ_Technical                       9665 non-null int64\n",
      "Ed_Completed College                9665 non-null int64\n",
      "Ed_Graduated School                 9665 non-null int64\n",
      "Ed_High School                      9665 non-null int64\n",
      "Ed_Some College                     9665 non-null int64\n",
      "Mosaic_Bourgeois Prosperity         9665 non-null int64\n",
      "Mosaic_Career and Family            9665 non-null int64\n",
      "Mosaic_Comfortable Retirement       9665 non-null int64\n",
      "Mosaic_Hard Working Blue Collar     9665 non-null int64\n",
      "Mosaic_Low Income Elders            9665 non-null int64\n",
      "Mosaic_Metropolitan Strugglers      9665 non-null int64\n",
      "Mosaic_Post Industrial Survivors    9665 non-null int64\n",
      "Mosaic_Routine Service Workers      9665 non-null int64\n",
      "Mosaic_Rural Inheritance            9665 non-null int64\n",
      "Mosaic_Sophisticated Singles        9665 non-null int64\n",
      "m_AutoRenew                         9665 non-null int64\n",
      "Dwell_MFDU                          9665 non-null int64\n",
      "Dwell_POBOX                         9665 non-null int64\n",
      "Dwell_SFDU                          9665 non-null int64\n",
      "dtypes: float64(6), int64(49), object(9)\n",
      "memory usage: 4.7+ MB\n",
      "None\n",
      "<class 'pandas.core.frame.DataFrame'>\n",
      "RangeIndex: 5867 entries, 0 to 5866\n",
      "Data columns (total 64 columns):\n",
      "Unnamed: 0                          5867 non-null int64\n",
      "Individual Key                      5867 non-null float64\n",
      "Household Key                       5867 non-null float64\n",
      "Voluntary Cancel Flag               5867 non-null int64\n",
      "m_PlusMember                        5867 non-null int64\n",
      "FSV CMSI Flag                       5867 non-null object\n",
      "FSV Credit Card Flag                5867 non-null object\n",
      "FSV Deposit Program Flag            5867 non-null object\n",
      "FSV Home Equity Flag                5867 non-null object\n",
      "FSV ID Theft Flag                   5867 non-null object\n",
      "FSV Mortgage Flag                   5867 non-null object\n",
      "INS Client Flag                     5867 non-null object\n",
      "TRV Globalware Flag                 5867 non-null object\n",
      "Months from Join to Cancel          5867 non-null float64\n",
      "m_ProfileMissing                    5867 non-null int64\n",
      "m_TenureYr                          5867 non-null float64\n",
      "m_OccupationMissing                 5867 non-null int64\n",
      "m_MosJoin2CancelMissing             5867 non-null int64\n",
      "m_AgeMissing                        5867 non-null int64\n",
      "m_IncomeMissing                     5867 non-null int64\n",
      "m_CreditMissing                     5867 non-null int64\n",
      "m_HomeownerFlag                     5867 non-null int64\n",
      "m_RenterFlag                        5867 non-null int64\n",
      "m_memberage                         5867 non-null float64\n",
      "m_DwellMissing                      5867 non-null int64\n",
      "m_nChild                            5867 non-null int64\n",
      "m_LenResidence                      5867 non-null float64\n",
      "m_MailRespond                       5867 non-null object\n",
      "m_Income                            5867 non-null int64\n",
      "m_Credit                            5867 non-null int64\n",
      "m_MailRespondYes                    5867 non-null int64\n",
      "m_NoChild                           5867 non-null int64\n",
      "m_No2DirectMail                     5867 non-null int64\n",
      "m_PrimaryMember                     5867 non-null int64\n",
      "m_OptIn_Publication                 5867 non-null int64\n",
      "m_CashCallYes                       5867 non-null int64\n",
      "m_MosaicMIssing                     5867 non-null int64\n",
      "m_NewMover                          5867 non-null int64\n",
      "Occ_Blue_Collar                     5867 non-null int64\n",
      "Occ_Management                      5867 non-null int64\n",
      "Occ_OfficeAdmin                     5867 non-null int64\n",
      "Occ_Other                           5867 non-null int64\n",
      "Occ_Professional                    5867 non-null int64\n",
      "Occ_Retired                         5867 non-null int64\n",
      "Occ_Sales                           5867 non-null int64\n",
      "Occ_Technical                       5867 non-null int64\n",
      "Ed_Completed College                5867 non-null int64\n",
      "Ed_Graduated School                 5867 non-null int64\n",
      "Ed_High School                      5867 non-null int64\n",
      "Ed_Some College                     5867 non-null int64\n",
      "Mosaic_Bourgeois Prosperity         5867 non-null int64\n",
      "Mosaic_Career and Family            5867 non-null int64\n",
      "Mosaic_Comfortable Retirement       5867 non-null int64\n",
      "Mosaic_Hard Working Blue Collar     5867 non-null int64\n",
      "Mosaic_Low Income Elders            5867 non-null int64\n",
      "Mosaic_Metropolitan Strugglers      5867 non-null int64\n",
      "Mosaic_Post Industrial Survivors    5867 non-null int64\n",
      "Mosaic_Routine Service Workers      5867 non-null int64\n",
      "Mosaic_Rural Inheritance            5867 non-null int64\n",
      "Mosaic_Sophisticated Singles        5867 non-null int64\n",
      "m_AutoRenew                         5867 non-null int64\n",
      "Dwell_MFDU                          5867 non-null int64\n",
      "Dwell_POBOX                         5867 non-null int64\n",
      "Dwell_SFDU                          5867 non-null int64\n",
      "dtypes: float64(6), int64(49), object(9)\n",
      "memory usage: 2.9+ MB\n",
      "None\n",
      "<class 'pandas.core.frame.DataFrame'>\n",
      "RangeIndex: 3511 entries, 0 to 3510\n",
      "Data columns (total 62 columns):\n",
      "Household Key                       3511 non-null float64\n",
      "Car_American                        3511 non-null int64\n",
      "Car_American_Luxury                 3511 non-null int64\n",
      "Car_European                        3511 non-null int64\n",
      "Car_European_Luxury                 3511 non-null int64\n",
      "Car_Japan                           3511 non-null int64\n",
      "Car_Japan_Luxury                    3511 non-null int64\n",
      "Car_Other                           3511 non-null int64\n",
      "Ed_Completed College                3511 non-null int64\n",
      "Ed_Graduated School                 3511 non-null int64\n",
      "Ed_High School                      3511 non-null int64\n",
      "Ed_Some College                     3511 non-null int64\n",
      "Occ_Blue_Collar                     3511 non-null int64\n",
      "Occ_Management                      3511 non-null int64\n",
      "Occ_OfficeAdmin                     3511 non-null int64\n",
      "Occ_Other                           3511 non-null int64\n",
      "Occ_Professional                    3511 non-null int64\n",
      "Occ_Retired                         3511 non-null int64\n",
      "Occ_Sales                           3511 non-null int64\n",
      "Occ_Technical                       3511 non-null int64\n",
      "m_Avg_ERS_Cost_PerYr                3511 non-null float64\n",
      "m_Avg_ERS_ENT_Count_PerYr           3511 non-null float64\n",
      "m_ExpensiveModel                    3511 non-null float64\n",
      "m_Prob_ERS_ENT_Used                 3511 non-null int64\n",
      "m_SportsCar                         3511 non-null float64\n",
      "Dwell_MFDU                          3511 non-null float64\n",
      "Dwell_POBOX                         3511 non-null float64\n",
      "Dwell_SFDU                          3511 non-null float64\n",
      "Mosaic_Bourgeois Prosperity         3511 non-null float64\n",
      "Mosaic_Career and Family            3511 non-null float64\n",
      "Mosaic_Comfortable Retirement       3511 non-null float64\n",
      "Mosaic_Hard Working Blue Collar     3511 non-null float64\n",
      "Mosaic_Low Income Elders            3511 non-null float64\n",
      "Mosaic_Metropolitan Strugglers      3511 non-null float64\n",
      "Mosaic_Post Industrial Survivors    3511 non-null float64\n",
      "Mosaic_Routine Service Workers      3511 non-null float64\n",
      "Mosaic_Rural Inheritance            3511 non-null float64\n",
      "Mosaic_Sophisticated Singles        3511 non-null float64\n",
      "m_AgeMissing                        3511 non-null int64\n",
      "m_AutoRenew                         3511 non-null float64\n",
      "m_CashCallYes                       3511 non-null float64\n",
      "m_Credit                            3511 non-null float64\n",
      "m_CreditMissing                     3511 non-null float64\n",
      "m_DwellMissing                      3511 non-null float64\n",
      "m_HomeownerFlag                     3511 non-null float64\n",
      "m_Income                            3511 non-null float64\n",
      "m_IncomeMissing                     3511 non-null float64\n",
      "m_LenResidence                      3511 non-null float64\n",
      "m_MailRespondYes                    3511 non-null float64\n",
      "m_MosJoin2CancelMissing             3511 non-null int64\n",
      "m_MosaicMIssing                     3511 non-null float64\n",
      "m_NewMover                          3511 non-null float64\n",
      "m_No2DirectMail                     3511 non-null int64\n",
      "m_NoChild                           3511 non-null float64\n",
      "m_OccupationMissing                 3511 non-null float64\n",
      "m_OptIn_Publication                 3511 non-null int64\n",
      "m_PrimaryMember                     3511 non-null float64\n",
      "m_ProfileMissing                    3511 non-null float64\n",
      "m_RenterFlag                        3511 non-null float64\n",
      "m_TenureYr                          3511 non-null float64\n",
      "m_memberage                         3511 non-null float64\n",
      "m_nChild                            3511 non-null float64\n",
      "dtypes: float64(38), int64(24)\n",
      "memory usage: 1.7 MB\n",
      "None\n"
     ]
    }
   ],
   "source": [
    "# import data\n",
    "Profile_fullset=pd.read_csv(\"C:\\Mark_Mao\\MLAL_capstone\\CleanSet\\Profile_fullset_noDup.csv\")\n",
    "Profile_activeset=pd.read_csv(\"C:\\Mark_Mao\\MLAL_capstone\\CleanSet\\Profile_activeset_noDup.csv\")\n",
    "RoadService_activeset=pd.read_csv(\"C:\\Mark_Mao\\MLAL_capstone\\CleanSet\\RoadService_activeset_noDup.csv\")\n",
    "#check\n",
    "print(Profile_fullset.info())\n",
    "print(Profile_activeset.info())\n",
    "print(RoadService_activeset.info())\n",
    "#print(list(Profile_fullset.columns) )"
   ]
  },
  {
   "cell_type": "code",
   "execution_count": 351,
   "metadata": {},
   "outputs": [
    {
     "name": "stdout",
     "output_type": "stream",
     "text": [
      "   Individual Key  Household Key  Voluntary Cancel Flag  m_PlusMember  \\\n",
      "0     212321856.0     99993288.0                      0             0   \n",
      "1     212320920.0    100035899.0                      0             0   \n",
      "2     212312283.0      4898837.0                      0             0   \n",
      "3     212310962.0      1963199.0                      0             1   \n",
      "4     212308805.0      8548363.0                      0             0   \n",
      "5     212308372.0     10416039.0                      0             0   \n",
      "6     212306183.0     13240184.0                      0             1   \n",
      "7     212303147.0    100020029.0                      0             0   \n",
      "8     212302836.0       564069.0                      0             0   \n",
      "9     212294716.0     10472486.0                      0             0   \n",
      "\n",
      "   FSV CMSI Flag  FSV Credit Card Flag  FSV Deposit Program Flag  \\\n",
      "0              0                     0                         0   \n",
      "1              1                     0                         0   \n",
      "2              1                     0                         0   \n",
      "3              0                     1                         0   \n",
      "4              0                     0                         0   \n",
      "5              0                     0                         0   \n",
      "6              0                     0                         0   \n",
      "7              0                     0                         0   \n",
      "8              0                     0                         0   \n",
      "9              0                     0                         0   \n",
      "\n",
      "   FSV Home Equity Flag  FSV ID Theft Flag  FSV Mortgage Flag  \\\n",
      "0                     0                  0                  0   \n",
      "1                     0                  0                  0   \n",
      "2                     0                  0                  1   \n",
      "3                     0                  0                  0   \n",
      "4                     0                  0                  0   \n",
      "5                     0                  0                  0   \n",
      "6                     0                  0                  0   \n",
      "7                     0                  0                  0   \n",
      "8                     0                  0                  0   \n",
      "9                     0                  0                  0   \n",
      "\n",
      "   INS Client Flag  TRV Globalware Flag  \n",
      "0                0                    0  \n",
      "1                0                    0  \n",
      "2                0                    0  \n",
      "3                0                    0  \n",
      "4                0                    0  \n",
      "5                0                    0  \n",
      "6                1                    0  \n",
      "7                0                    0  \n",
      "8                0                    0  \n",
      "9                0                    0  \n"
     ]
    }
   ],
   "source": [
    "# Replace Y/N target values with 0/1 for modeling\n",
    "Profile_activeset['FSV CMSI Flag'].replace(('Y', 'N'), (1, 0), inplace=True)\n",
    "Profile_activeset['FSV Credit Card Flag'].replace(('Y', 'N'), (1, 0), inplace=True)\n",
    "Profile_activeset['FSV Deposit Program Flag'].replace(('Y', 'N'), (1, 0), inplace=True)\n",
    "Profile_activeset['FSV Home Equity Flag'].replace(('Y', 'N'), (1, 0), inplace=True)\n",
    "Profile_activeset['FSV ID Theft Flag'].replace(('Y', 'N'), (1, 0), inplace=True)\n",
    "Profile_activeset['FSV Mortgage Flag'].replace(('Y', 'N'), (1, 0), inplace=True)\n",
    "Profile_activeset['INS Client Flag'].replace(('Y', 'N'), (1, 0), inplace=True)\n",
    "Profile_activeset['TRV Globalware Flag'].replace(('Y', 'N'), (1, 0), inplace=True)\n",
    "print(Profile_activeset[['Individual Key','Household Key','Voluntary Cancel Flag','m_PlusMember','FSV CMSI Flag','FSV Credit Card Flag','FSV Deposit Program Flag','FSV Home Equity Flag','FSV ID Theft Flag','FSV Mortgage Flag','INS Client Flag','TRV Globalware Flag']].head(10))"
   ]
  },
  {
   "cell_type": "code",
   "execution_count": 352,
   "metadata": {},
   "outputs": [],
   "source": [
    "cancel_train, cancel_test = train_test_split(Profile_fullset, test_size=0.3,random_state=0)\n",
    "prod_train, prod_test = train_test_split(Profile_activeset, test_size=0.3,random_state=0)\n",
    "RS_train, RS_test = train_test_split(Profile_fullset, test_size=0.3,random_state=0)"
   ]
  },
  {
   "cell_type": "code",
   "execution_count": 353,
   "metadata": {},
   "outputs": [
    {
     "name": "stdout",
     "output_type": "stream",
     "text": [
      "count    6.765000e+03\n",
      "mean     1.492561e+07\n",
      "std      1.931985e+07\n",
      "min      8.750000e+02\n",
      "25%      4.256561e+06\n",
      "50%      9.999165e+06\n",
      "75%      1.640954e+07\n",
      "max      1.000791e+08\n",
      "Name: Household Key, dtype: float64\n",
      "count    2.900000e+03\n",
      "mean     1.489193e+07\n",
      "std      1.905314e+07\n",
      "min      9.690000e+02\n",
      "25%      4.596166e+06\n",
      "50%      9.861311e+06\n",
      "75%      1.634915e+07\n",
      "max      1.000719e+08\n",
      "Name: Household Key, dtype: float64\n"
     ]
    }
   ],
   "source": [
    "print(cancel_train['Household Key'].describe())\n",
    "print(cancel_test['Household Key'].describe())\n",
    "#print(prod_train['Household Key'].describe())\n",
    "#print(prod_test['Household Key'].describe())"
   ]
  },
  {
   "cell_type": "code",
   "execution_count": 354,
   "metadata": {},
   "outputs": [],
   "source": [
    "# X_list_cancel is the explantory variables list for probability of 'Voluntary Cancel Flag'\n",
    "# X_list is the explantory variables list for all other classification models\n",
    "\n",
    "\n",
    "X_list_cancel=[\n",
    "    'm_ProfileMissing', 'm_TenureYr', \n",
    "        'm_OccupationMissing', \n",
    "         'm_IncomeMissing', \n",
    "        'm_HomeownerFlag', 'm_RenterFlag', 'm_memberage',\n",
    "        'm_DwellMissing', 'm_nChild', 'm_LenResidence', \n",
    "         'm_Income', 'm_Credit', \n",
    "        'm_MailRespondYes', 'm_NoChild', \n",
    "        'm_PrimaryMember', 'm_OptIn_Publication', 'm_CashCallYes',\n",
    "        'm_MosaicMIssing', 'm_NewMover', 'Occ_Blue_Collar', \n",
    "        'Occ_Management', 'Occ_OfficeAdmin', 'Occ_Other', \n",
    "        'Occ_Professional', 'Occ_Retired', 'Occ_Sales',\n",
    "    'Ed_Completed College', \n",
    "        'Ed_Graduated School', 'Ed_High School', \n",
    "        'Ed_Some College', 'Mosaic_Bourgeois Prosperity', \n",
    "        'Mosaic_Career and Family', 'Mosaic_Comfortable Retirement',\n",
    "        'Mosaic_Hard Working Blue Collar', 'Mosaic_Low Income Elders',\n",
    "        'Mosaic_Metropolitan Strugglers', \n",
    "        'Mosaic_Post Industrial Survivors', \n",
    "        'Mosaic_Routine Service Workers', 'Mosaic_Rural Inheritance',\n",
    "        'Mosaic_Sophisticated Singles', 'm_AutoRenew', 'Dwell_MFDU', \n",
    "        'Dwell_POBOX', 'Dwell_SFDU'\n",
    "]\n",
    "\n",
    "X_list=['m_ProfileMissing', 'm_TenureYr', \n",
    "        'm_OccupationMissing', \n",
    "        'm_AgeMissing', 'm_IncomeMissing', \n",
    "        'm_HomeownerFlag', 'm_RenterFlag', 'm_memberage',\n",
    "        'm_DwellMissing', 'm_nChild', 'm_LenResidence', \n",
    "         'm_Income', 'm_Credit', \n",
    "        'm_MailRespondYes', 'm_NoChild', \n",
    "        'm_PrimaryMember', 'm_OptIn_Publication', 'm_CashCallYes',\n",
    "        'm_MosaicMIssing', 'm_NewMover', 'Occ_Blue_Collar', \n",
    "        'Occ_Management', 'Occ_OfficeAdmin', 'Occ_Other', \n",
    "        'Occ_Professional', 'Occ_Retired', 'Occ_Sales', \n",
    "        'Occ_Technical', 'Ed_Completed College', \n",
    "        'Ed_Graduated School', 'Ed_High School', \n",
    "        'Ed_Some College', 'Mosaic_Bourgeois Prosperity', \n",
    "        'Mosaic_Career and Family', 'Mosaic_Comfortable Retirement',\n",
    "        'Mosaic_Hard Working Blue Collar', 'Mosaic_Low Income Elders',\n",
    "        'Mosaic_Metropolitan Strugglers', \n",
    "        'Mosaic_Post Industrial Survivors', \n",
    "        'Mosaic_Routine Service Workers', 'Mosaic_Rural Inheritance',\n",
    "        'Mosaic_Sophisticated Singles', 'm_AutoRenew', 'Dwell_MFDU', \n",
    "        'Dwell_POBOX', 'Dwell_SFDU'  \n",
    "]\n",
    "\n",
    "X_list2=['m_ProfileMissing', 'm_TenureYr', \n",
    "        'm_OccupationMissing',  'm_IncomeMissing', \n",
    "        'm_HomeownerFlag', 'm_RenterFlag', 'm_memberage',\n",
    "        'm_nChild', 'm_LenResidence', \n",
    "         'm_Income', 'm_Credit', \n",
    "        'm_MailRespondYes', 'm_NoChild', \n",
    "        'm_PrimaryMember', 'm_OptIn_Publication', 'm_CashCallYes',\n",
    "         'm_NewMover', 'Occ_Blue_Collar', \n",
    "        'Occ_Management', 'Occ_OfficeAdmin', 'Occ_Other', \n",
    "        'Occ_Professional', 'Occ_Retired', 'Occ_Sales', \n",
    "        'Occ_Technical', 'Ed_Completed College', \n",
    "        'Ed_Graduated School', 'Ed_High School', \n",
    "        'Ed_Some College', 'Mosaic_Bourgeois Prosperity', \n",
    "        'Mosaic_Career and Family', 'Mosaic_Comfortable Retirement',\n",
    "        'Mosaic_Hard Working Blue Collar', 'Mosaic_Low Income Elders',\n",
    "        'Mosaic_Metropolitan Strugglers', \n",
    "        'Mosaic_Post Industrial Survivors', \n",
    "        'Mosaic_Routine Service Workers', 'Mosaic_Rural Inheritance',\n",
    "        'Mosaic_Sophisticated Singles', 'm_AutoRenew', 'Dwell_MFDU', \n",
    "        'Dwell_POBOX', 'Dwell_SFDU'  \n",
    "]"
   ]
  },
  {
   "cell_type": "code",
   "execution_count": 355,
   "metadata": {},
   "outputs": [],
   "source": [
    "from sklearn import preprocessing\n",
    "from sklearn.linear_model import LogisticRegression\n",
    "from sklearn.model_selection import train_test_split\n",
    "import seaborn as sns\n"
   ]
  },
  {
   "cell_type": "code",
   "execution_count": 356,
   "metadata": {},
   "outputs": [],
   "source": [
    "################  Probability of Voluntary Cancallation #########"
   ]
  },
  {
   "cell_type": "code",
   "execution_count": 357,
   "metadata": {
    "scrolled": true
   },
   "outputs": [
    {
     "data": {
      "image/png": "[encoded data removed]",
      "text/plain": [
       "<Figure size 432x288 with 1 Axes>"
      ]
     },
     "metadata": {
      "needs_background": "light"
     },
     "output_type": "display_data"
    },
    {
     "data": {
      "text/plain": [
       "<Figure size 432x288 with 0 Axes>"
      ]
     },
     "metadata": {},
     "output_type": "display_data"
    }
   ],
   "source": [
    "sns.countplot(x='Voluntary Cancel Flag',data=Profile_fullset,palette='hls')\n",
    "plt.show()\n",
    "plt.savefig('count_plot')"
   ]
  },
  {
   "cell_type": "code",
   "execution_count": 358,
   "metadata": {},
   "outputs": [
    {
     "name": "stderr",
     "output_type": "stream",
     "text": [
      "C:\\Anaconda3\\lib\\site-packages\\numpy\\core\\fromnumeric.py:2389: FutureWarning: Method .ptp is deprecated and will be removed in a future version. Use numpy.ptp instead.\n",
      "  return ptp(axis=axis, out=out, **kwargs)\n"
     ]
    },
    {
     "name": "stdout",
     "output_type": "stream",
     "text": [
      "Warning: Maximum number of iterations has been exceeded.\n",
      "         Current function value: 0.419301\n",
      "         Iterations: 35\n",
      "                                           Results: Logit\n",
      "====================================================================================================\n",
      "Model:                         Logit                           Pseudo R-squared:           0.374    \n",
      "Dependent Variable:            Voluntary Cancel Flag           AIC:                        5759.1449\n",
      "Date:                          2020-05-30 10:19                BIC:                        6052.3842\n",
      "No. Observations:              6765                            Log-Likelihood:             -2836.6  \n",
      "Df Model:                      42                              LL-Null:                    -4532.3  \n",
      "Df Residuals:                  6722                            LLR p-value:                0.0000   \n",
      "Converged:                     0.0000                          Scale:                      1.0000   \n",
      "No. Iterations:                35.0000                                                              \n",
      "----------------------------------------------------------------------------------------------------\n",
      "                                  Coef.      Std.Err.      z     P>|z|      [0.025         0.975]   \n",
      "----------------------------------------------------------------------------------------------------\n",
      "const                              2.1035 13054672.1458   0.0000 1.0000 -25586685.1323 25586689.3393\n",
      "m_ProfileMissing                  -0.2512 21248862.7125  -0.0000 1.0000 -41647005.8803 41647005.3778\n",
      "m_TenureYr                         0.0071        0.0022   3.1659 0.0015         0.0027        0.0115\n",
      "m_OccupationMissing                1.2514        0.1597   7.8359 0.0000         0.9384        1.5644\n",
      "m_IncomeMissing                    0.2161        0.5842   0.3700 0.7114        -0.9288        1.3611\n",
      "m_HomeownerFlag                   -0.5903        0.2077  -2.8419 0.0045        -0.9974       -0.1832\n",
      "m_RenterFlag                      -0.1039        0.2365  -0.4392 0.6605        -0.5674        0.3596\n",
      "m_memberage                       -0.0219        0.0012 -17.9359 0.0000        -0.0243       -0.0196\n",
      "m_DwellMissing                     0.4331 13054672.1458   0.0000 1.0000 -25586686.8027 25586687.6689\n",
      "m_nChild                          -0.0203        0.0678  -0.2987 0.7652        -0.1532        0.1127\n",
      "m_LenResidence                    -0.0371        0.0094  -3.9478 0.0001        -0.0556       -0.0187\n",
      "m_Income                          -0.0000        0.0000  -4.9013 0.0000        -0.0000       -0.0000\n",
      "m_Credit                          -0.0002        0.0006  -0.3917 0.6953        -0.0014        0.0009\n",
      "m_MailRespondYes                   0.0226        0.2087   0.1084 0.9137        -0.3864        0.4317\n",
      "m_NoChild                          0.0396        0.1428   0.2772 0.7816        -0.2403        0.3195\n",
      "m_PrimaryMember                   -0.7239        0.0838  -8.6424 0.0000        -0.8880       -0.5597\n",
      "m_OptIn_Publication               -1.2881        0.3288  -3.9180 0.0001        -1.9324       -0.6437\n",
      "m_CashCallYes                     -0.7536        0.7079  -1.0646 0.2870        -2.1411        0.6338\n",
      "m_MosaicMIssing                    0.1078 21248862.7125   0.0000 1.0000 -41647005.5212 41647005.7368\n",
      "m_NewMover                         0.5061        0.0888   5.6992 0.0000         0.3320        0.6801\n",
      "Occ_Blue_Collar                    0.1647        0.4213   0.3910 0.6958        -0.6610        0.9904\n",
      "Occ_Management                    -0.1817        0.3102  -0.5857 0.5581        -0.7897        0.4263\n",
      "Occ_OfficeAdmin                   -0.4488        0.3414  -1.3146 0.1887        -1.1180        0.2203\n",
      "Occ_Other                         -0.3391        0.3107  -1.0914 0.2751        -0.9479        0.2698\n",
      "Occ_Professional                  -0.3935        0.3031  -1.2981 0.1942        -0.9876        0.2006\n",
      "Occ_Retired                       -0.5324        0.2954  -1.8019 0.0716        -1.1114        0.0467\n",
      "Occ_Sales                         -0.5070        0.3806  -1.3322 0.1828        -1.2529        0.2389\n",
      "Ed_Completed College              -0.4598        0.1763  -2.6081 0.0091        -0.8053       -0.1143\n",
      "Ed_Graduated School               -0.6087        0.4186  -1.4541 0.1459        -1.4292        0.2118\n",
      "Ed_High School                     0.0719        0.1231   0.5839 0.5593        -0.1694        0.3132\n",
      "Ed_Some College                   -0.0553        0.1251  -0.4423 0.6583        -0.3006        0.1899\n",
      "Mosaic_Bourgeois Prosperity       -0.3100 20828051.4852  -0.0000 1.0000 -40822231.0892 40822230.4692\n",
      "Mosaic_Career and Family          -0.2184 21248862.7125  -0.0000 1.0000 -41647005.8474 41647005.4107\n",
      "Mosaic_Comfortable Retirement     -0.4925 21248862.7125  -0.0000 1.0000 -41647006.1215 41647005.1365\n",
      "Mosaic_Hard Working Blue Collar    0.2502 21039509.2059   0.0000 1.0000 -41236680.0457 41236680.5461\n",
      "Mosaic_Low Income Elders           0.7386 21039509.2059   0.0000 1.0000 -41236679.5573 41236681.0345\n",
      "Mosaic_Metropolitan Strugglers     0.0073 21456173.5994   0.0000 1.0000 -42053327.4937 42053327.5082\n",
      "Mosaic_Post Industrial Survivors  -0.0367 21456173.5994  -0.0000 1.0000 -42053327.5376 42053327.4643\n",
      "Mosaic_Routine Service Workers    -0.1635 21248862.7125  -0.0000 1.0000 -41647005.7925 41647005.4655\n",
      "Mosaic_Rural Inheritance          -0.7732 21248862.7125  -0.0000 1.0000 -41647006.4023 41647004.8558\n",
      "Mosaic_Sophisticated Singles       0.6391 21456173.5994   0.0000 1.0000 -42053326.8618 42053328.1400\n",
      "m_AutoRenew                      -20.1083      958.1604  -0.0210 0.9833     -1898.0681     1857.8516\n",
      "Dwell_MFDU                         0.8834 13054672.1458   0.0000 1.0000 -25586686.3523 25586688.1192\n",
      "Dwell_POBOX                       -0.0554 13054672.1458  -0.0000 1.0000 -25586687.2911 25586687.1804\n",
      "Dwell_SFDU                         0.8423 13054672.1458   0.0000 1.0000 -25586686.3935 25586688.0781\n",
      "====================================================================================================\n",
      "\n"
     ]
    },
    {
     "name": "stderr",
     "output_type": "stream",
     "text": [
      "C:\\Anaconda3\\lib\\site-packages\\statsmodels\\base\\model.py:512: ConvergenceWarning: Maximum Likelihood optimization failed to converge. Check mle_retvals\n",
      "  \"Check mle_retvals\", ConvergenceWarning)\n"
     ]
    }
   ],
   "source": [
    "from sklearn.feature_selection import RFE\n",
    "from sklearn.linear_model import LogisticRegression\n",
    "from sklearn import metrics\n",
    "from sklearn.metrics import roc_auc_score\n",
    "from sklearn.metrics import roc_curve, auc\n",
    "import statsmodels.api as sm\n",
    "\n",
    "Modeling_X=cancel_train[X_list_cancel]\n",
    "Test_X=cancel_test[X_list_cancel]\n",
    "\n",
    "X_train = sm.add_constant(Modeling_X)\n",
    "y_train = cancel_train.loc[:,'Voluntary Cancel Flag']\n",
    "\n",
    "X_test = sm.add_constant(Test_X)\n",
    "y_test = cancel_test.loc[:,'Voluntary Cancel Flag']\n",
    "\n",
    "logit_model=sm.Logit(y_train,X_train)\n",
    "result=logit_model.fit()\n",
    "print(result.summary2())\n",
    "\n",
    "#logreg = LogisticRegression()\n",
    "#logreg.fit(X_train, )\n"
   ]
  },
  {
   "cell_type": "code",
   "execution_count": 359,
   "metadata": {
    "scrolled": true
   },
   "outputs": [
    {
     "name": "stderr",
     "output_type": "stream",
     "text": [
      "C:\\Anaconda3\\lib\\site-packages\\sklearn\\linear_model\\logistic.py:432: FutureWarning: Default solver will be changed to 'lbfgs' in 0.22. Specify a solver to silence this warning.\n",
      "  FutureWarning)\n",
      "C:\\Anaconda3\\lib\\site-packages\\sklearn\\linear_model\\logistic.py:432: FutureWarning: Default solver will be changed to 'lbfgs' in 0.22. Specify a solver to silence this warning.\n",
      "  FutureWarning)\n",
      "C:\\Anaconda3\\lib\\site-packages\\sklearn\\linear_model\\logistic.py:432: FutureWarning: Default solver will be changed to 'lbfgs' in 0.22. Specify a solver to silence this warning.\n",
      "  FutureWarning)\n",
      "C:\\Anaconda3\\lib\\site-packages\\sklearn\\linear_model\\logistic.py:432: FutureWarning: Default solver will be changed to 'lbfgs' in 0.22. Specify a solver to silence this warning.\n",
      "  FutureWarning)\n"
     ]
    },
    {
     "name": "stdout",
     "output_type": "stream",
     "text": [
      "              precision    recall  f1-score   support\n",
      "\n",
      "           0       0.72      0.97      0.82      1759\n",
      "           1       0.89      0.41      0.56      1141\n",
      "\n",
      "    accuracy                           0.75      2900\n",
      "   macro avg       0.80      0.69      0.69      2900\n",
      "weighted avg       0.79      0.75      0.72      2900\n",
      "\n",
      "Accuracy of this classifier on test set: 0.75\n"
     ]
    },
    {
     "name": "stderr",
     "output_type": "stream",
     "text": [
      "C:\\Anaconda3\\lib\\site-packages\\sklearn\\linear_model\\logistic.py:432: FutureWarning: Default solver will be changed to 'lbfgs' in 0.22. Specify a solver to silence this warning.\n",
      "  FutureWarning)\n",
      "C:\\Anaconda3\\lib\\site-packages\\sklearn\\linear_model\\logistic.py:432: FutureWarning: Default solver will be changed to 'lbfgs' in 0.22. Specify a solver to silence this warning.\n",
      "  FutureWarning)\n"
     ]
    },
    {
     "name": "stdout",
     "output_type": "stream",
     "text": [
      "0.7540622770241299\n"
     ]
    },
    {
     "data": {
      "image/png": "[encoded data removed]",
      "text/plain": [
       "<Figure size 432x288 with 1 Axes>"
      ]
     },
     "metadata": {
      "needs_background": "light"
     },
     "output_type": "display_data"
    }
   ],
   "source": [
    "###### Fit on logistic regression  ##########\n",
    "\n",
    "X_list_cancel_final=[\n",
    "    'm_TenureYr', \n",
    "        'm_OccupationMissing', 'm_IncomeMissing', \n",
    "        'm_HomeownerFlag', 'm_memberage',\n",
    "      'm_LenResidence', 'Occ_Retired',\n",
    "         'm_Income', \n",
    "        'm_PrimaryMember', 'm_OptIn_Publication', \n",
    "        'm_NewMover', \n",
    "    'Ed_Completed College',\n",
    "]\n",
    "\n",
    "Modeling_X=cancel_train[X_list_cancel_final]\n",
    "Test_X=cancel_test[X_list_cancel_final]\n",
    "\n",
    "X_train = sm.add_constant(Modeling_X)\n",
    "y_train = cancel_train.loc[:,'Voluntary Cancel Flag']\n",
    "\n",
    "X_test = sm.add_constant(Test_X)\n",
    "y_test = cancel_test.loc[:,'Voluntary Cancel Flag']\n",
    "\n",
    "logreg = LogisticRegression()\n",
    "logreg.fit(X_train,y_train )\n",
    "\n",
    "y_pred = logreg.predict(X_test)\n",
    "\n",
    "from sklearn.metrics import classification_report\n",
    "print(classification_report(y_test, y_pred))\n",
    "\n",
    "y_pred = logreg.predict(X_test)\n",
    "print('Accuracy of this classifier on test set: {:.2f}'.format(logreg.score(X_test, y_test)))\n",
    "\n",
    "from sklearn.model_selection import cross_val_score\n",
    "scores = cross_val_score(logreg, X, y, cv=5)\n",
    "print(scores.mean())\n",
    "\n",
    "from sklearn.metrics import roc_auc_score\n",
    "from sklearn.metrics import roc_curve\n",
    "logit_roc_auc = roc_auc_score(y_test, logreg.predict(X_test))\n",
    "fpr, tpr, thresholds = roc_curve(y_test, logreg.predict_proba(X_test)[:,1])\n",
    "plt.figure()\n",
    "plt.plot(fpr, tpr, label='Logistic Regression (area = %0.2f)' % logit_roc_auc)\n",
    "plt.plot([0, 1], [0, 1],'r--')\n",
    "plt.xlim([0.0, 1.0])\n",
    "plt.ylim([0.0, 1.05])\n",
    "plt.xlabel('False Positive Rate')\n",
    "plt.ylabel('True Positive Rate')\n",
    "plt.title('Receiver operating characteristic')\n",
    "plt.legend(loc=\"lower right\")\n",
    "plt.savefig('Log_ROC')\n",
    "plt.show()"
   ]
  },
  {
   "cell_type": "code",
   "execution_count": 360,
   "metadata": {},
   "outputs": [
    {
     "name": "stdout",
     "output_type": "stream",
     "text": [
      "              precision    recall  f1-score   support\n",
      "\n",
      "           0       0.66      0.86      0.74      1759\n",
      "           1       0.58      0.31      0.40      1141\n",
      "\n",
      "    accuracy                           0.64      2900\n",
      "   macro avg       0.62      0.58      0.57      2900\n",
      "weighted avg       0.63      0.64      0.61      2900\n",
      "\n",
      "Accuracy of this classifier on test set: 0.64\n",
      "0.614696174224097\n"
     ]
    },
    {
     "name": "stderr",
     "output_type": "stream",
     "text": [
      "C:\\Anaconda3\\lib\\site-packages\\sklearn\\linear_model\\stochastic_gradient.py:561: ConvergenceWarning: Maximum number of iteration reached before convergence. Consider increasing max_iter to improve the fit.\n",
      "  ConvergenceWarning)\n",
      "C:\\Anaconda3\\lib\\site-packages\\sklearn\\linear_model\\stochastic_gradient.py:561: ConvergenceWarning: Maximum number of iteration reached before convergence. Consider increasing max_iter to improve the fit.\n",
      "  ConvergenceWarning)\n",
      "C:\\Anaconda3\\lib\\site-packages\\sklearn\\linear_model\\stochastic_gradient.py:561: ConvergenceWarning: Maximum number of iteration reached before convergence. Consider increasing max_iter to improve the fit.\n",
      "  ConvergenceWarning)\n",
      "C:\\Anaconda3\\lib\\site-packages\\sklearn\\linear_model\\stochastic_gradient.py:561: ConvergenceWarning: Maximum number of iteration reached before convergence. Consider increasing max_iter to improve the fit.\n",
      "  ConvergenceWarning)\n",
      "C:\\Anaconda3\\lib\\site-packages\\sklearn\\linear_model\\stochastic_gradient.py:561: ConvergenceWarning: Maximum number of iteration reached before convergence. Consider increasing max_iter to improve the fit.\n",
      "  ConvergenceWarning)\n",
      "C:\\Anaconda3\\lib\\site-packages\\sklearn\\linear_model\\stochastic_gradient.py:561: ConvergenceWarning: Maximum number of iteration reached before convergence. Consider increasing max_iter to improve the fit.\n",
      "  ConvergenceWarning)\n"
     ]
    }
   ],
   "source": [
    "###### Fit on SGD  ##########\n",
    "from sklearn.linear_model import SGDClassifier\n",
    "\n",
    "SGDclf = SGDClassifier(loss=\"squared_hinge\", penalty=\"l2\", max_iter=20)\n",
    "SGDclf.fit(X, y)\n",
    "\n",
    "y_pred = SGDclf.predict(X_test)\n",
    "\n",
    "from sklearn.metrics import classification_report\n",
    "print(classification_report(y_test, y_pred))\n",
    "\n",
    "y_pred = SGDclf.predict(X_test)\n",
    "print('Accuracy of this classifier on test set: {:.2f}'.format(SGDclf.score(X_test, y_test)))\n",
    "\n",
    "from sklearn.model_selection import cross_val_score\n",
    "scores = cross_val_score(SGDclf, X, y, cv=5)\n",
    "print(scores.mean())"
   ]
  },
  {
   "cell_type": "code",
   "execution_count": 361,
   "metadata": {},
   "outputs": [
    {
     "name": "stdout",
     "output_type": "stream",
     "text": [
      "[0.80558428 0.8319545  0.8256596  0.82608696 0.83333333]\n",
      "[0.74974147 0.83764219 0.8189343  0.81625259 0.82971014]\n",
      "[0.73319545 0.81282316 0.80393171 0.813147   0.79037267]\n"
     ]
    }
   ],
   "source": [
    "from sklearn.model_selection import cross_val_score\n",
    "from sklearn.datasets import make_blobs\n",
    "from sklearn.ensemble import RandomForestClassifier\n",
    "from sklearn.ensemble import ExtraTreesClassifier\n",
    "from sklearn.tree import DecisionTreeClassifier\n",
    "\n",
    "DT = DecisionTreeClassifier(max_depth=30, min_samples_split=100,min_samples_leaf=50,random_state=0)\n",
    "print(cross_val_score(DT, X, y, cv=5))\n",
    "\n",
    "RF = RandomForestClassifier(n_estimators=20, max_depth=30,min_samples_split=100,min_samples_leaf=50, random_state=0)\n",
    "print(cross_val_score(RF, X, y, cv=5))\n",
    "\n",
    "ET = ExtraTreesClassifier(n_estimators=20, max_depth=30,min_samples_split=100,min_samples_leaf=50, random_state=0)\n",
    "print(cross_val_score(ET, X, y, cv=5))"
   ]
  },
  {
   "cell_type": "code",
   "execution_count": 362,
   "metadata": {},
   "outputs": [
    {
     "name": "stdout",
     "output_type": "stream",
     "text": [
      "count    5.867000e+03\n",
      "mean     1.504961e+07\n",
      "std      1.911199e+07\n",
      "min      8.750000e+02\n",
      "25%      4.596366e+06\n",
      "50%      1.016684e+07\n",
      "75%      1.647581e+07\n",
      "max      1.000791e+08\n",
      "Name: Household Key, dtype: float64\n"
     ]
    }
   ],
   "source": [
    "######### For probabiliy of voluntary cancallation - Decision tree classifier is best ######\n",
    "\n",
    "DT.fit(X_train, y_train)\n",
    "y_train_pred= pd.DataFrame(DT.predict_proba(X_train), columns = ['Pred_Prob_Voluntary_Cancel0','Pred_Prob_Voluntary_Cancel1']) \n",
    "y_test_pred = pd.DataFrame(DT.predict_proba(X_test), columns = ['Pred_Prob_Voluntary_Cancel0','Pred_Prob_Voluntary_Cancel1']) \n",
    "\n",
    "#print(y_test_pred.head(10))\n",
    "cancel_train.reset_index(drop=True, inplace=True)\n",
    "y_train_pred.reset_index(drop=True, inplace=True)\n",
    "cancel_test.reset_index(drop=True, inplace=True)\n",
    "y_test_pred.reset_index(drop=True, inplace=True)\n",
    "cancel_train_out=pd.concat([cancel_train, y_train_pred],axis=1)\n",
    "cancel_test_out=pd.concat([cancel_test, y_test_pred],axis=1)\n",
    "\n",
    "cancel_out=pd.concat([cancel_train_out, cancel_test_out],axis=0)\n",
    "# only keep the active member prediction for segementation.\n",
    "cancel_out_active=cancel_out[cancel_out['Voluntary Cancel Flag']==0]\n",
    "#cancel_out.to_csv(r'C:\\Mark_Mao\\MLAL_capstone\\CleanSet\\cancel_out.csv')\n",
    "print(cancel_out_active['Household Key'].describe())"
   ]
  },
  {
   "cell_type": "code",
   "execution_count": 364,
   "metadata": {
    "scrolled": true
   },
   "outputs": [
    {
     "name": "stdout",
     "output_type": "stream",
     "text": [
      "Warning: Maximum number of iterations has been exceeded.\n",
      "         Current function value: 0.591102\n",
      "         Iterations: 35\n",
      "                                        Results: Logit\n",
      "===============================================================================================\n",
      "Model:                         Logit                      Pseudo R-squared:           0.012    \n",
      "Dependent Variable:            m_PlusMember               AIC:                        4940.1301\n",
      "Date:                          2020-05-30 10:20           BIC:                        5211.8989\n",
      "No. Observations:              4106                       Log-Likelihood:             -2427.1  \n",
      "Df Model:                      42                         LL-Null:                    -2456.4  \n",
      "Df Residuals:                  4063                       LLR p-value:                0.045855 \n",
      "Converged:                     0.0000                     Scale:                      1.0000   \n",
      "No. Iterations:                35.0000                                                         \n",
      "-----------------------------------------------------------------------------------------------\n",
      "                                  Coef.    Std.Err.      z    P>|z|      [0.025       0.975]   \n",
      "-----------------------------------------------------------------------------------------------\n",
      "m_ProfileMissing                  1.6028 1774507.0642  0.0000 1.0000 -3477968.3333 3477971.5389\n",
      "m_TenureYr                        0.0015       0.0026  0.5882 0.5564       -0.0035       0.0065\n",
      "m_OccupationMissing              -0.2238       0.1545 -1.4488 0.1474       -0.5265       0.0790\n",
      "m_AgeMissing                     -0.0872  597431.2717 -0.0000 1.0000 -1170943.8629 1170943.6886\n",
      "m_IncomeMissing                   0.4107       0.7508  0.5470 0.5844       -1.0609       1.8822\n",
      "m_HomeownerFlag                  -0.1604       0.2339 -0.6860 0.4927       -0.6188       0.2979\n",
      "m_RenterFlag                      0.0719       0.2702  0.2659 0.7903       -0.4578       0.6015\n",
      "m_memberage                      -0.0016       0.0022 -0.7345 0.4626       -0.0060       0.0027\n",
      "m_DwellMissing                   -0.1906          nan     nan    nan           nan          nan\n",
      "m_nChild                         -0.0738       0.0625 -1.1809 0.2377       -0.1963       0.0487\n",
      "m_LenResidence                    0.0009       0.0094  0.0998 0.9205       -0.0175       0.0194\n",
      "m_Income                          0.0000       0.0000  0.5293 0.5966       -0.0000       0.0000\n",
      "m_Credit                          0.0001       0.0006  0.0929 0.9260       -0.0010       0.0011\n",
      "m_MailRespondYes                 -0.1901       0.2338 -0.8130 0.4162       -0.6484       0.2682\n",
      "m_NoChild                        -0.1411       0.1281 -1.1011 0.2708       -0.3922       0.1100\n",
      "m_PrimaryMember                   0.1433       0.0886  1.6178 0.1057       -0.0303       0.3170\n",
      "m_OptIn_Publication              -0.4659       0.4335 -1.0745 0.2826       -1.3156       0.3839\n",
      "m_CashCallYes                     0.0813       0.6962  0.1168 0.9071       -1.2833       1.4459\n",
      "m_MosaicMIssing                  -2.1106 1772920.2513 -0.0000 1.0000 -3474861.9506 3474857.7294\n",
      "m_NewMover                        0.0404       0.1044  0.3870 0.6988       -0.1643       0.2451\n",
      "Occ_Blue_Collar                  -0.2180  629296.4780 -0.0000 1.0000 -1233398.6505 1233398.2146\n",
      "Occ_Management                    0.2717  632083.7106  0.0000 1.0000 -1238861.0363 1238861.5797\n",
      "Occ_OfficeAdmin                   0.0448  635907.4666  0.0000 1.0000 -1246355.6872 1246355.7769\n",
      "Occ_Other                         0.2423  628340.9432  0.0000 1.0000 -1231525.3763 1231525.8610\n",
      "Occ_Professional                  0.0667  635373.5705  0.0000 1.0000 -1245309.2482 1245309.3815\n",
      "Occ_Retired                      -0.0206  633020.7992 -0.0000 1.0000 -1240697.9886 1240697.9473\n",
      "Occ_Sales                         0.0229  627791.6020  0.0000 1.0000 -1230448.9068 1230448.9526\n",
      "Occ_Technical                    -0.4970  626704.6514 -0.0000 1.0000 -1228319.0427 1228318.0486\n",
      "Ed_Completed College              0.2713       0.1314  2.0640 0.0390        0.0137       0.5289\n",
      "Ed_Graduated School              -0.0352       0.3185 -0.1104 0.9121       -0.6594       0.5891\n",
      "Ed_High School                    0.1741       0.1148  1.5161 0.1295       -0.0510       0.3991\n",
      "Ed_Some College                   0.0220       0.1132  0.1947 0.8457       -0.1998       0.2439\n",
      "Mosaic_Bourgeois Prosperity      -1.9422 1773463.6242 -0.0000 1.0000 -3475926.7736 3475922.8892\n",
      "Mosaic_Career and Family         -2.6321 1773744.2322 -0.0000 1.0000 -3476477.4451 3476472.1808\n",
      "Mosaic_Comfortable Retirement    -1.8783 1773930.3444 -0.0000 1.0000 -3476841.4643 3476837.7078\n",
      "Mosaic_Hard Working Blue Collar  -2.0308 1773715.2381 -0.0000 1.0000 -3476420.0164 3476415.9547\n",
      "Mosaic_Low Income Elders         -1.5829 1774148.2298 -0.0000 1.0000 -3477268.2164 3477265.0507\n",
      "Mosaic_Metropolitan Strugglers   -1.9048 1773872.5591 -0.0000 1.0000 -3476728.2339 3476724.4242\n",
      "Mosaic_Post Industrial Survivors -1.2175 1773354.1751 -0.0000 1.0000 -3475711.5325 3475709.0975\n",
      "Mosaic_Routine Service Workers   -1.9660 1774322.1448 -0.0000 1.0000 -3477609.4668 3477605.5349\n",
      "Mosaic_Rural Inheritance         20.6390 1774134.8421  0.0000 1.0000 -3477219.7552 3477261.0333\n",
      "Mosaic_Sophisticated Singles     -1.7710 1774645.6189 -0.0000 1.0000 -3478243.2693 3478239.7274\n",
      "m_AutoRenew                       0.2074       0.0895  2.3167 0.0205        0.0319       0.3828\n",
      "Dwell_MFDU                       -0.2891          nan     nan    nan           nan          nan\n",
      "Dwell_POBOX                       0.6031          nan     nan    nan           nan          nan\n",
      "Dwell_SFDU                       -0.2107          nan     nan    nan           nan          nan\n",
      "===============================================================================================\n",
      "\n"
     ]
    },
    {
     "name": "stderr",
     "output_type": "stream",
     "text": [
      "C:\\Anaconda3\\lib\\site-packages\\statsmodels\\base\\model.py:512: ConvergenceWarning: Maximum Likelihood optimization failed to converge. Check mle_retvals\n",
      "  \"Check mle_retvals\", ConvergenceWarning)\n"
     ]
    }
   ],
   "source": [
    "########### Fit on  Plus/Premier membership vs basic  #############\n",
    "\n",
    "Modeling_X=prod_train[X_list]\n",
    "Test_X=prod_test[X_list]\n",
    "\n",
    "X_train = sm.add_constant(Modeling_X)\n",
    "y_train = prod_train.loc[:,'m_PlusMember']\n",
    "\n",
    "X_test = sm.add_constant(Test_X)\n",
    "y_test = prod_test.loc[:,'m_PlusMember']\n",
    "\n",
    "logit_model_plus=sm.Logit(y_train,X_train)\n",
    "result=logit_model_plus.fit()\n",
    "print(result.summary2())\n",
    "\n",
    "# It is not an easy target to predict with what fields we have. Will not persue."
   ]
  },
  {
   "cell_type": "code",
   "execution_count": 365,
   "metadata": {},
   "outputs": [
    {
     "data": {
      "image/png": "[encoded data removed]",
      "text/plain": [
       "<Figure size 432x288 with 1 Axes>"
      ]
     },
     "metadata": {
      "needs_background": "light"
     },
     "output_type": "display_data"
    },
    {
     "data": {
      "text/plain": [
       "<Figure size 432x288 with 0 Axes>"
      ]
     },
     "metadata": {},
     "output_type": "display_data"
    }
   ],
   "source": [
    "sns.countplot(x='FSV CMSI Flag',data=Profile_activeset,palette='hls')\n",
    "plt.show()\n",
    "plt.savefig('count_plot')"
   ]
  },
  {
   "cell_type": "code",
   "execution_count": 366,
   "metadata": {
    "scrolled": false
   },
   "outputs": [
    {
     "name": "stdout",
     "output_type": "stream",
     "text": [
      "Warning: Maximum number of iterations has been exceeded.\n",
      "         Current function value: 0.194282\n",
      "         Iterations: 35\n",
      "                                                Results: Logit\n",
      "==============================================================================================================\n",
      "Model:                              Logit                           Pseudo R-squared:                0.034    \n",
      "Dependent Variable:                 FSV CMSI Flag                   AIC:                             1681.4443\n",
      "Date:                               2020-05-30 10:20                BIC:                             1953.2131\n",
      "No. Observations:                   4106                            Log-Likelihood:                  -797.72  \n",
      "Df Model:                           42                              LL-Null:                         -825.96  \n",
      "Df Residuals:                       4063                            LLR p-value:                     0.066937 \n",
      "Converged:                          0.0000                          Scale:                           1.0000   \n",
      "No. Iterations:                     35.0000                                                                   \n",
      "--------------------------------------------------------------------------------------------------------------\n",
      "                                  Coef.       Std.Err.        z    P>|z|        [0.025             0.975]     \n",
      "--------------------------------------------------------------------------------------------------------------\n",
      "m_ProfileMissing                  19.2923              nan     nan    nan                nan               nan\n",
      "m_TenureYr                         0.0005           0.0053  0.0950 0.9243            -0.0098            0.0109\n",
      "m_OccupationMissing               -0.6292           0.2802 -2.2452 0.0248            -1.1785           -0.0799\n",
      "m_AgeMissing                      -1.5053      514669.7431 -0.0000 1.0000      -1008735.6656      1008732.6551\n",
      "m_IncomeMissing                  -28.5416     2497678.3913 -0.0000 1.0000      -4895388.2335      4895331.1503\n",
      "m_HomeownerFlag                    0.0371           0.4867  0.0763 0.9392            -0.9167            0.9910\n",
      "m_RenterFlag                       0.3754           0.5379  0.6979 0.4853            -0.6789            1.4297\n",
      "m_memberage                       -0.0140           0.0042 -3.3368 0.0008            -0.0222           -0.0058\n",
      "m_DwellMissing                    -0.3029              nan     nan    nan                nan               nan\n",
      "m_nChild                          -0.1233           0.1225 -1.0064 0.3142            -0.3635            0.1168\n",
      "m_LenResidence                    -0.0326           0.0180 -1.8122 0.0700            -0.0678            0.0027\n",
      "m_Income                           0.0000           0.0000  1.8605 0.0628            -0.0000            0.0000\n",
      "m_Credit                          -0.0006           0.0011 -0.5448 0.5859            -0.0029            0.0016\n",
      "m_MailRespondYes                   0.4374           0.5570  0.7853 0.4323            -0.6543            1.5292\n",
      "m_NoChild                         -0.2019           0.2531 -0.7976 0.4251            -0.6979            0.2942\n",
      "m_PrimaryMember                    0.1838           0.1851  0.9932 0.3206            -0.1790            0.5466\n",
      "m_OptIn_Publication                0.1992           1.0362  0.1922 0.8476            -1.8317            2.2300\n",
      "m_CashCallYes                    -11.6053         537.9316 -0.0216 0.9828         -1065.9319         1042.7213\n",
      "m_MosaicMIssing                    9.8574              nan     nan    nan                nan               nan\n",
      "m_NewMover                         0.0770           0.2092  0.3679 0.7130            -0.3331            0.4870\n",
      "Occ_Blue_Collar                   -0.2709              nan     nan    nan                nan               nan\n",
      "Occ_Management                    -0.2284              nan     nan    nan                nan               nan\n",
      "Occ_OfficeAdmin                   -0.3206              nan     nan    nan                nan               nan\n",
      "Occ_Other                          0.0934              nan     nan    nan                nan               nan\n",
      "Occ_Professional                  -0.1949              nan     nan    nan                nan               nan\n",
      "Occ_Retired                       -0.4527              nan     nan    nan                nan               nan\n",
      "Occ_Sales                         -0.0322              nan     nan    nan                nan               nan\n",
      "Occ_Technical                     -0.0990              nan     nan    nan                nan               nan\n",
      "Ed_Completed College               0.3926           0.2736  1.4353 0.1512            -0.1435            0.9288\n",
      "Ed_Graduated School               -0.1839           0.7521 -0.2445 0.8069            -1.6579            1.2902\n",
      "Ed_High School                     0.5573           0.2319  2.4034 0.0162             0.1028            1.0118\n",
      "Ed_Some College                    0.3506           0.2350  1.4918 0.1358            -0.1100            0.8112\n",
      "Mosaic_Bourgeois Prosperity       10.6107              nan     nan    nan                nan               nan\n",
      "Mosaic_Career and Family          10.8488              nan     nan    nan                nan               nan\n",
      "Mosaic_Comfortable Retirement     10.2888              nan     nan    nan                nan               nan\n",
      "Mosaic_Hard Working Blue Collar    9.2302              nan     nan    nan                nan               nan\n",
      "Mosaic_Low Income Elders         -40.3678 90622274972.3796 -0.0000 1.0000 -177616395183.3174 177616395102.5817\n",
      "Mosaic_Metropolitan Strugglers   -13.9555              nan     nan    nan                nan               nan\n",
      "Mosaic_Post Industrial Survivors  10.6708              nan     nan    nan                nan               nan\n",
      "Mosaic_Routine Service Workers    10.0433              nan     nan    nan                nan               nan\n",
      "Mosaic_Rural Inheritance          -9.8458              nan     nan    nan                nan               nan\n",
      "Mosaic_Sophisticated Singles      11.9109              nan     nan    nan                nan               nan\n",
      "m_AutoRenew                       -0.0343           0.1876 -0.1827 0.8550            -0.4021            0.3335\n",
      "Dwell_MFDU                        -0.4136              nan     nan    nan                nan               nan\n",
      "Dwell_POBOX                       -0.3142              nan     nan    nan                nan               nan\n",
      "Dwell_SFDU                        -0.4745              nan     nan    nan                nan               nan\n",
      "==============================================================================================================\n",
      "\n"
     ]
    },
    {
     "name": "stderr",
     "output_type": "stream",
     "text": [
      "C:\\Anaconda3\\lib\\site-packages\\statsmodels\\base\\model.py:512: ConvergenceWarning: Maximum Likelihood optimization failed to converge. Check mle_retvals\n",
      "  \"Check mle_retvals\", ConvergenceWarning)\n"
     ]
    }
   ],
   "source": [
    "########### Feature selection on  FSV CMSI Flag  #############\n",
    "\n",
    "Modeling_X=prod_train[X_list]\n",
    "Test_X=prod_test[X_list]\n",
    "\n",
    "X_train = sm.add_constant(Modeling_X)\n",
    "y_train = prod_train.loc[:,'FSV CMSI Flag']\n",
    "\n",
    "X_test = sm.add_constant(Test_X)\n",
    "y_test = prod_test.loc[:,'FSV CMSI Flag']\n",
    "\n",
    "logit_model_CMSI=sm.Logit(y_train,X_train)\n",
    "result=logit_model_CMSI.fit()\n",
    "print(result.summary2())"
   ]
  },
  {
   "cell_type": "code",
   "execution_count": 367,
   "metadata": {},
   "outputs": [
    {
     "name": "stderr",
     "output_type": "stream",
     "text": [
      "C:\\Anaconda3\\lib\\site-packages\\sklearn\\linear_model\\logistic.py:432: FutureWarning: Default solver will be changed to 'lbfgs' in 0.22. Specify a solver to silence this warning.\n",
      "  FutureWarning)\n",
      "C:\\Anaconda3\\lib\\site-packages\\sklearn\\metrics\\classification.py:1437: UndefinedMetricWarning: Precision and F-score are ill-defined and being set to 0.0 in labels with no predicted samples.\n",
      "  'precision', 'predicted', average, warn_for)\n",
      "C:\\Anaconda3\\lib\\site-packages\\sklearn\\linear_model\\logistic.py:432: FutureWarning: Default solver will be changed to 'lbfgs' in 0.22. Specify a solver to silence this warning.\n",
      "  FutureWarning)\n",
      "C:\\Anaconda3\\lib\\site-packages\\sklearn\\linear_model\\logistic.py:432: FutureWarning: Default solver will be changed to 'lbfgs' in 0.22. Specify a solver to silence this warning.\n",
      "  FutureWarning)\n",
      "C:\\Anaconda3\\lib\\site-packages\\sklearn\\linear_model\\logistic.py:432: FutureWarning: Default solver will be changed to 'lbfgs' in 0.22. Specify a solver to silence this warning.\n",
      "  FutureWarning)\n"
     ]
    },
    {
     "name": "stdout",
     "output_type": "stream",
     "text": [
      "              precision    recall  f1-score   support\n",
      "\n",
      "           0       0.94      1.00      0.97      1657\n",
      "           1       0.00      0.00      0.00       104\n",
      "\n",
      "    accuracy                           0.94      1761\n",
      "   macro avg       0.47      0.50      0.48      1761\n",
      "weighted avg       0.89      0.94      0.91      1761\n",
      "\n",
      "Accuracy of this classifier on test set: 0.94\n",
      "0.9476380719268344\n"
     ]
    },
    {
     "data": {
      "image/png": "[encoded data removed]",
      "text/plain": [
       "<Figure size 432x288 with 1 Axes>"
      ]
     },
     "metadata": {
      "needs_background": "light"
     },
     "output_type": "display_data"
    }
   ],
   "source": [
    "\n",
    "X_list_final=[\n",
    "        'm_OccupationMissing','m_memberage',\n",
    "      'm_LenResidence', 'Occ_Retired',\n",
    "         'm_Income', 'Ed_High School'\n",
    "]\n",
    "\n",
    "Modeling_X=prod_train[X_list_final]\n",
    "Test_X=prod_test[X_list_final]\n",
    "\n",
    "X_train = sm.add_constant(Modeling_X)\n",
    "y_train = prod_train.loc[:,'FSV CMSI Flag']\n",
    "\n",
    "X_test = sm.add_constant(Test_X)\n",
    "y_test = prod_test.loc[:,'FSV CMSI Flag']\n",
    "\n",
    "logregCMSI = LogisticRegression()\n",
    "logregCMSI.fit(X_train,y_train )\n",
    "\n",
    "y_pred = logregCMSI.predict(X_test)\n",
    "\n",
    "from sklearn.metrics import classification_report\n",
    "print(classification_report(y_test, y_pred))\n",
    "\n",
    "print('Accuracy of this classifier on test set: {:.2f}'.format(logregCMSI.score(X_test, y_test)))\n",
    "\n",
    "from sklearn.model_selection import cross_val_score\n",
    "scores = cross_val_score(logregCMSI, X_train, y_train, cv=3)\n",
    "print(scores.mean())\n",
    "\n",
    "from sklearn.metrics import roc_auc_score\n",
    "from sklearn.metrics import roc_curve\n",
    "logit_roc_auc = roc_auc_score(y_test, logregCMSI.predict(X_test))\n",
    "fpr, tpr, thresholds = roc_curve(y_test, logregCMSI.predict_proba(X_test)[:,1])\n",
    "plt.figure()\n",
    "plt.plot(fpr, tpr, label='Logistic Regression (area = %0.2f)' % logit_roc_auc)\n",
    "plt.plot([0, 1], [0, 1],'r--')\n",
    "plt.xlim([0.0, 1.0])\n",
    "plt.ylim([0.0, 1.05])\n",
    "plt.xlabel('False Positive Rate')\n",
    "plt.ylabel('True Positive Rate')\n",
    "plt.title('Receiver operating characteristic')\n",
    "plt.legend(loc=\"lower right\")\n",
    "plt.savefig('Log_ROC')\n",
    "plt.show()"
   ]
  },
  {
   "cell_type": "code",
   "execution_count": 368,
   "metadata": {},
   "outputs": [
    {
     "name": "stdout",
     "output_type": "stream",
     "text": [
      "[0.94886779 0.94886779 0.9495614 ]\n",
      "[0.94886779 0.94886779 0.9495614 ]\n",
      "[0.94886779 0.94886779 0.9495614 ]\n"
     ]
    }
   ],
   "source": [
    "from sklearn.model_selection import cross_val_score\n",
    "from sklearn.datasets import make_blobs\n",
    "from sklearn.ensemble import RandomForestClassifier\n",
    "from sklearn.ensemble import ExtraTreesClassifier\n",
    "from sklearn.tree import DecisionTreeClassifier\n",
    "\n",
    "DT_CMSI = DecisionTreeClassifier(max_depth=15, min_samples_split=50,min_samples_leaf=20,random_state=0)\n",
    "print(cross_val_score(DT_CMSI, X_train, y_train, cv=3))\n",
    "\n",
    "RF_CMSI = RandomForestClassifier(n_estimators=15, max_depth=15,min_samples_split=50,min_samples_leaf=20, random_state=0)\n",
    "print(cross_val_score(RF_CMSI, X_train, y_train, cv=3))\n",
    "\n",
    "ET_CMSI = ExtraTreesClassifier(n_estimators=15, max_depth=15,min_samples_split=50,min_samples_leaf=20, random_state=0)\n",
    "print(cross_val_score(ET_CMSI, X_train, y_train, cv=3))\n",
    "\n",
    "# Will use Decision tree for better accuracy and "
   ]
  },
  {
   "cell_type": "code",
   "execution_count": 369,
   "metadata": {},
   "outputs": [],
   "source": [
    "######### For probabiliy of CMSI - Decision tree classifier is best ######\n",
    "######### Overall this model is not good at predict CMSI=1 with the fields we have ##########\n",
    "DT_CMSI.fit(X_train, y_train)\n",
    "y_train_pred= pd.DataFrame(DT_CMSI.predict_proba(X_train), columns = ['Pred_Prob_CMSI0','Pred_Prob_CMSI1']) \n",
    "y_test_pred = pd.DataFrame(DT_CMSI.predict_proba(X_test), columns = ['Pred_Prob_CMSI0','Pred_Prob_CMSI1']) \n",
    "#print(y_test_pred.head(10))\n",
    "prod_train.reset_index(drop=True, inplace=True)\n",
    "y_train_pred.reset_index(drop=True, inplace=True)\n",
    "prod_test.reset_index(drop=True, inplace=True)\n",
    "y_test_pred.reset_index(drop=True, inplace=True)\n",
    "prod_train_out=pd.concat([prod_train, y_train_pred],axis=1)\n",
    "prod_test_out=pd.concat([prod_test, y_test_pred],axis=1)\n",
    "\n",
    "#cancel_out=pd.concat([cancel_train_out, cancel_test_out],axis=0)\n",
    "# only keep the active member prediction for segementation.\n",
    "#cancel_out_active=cancel_out[cancel_out['Voluntary Cancel Flag']==0]\n",
    "#prod_test_out.to_csv(r'C:\\Mark_Mao\\MLAL_capstone\\CleanSet\\prod_out_check.csv')\n",
    "#print(cancel_out_active['Household Key'].describe())"
   ]
  },
  {
   "cell_type": "code",
   "execution_count": 370,
   "metadata": {
    "scrolled": false
   },
   "outputs": [
    {
     "data": {
      "image/png": "[encoded data removed]",
      "text/plain": [
       "<Figure size 432x288 with 1 Axes>"
      ]
     },
     "metadata": {
      "needs_background": "light"
     },
     "output_type": "display_data"
    },
    {
     "data": {
      "text/plain": [
       "<Figure size 432x288 with 0 Axes>"
      ]
     },
     "metadata": {},
     "output_type": "display_data"
    }
   ],
   "source": [
    "sns.countplot(x='FSV Credit Card Flag',data=Profile_activeset,palette='hls')\n",
    "plt.show()\n",
    "plt.savefig('count_plot')"
   ]
  },
  {
   "cell_type": "code",
   "execution_count": 371,
   "metadata": {
    "scrolled": true
   },
   "outputs": [
    {
     "name": "stderr",
     "output_type": "stream",
     "text": [
      "C:\\Anaconda3\\lib\\site-packages\\numpy\\core\\fromnumeric.py:2389: FutureWarning: Method .ptp is deprecated and will be removed in a future version. Use numpy.ptp instead.\n",
      "  return ptp(axis=axis, out=out, **kwargs)\n",
      "C:\\Anaconda3\\lib\\site-packages\\statsmodels\\base\\model.py:512: ConvergenceWarning: Maximum Likelihood optimization failed to converge. Check mle_retvals\n",
      "  \"Check mle_retvals\", ConvergenceWarning)\n"
     ]
    },
    {
     "name": "stdout",
     "output_type": "stream",
     "text": [
      "Warning: Maximum number of iterations has been exceeded.\n",
      "         Current function value: 0.246257\n",
      "         Iterations: 35\n",
      "                                       Results: Logit\n",
      "=============================================================================================\n",
      "Model:                      Logit                        Pseudo R-squared:         0.098     \n",
      "Dependent Variable:         FSV Credit Card Flag         AIC:                      2108.2590 \n",
      "Date:                       2020-05-30 10:20             BIC:                      2380.0278 \n",
      "No. Observations:           4106                         Log-Likelihood:           -1011.1   \n",
      "Df Model:                   42                           LL-Null:                  -1121.3   \n",
      "Df Residuals:               4063                         LLR p-value:              4.8563e-26\n",
      "Converged:                  0.0000                       Scale:                    1.0000    \n",
      "No. Iterations:             35.0000                                                          \n",
      "---------------------------------------------------------------------------------------------\n",
      "                                  Coef.     Std.Err.     z    P>|z|     [0.025       0.975]  \n",
      "---------------------------------------------------------------------------------------------\n",
      "m_ProfileMissing                   9.4419         nan     nan    nan          nan         nan\n",
      "m_TenureYr                         0.0123      0.0046  2.6573 0.0079       0.0032      0.0213\n",
      "m_OccupationMissing               -0.2741      0.2905 -0.9437 0.3453      -0.8434      0.2952\n",
      "m_AgeMissing                     -23.9074         nan     nan    nan          nan         nan\n",
      "m_IncomeMissing                  -15.3055   3096.7150 -0.0049 0.9961   -6084.7553   6054.1443\n",
      "m_HomeownerFlag                    0.0533      0.4266  0.1249 0.9006      -0.7828      0.8894\n",
      "m_RenterFlag                       0.0327      0.4777  0.0686 0.9453      -0.9035      0.9690\n",
      "m_memberage                        0.0146      0.0053  2.7514 0.0059       0.0042      0.0250\n",
      "m_DwellMissing                    -5.7902         nan     nan    nan          nan         nan\n",
      "m_nChild                           0.0746      0.1090  0.6847 0.4936      -0.1390      0.2882\n",
      "m_LenResidence                    -0.0201      0.0158 -1.2738 0.2028      -0.0511      0.0108\n",
      "m_Income                          -0.0000      0.0000 -1.6450 0.1000      -0.0000      0.0000\n",
      "m_Credit                          -0.0016      0.0009 -1.6699 0.0949      -0.0034      0.0003\n",
      "m_MailRespondYes                   0.5050      0.5536  0.9122 0.3617      -0.5801      1.5900\n",
      "m_NoChild                          0.2923      0.2222  1.3159 0.1882      -0.1431      0.7278\n",
      "m_PrimaryMember                    0.7370      0.1709  4.3129 0.0000       0.4021      1.0720\n",
      "m_OptIn_Publication               28.8069 495605.4501  0.0001 1.0000 -971340.0259 971397.6397\n",
      "m_CashCallYes                      0.1138      1.0839  0.1050 0.9164      -2.0106      2.2382\n",
      "m_MosaicMIssing                    6.2716         nan     nan    nan          nan         nan\n",
      "m_NewMover                        -0.1522      0.1937 -0.7856 0.4321      -0.5319      0.2275\n",
      "Occ_Blue_Collar                   -2.6692 388547.4926 -0.0000 1.0000 -761541.7610 761536.4227\n",
      "Occ_Management                    -2.8117 388547.4926 -0.0000 1.0000 -761541.9036 761536.2801\n",
      "Occ_OfficeAdmin                   -3.1817 388547.4926 -0.0000 1.0000 -761542.2735 761535.9102\n",
      "Occ_Other                         -2.9669 388547.4926 -0.0000 1.0000 -761542.0587 761536.1249\n",
      "Occ_Professional                  -2.6119 388547.4926 -0.0000 1.0000 -761541.7037 761536.4800\n",
      "Occ_Retired                       -3.1746 388547.4926 -0.0000 1.0000 -761542.2664 761535.9172\n",
      "Occ_Sales                         -3.0106 388547.4926 -0.0000 1.0000 -761542.1024 761536.0813\n",
      "Occ_Technical                     -3.4809 388547.4926 -0.0000 1.0000 -761542.5727 761535.6110\n",
      "Ed_Completed College               0.1855      0.2259  0.8214 0.4114      -0.2572      0.6283\n",
      "Ed_Graduated School                1.2259      0.3801  3.2253 0.0013       0.4810      1.9709\n",
      "Ed_High School                     0.2185      0.1984  1.1010 0.2709      -0.1704      0.6074\n",
      "Ed_Some College                    0.2011      0.1907  1.0544 0.2917      -0.1727      0.5749\n",
      "Mosaic_Bourgeois Prosperity        5.5984         nan     nan    nan          nan         nan\n",
      "Mosaic_Career and Family         -20.8339         nan     nan    nan          nan         nan\n",
      "Mosaic_Comfortable Retirement      6.1783         nan     nan    nan          nan         nan\n",
      "Mosaic_Hard Working Blue Collar    5.2441         nan     nan    nan          nan         nan\n",
      "Mosaic_Low Income Elders           6.3102         nan     nan    nan          nan         nan\n",
      "Mosaic_Metropolitan Strugglers     5.8902         nan     nan    nan          nan         nan\n",
      "Mosaic_Post Industrial Survivors   5.8213         nan     nan    nan          nan         nan\n",
      "Mosaic_Routine Service Workers     7.2265         nan     nan    nan          nan         nan\n",
      "Mosaic_Rural Inheritance          -9.2285         nan     nan    nan          nan         nan\n",
      "Mosaic_Sophisticated Singles      -9.0362         nan     nan    nan          nan         nan\n",
      "m_AutoRenew                        1.0917      0.1338  8.1612 0.0000       0.8295      1.3539\n",
      "Dwell_MFDU                        -5.8903         nan     nan    nan          nan         nan\n",
      "Dwell_POBOX                       -6.3719         nan     nan    nan          nan         nan\n",
      "Dwell_SFDU                        -5.8551         nan     nan    nan          nan         nan\n",
      "=============================================================================================\n",
      "\n"
     ]
    },
    {
     "name": "stderr",
     "output_type": "stream",
     "text": [
      "C:\\Anaconda3\\lib\\site-packages\\statsmodels\\base\\model.py:1286: RuntimeWarning: invalid value encountered in sqrt\n",
      "  bse_ = np.sqrt(np.diag(self.cov_params()))\n",
      "C:\\Anaconda3\\lib\\site-packages\\scipy\\stats\\_distn_infrastructure.py:877: RuntimeWarning: invalid value encountered in greater\n",
      "  return (self.a < x) & (x < self.b)\n",
      "C:\\Anaconda3\\lib\\site-packages\\scipy\\stats\\_distn_infrastructure.py:877: RuntimeWarning: invalid value encountered in less\n",
      "  return (self.a < x) & (x < self.b)\n",
      "C:\\Anaconda3\\lib\\site-packages\\scipy\\stats\\_distn_infrastructure.py:1831: RuntimeWarning: invalid value encountered in less_equal\n",
      "  cond2 = cond0 & (x <= self.a)\n"
     ]
    }
   ],
   "source": [
    "########### Feature selection on  Credit card Flag  #############\n",
    "\n",
    "Modeling_X=prod_train[X_list]\n",
    "Test_X=prod_test[X_list]\n",
    "\n",
    "X_train = sm.add_constant(Modeling_X)\n",
    "y_train = prod_train.loc[:,'FSV Credit Card Flag']\n",
    "\n",
    "X_test = sm.add_constant(Test_X)\n",
    "y_test = prod_test.loc[:,'FSV Credit Card Flag']\n",
    "\n",
    "logit_model_CC=sm.Logit(y_train,X_train)\n",
    "result=logit_model_CC.fit()\n",
    "print(result.summary2())"
   ]
  },
  {
   "cell_type": "code",
   "execution_count": 372,
   "metadata": {},
   "outputs": [
    {
     "name": "stderr",
     "output_type": "stream",
     "text": [
      "C:\\Anaconda3\\lib\\site-packages\\sklearn\\linear_model\\logistic.py:432: FutureWarning: Default solver will be changed to 'lbfgs' in 0.22. Specify a solver to silence this warning.\n",
      "  FutureWarning)\n",
      "C:\\Anaconda3\\lib\\site-packages\\sklearn\\metrics\\classification.py:1437: UndefinedMetricWarning: Precision and F-score are ill-defined and being set to 0.0 in labels with no predicted samples.\n",
      "  'precision', 'predicted', average, warn_for)\n",
      "C:\\Anaconda3\\lib\\site-packages\\sklearn\\linear_model\\logistic.py:432: FutureWarning: Default solver will be changed to 'lbfgs' in 0.22. Specify a solver to silence this warning.\n",
      "  FutureWarning)\n",
      "C:\\Anaconda3\\lib\\site-packages\\sklearn\\linear_model\\logistic.py:432: FutureWarning: Default solver will be changed to 'lbfgs' in 0.22. Specify a solver to silence this warning.\n",
      "  FutureWarning)\n",
      "C:\\Anaconda3\\lib\\site-packages\\sklearn\\linear_model\\logistic.py:432: FutureWarning: Default solver will be changed to 'lbfgs' in 0.22. Specify a solver to silence this warning.\n",
      "  FutureWarning)\n"
     ]
    },
    {
     "name": "stdout",
     "output_type": "stream",
     "text": [
      "              precision    recall  f1-score   support\n",
      "\n",
      "           0       0.91      1.00      0.95      1594\n",
      "           1       0.00      0.00      0.00       167\n",
      "\n",
      "    accuracy                           0.91      1761\n",
      "   macro avg       0.45      0.50      0.48      1761\n",
      "weighted avg       0.82      0.91      0.86      1761\n",
      "\n",
      "Accuracy of this classifier on test set: 0.91\n",
      "0.9223090166616866\n"
     ]
    },
    {
     "data": {
      "image/png": "[encoded data removed]",
      "text/plain": [
       "<Figure size 432x288 with 1 Axes>"
      ]
     },
     "metadata": {
      "needs_background": "light"
     },
     "output_type": "display_data"
    }
   ],
   "source": [
    "X_list_final=['m_TenureYr','m_memberage',\n",
    "      'm_PrimaryMember', 'Ed_Graduated School',\n",
    "         'm_Income', 'm_Credit','Ed_High School','m_AutoRenew'\n",
    "]\n",
    "\n",
    "Modeling_X=prod_train[X_list_final]\n",
    "Test_X=prod_test[X_list_final]\n",
    "\n",
    "X_train = sm.add_constant(Modeling_X)\n",
    "y_train = prod_train.loc[:,'FSV Credit Card Flag']\n",
    "\n",
    "X_test = sm.add_constant(Test_X)\n",
    "y_test = prod_test.loc[:,'FSV Credit Card Flag']\n",
    "\n",
    "logregCC = LogisticRegression()\n",
    "logregCC.fit(X_train,y_train )\n",
    "\n",
    "y_pred = logregCC.predict(X_test)\n",
    "\n",
    "from sklearn.metrics import classification_report\n",
    "print(classification_report(y_test, y_pred))\n",
    "\n",
    "print('Accuracy of this classifier on test set: {:.2f}'.format(logregCC.score(X_test, y_test)))\n",
    "\n",
    "from sklearn.model_selection import cross_val_score\n",
    "scores = cross_val_score(logregCC, X_train, y_train, cv=3)\n",
    "print(scores.mean())\n",
    "\n",
    "from sklearn.metrics import roc_auc_score\n",
    "from sklearn.metrics import roc_curve\n",
    "logit_roc_auc = roc_auc_score(y_test, logregCC.predict(X_test))\n",
    "fpr, tpr, thresholds = roc_curve(y_test, logregCC.predict_proba(X_test)[:,1])\n",
    "plt.figure()\n",
    "plt.plot(fpr, tpr, label='Logistic Regression (area = %0.2f)' % logit_roc_auc)\n",
    "plt.plot([0, 1], [0, 1],'r--')\n",
    "plt.xlim([0.0, 1.0])\n",
    "plt.ylim([0.0, 1.05])\n",
    "plt.xlabel('False Positive Rate')\n",
    "plt.ylabel('True Positive Rate')\n",
    "plt.title('Receiver operating characteristic')\n",
    "plt.legend(loc=\"lower right\")\n",
    "plt.savefig('Log_ROC')\n",
    "plt.show()"
   ]
  },
  {
   "cell_type": "code",
   "execution_count": 373,
   "metadata": {},
   "outputs": [
    {
     "name": "stdout",
     "output_type": "stream",
     "text": [
      "[0.91678832 0.92251462 0.91520468]\n",
      "[0.92189781 0.92251462 0.92251462]\n",
      "[0.92189781 0.92251462 0.92251462]\n"
     ]
    }
   ],
   "source": [
    "DT_CC = DecisionTreeClassifier(max_depth=15, min_samples_split=50,min_samples_leaf=20,random_state=0)\n",
    "print(cross_val_score(DT_CC, X_train, y_train, cv=3))\n",
    "\n",
    "RF_CC = RandomForestClassifier(n_estimators=15, max_depth=15,min_samples_split=50,min_samples_leaf=20, random_state=0)\n",
    "print(cross_val_score(RF_CC, X_train, y_train, cv=3))\n",
    "\n",
    "ET_CC = ExtraTreesClassifier(n_estimators=15, max_depth=15,min_samples_split=50,min_samples_leaf=20, random_state=0)\n",
    "print(cross_val_score(ET_CC, X_train, y_train, cv=3))\n",
    "\n",
    "# Will use Random Forest for better accruacy "
   ]
  },
  {
   "cell_type": "code",
   "execution_count": 374,
   "metadata": {},
   "outputs": [],
   "source": [
    "######### For probabiliy of credit card - Random Forest classifier is best ######\n",
    "\n",
    "RF_CC.fit(X_train, y_train)\n",
    "y_train_pred= pd.DataFrame(RF_CC.predict_proba(X_train), columns = ['Pred_Prob_CC0','Pred_Prob_CC1']) \n",
    "y_test_pred = pd.DataFrame(RF_CC.predict_proba(X_test), columns = ['Pred_Prob_CC0','Pred_Prob_CC1']) \n",
    "#print(y_test_pred.head(10))\n",
    "prod_train.reset_index(drop=True, inplace=True)\n",
    "y_train_pred.reset_index(drop=True, inplace=True)\n",
    "prod_test.reset_index(drop=True, inplace=True)\n",
    "y_test_pred.reset_index(drop=True, inplace=True)\n",
    "prod_train_out=pd.concat([prod_train_out, y_train_pred],axis=1)\n",
    "prod_test_out=pd.concat([prod_test_out, y_test_pred],axis=1)\n",
    "\n",
    "#cancel_out=pd.concat([cancel_train_out, cancel_test_out],axis=0)\n",
    "# only keep the active member prediction for segementation.\n",
    "#cancel_out_active=cancel_out[cancel_out['Voluntary Cancel Flag']==0]\n",
    "#prod_test_out.to_csv(r'C:\\Mark_Mao\\MLAL_capstone\\CleanSet\\prod_out_check.csv')\n",
    "#print(cancel_out_active['Household Key'].describe())"
   ]
  },
  {
   "cell_type": "code",
   "execution_count": 375,
   "metadata": {
    "scrolled": true
   },
   "outputs": [
    {
     "data": {
      "image/png": "[encoded data removed]",
      "text/plain": [
       "<Figure size 432x288 with 1 Axes>"
      ]
     },
     "metadata": {
      "needs_background": "light"
     },
     "output_type": "display_data"
    },
    {
     "data": {
      "text/plain": [
       "<Figure size 432x288 with 0 Axes>"
      ]
     },
     "metadata": {},
     "output_type": "display_data"
    }
   ],
   "source": [
    "sns.countplot(x= 'FSV Deposit Program Flag',data=Profile_activeset,palette='hls')\n",
    "plt.show()\n",
    "plt.savefig('count_plot')\n"
   ]
  },
  {
   "cell_type": "code",
   "execution_count": 376,
   "metadata": {},
   "outputs": [
    {
     "name": "stderr",
     "output_type": "stream",
     "text": [
      "C:\\Anaconda3\\lib\\site-packages\\numpy\\core\\fromnumeric.py:2389: FutureWarning: Method .ptp is deprecated and will be removed in a future version. Use numpy.ptp instead.\n",
      "  return ptp(axis=axis, out=out, **kwargs)\n"
     ]
    },
    {
     "name": "stdout",
     "output_type": "stream",
     "text": [
      "Warning: Maximum number of iterations has been exceeded.\n",
      "         Current function value: 0.024018\n",
      "         Iterations: 35\n"
     ]
    },
    {
     "name": "stderr",
     "output_type": "stream",
     "text": [
      "C:\\Anaconda3\\lib\\site-packages\\statsmodels\\base\\model.py:512: ConvergenceWarning: Maximum Likelihood optimization failed to converge. Check mle_retvals\n",
      "  \"Check mle_retvals\", ConvergenceWarning)\n"
     ]
    },
    {
     "name": "stdout",
     "output_type": "stream",
     "text": [
      "                                                  Results: Logit\n",
      "==================================================================================================================\n",
      "Model:                             Logit                                  Pseudo R-squared:               0.148   \n",
      "Dependent Variable:                FSV Deposit Program Flag               AIC:                            283.2386\n",
      "Date:                              2020-05-30 10:21                       BIC:                            555.0074\n",
      "No. Observations:                  4106                                   Log-Likelihood:                 -98.619 \n",
      "Df Model:                          42                                     LL-Null:                        -115.70 \n",
      "Df Residuals:                      4063                                   LLR p-value:                    0.80004 \n",
      "Converged:                         0.0000                                 Scale:                          1.0000  \n",
      "No. Iterations:                    35.0000                                                                        \n",
      "------------------------------------------------------------------------------------------------------------------\n",
      "                                  Coef.        Std.Err.         z    P>|z|         [0.025             0.975]      \n",
      "------------------------------------------------------------------------------------------------------------------\n",
      "m_ProfileMissing                  16.9638      67348601.6119  0.0000 1.0000     -132000816.6046     132000850.5322\n",
      "m_TenureYr                         0.0000             0.0178  0.0016 0.9987             -0.0349             0.0350\n",
      "m_OccupationMissing               24.1661        346676.2784  0.0001 0.9999        -679448.8538        679497.1860\n",
      "m_AgeMissing                     -39.1057       5359504.2986 -0.0000 1.0000      -10504474.5059      10504396.2945\n",
      "m_IncomeMissing                  -16.3448         11942.1353 -0.0014 0.9989         -23422.4998         23389.8102\n",
      "m_HomeownerFlag                    0.3117             2.1070  0.1479 0.8824             -3.8180             4.4414\n",
      "m_RenterFlag                     -19.9390         30567.4900 -0.0007 0.9995         -59931.1186         59891.2405\n",
      "m_memberage                        0.0229             0.0212  1.0819 0.2793             -0.0186             0.0645\n",
      "m_DwellMissing                    -5.6052      16713223.8734 -0.0000 1.0000      -32757322.4626      32757311.2523\n",
      "m_nChild                          -0.6177             0.6249 -0.9885 0.3229             -1.8425             0.6071\n",
      "m_LenResidence                    -0.0893             0.0593 -1.5069 0.1318             -0.2056             0.0269\n",
      "m_Income                           0.0000             0.0000  0.0636 0.9493             -0.0000             0.0000\n",
      "m_Credit                           0.0039             0.0037  1.0687 0.2852             -0.0033             0.0111\n",
      "m_MailRespondYes                  16.1427          3461.2369  0.0047 0.9963          -6767.7569          6800.0423\n",
      "m_NoChild                         -1.0430             0.9889 -1.0546 0.2916             -2.9812             0.8953\n",
      "m_PrimaryMember                    0.3992             0.6104  0.6540 0.5131             -0.7972             1.5957\n",
      "m_OptIn_Publication               10.8139           710.6497  0.0152 0.9879          -1382.0339          1403.6618\n",
      "m_CashCallYes                    -24.1360        725519.2526 -0.0000 1.0000       -1422015.7412       1421967.4693\n",
      "m_MosaicMIssing                   16.6366      67348225.5377  0.0000 1.0000     -132000079.8400     132000113.1131\n",
      "m_NewMover                        -1.2937             1.0967 -1.1796 0.2382             -3.4432             0.8558\n",
      "Occ_Blue_Collar                  -11.4599      10331168.0601 -0.0000 1.0000      -20248728.7758      20248705.8561\n",
      "Occ_Management                    10.9270       8942362.7811  0.0000 1.0000      -17526698.0607      17526719.9147\n",
      "Occ_OfficeAdmin                   11.7403       8942186.2052  0.0000 1.0000      -17526351.1650      17526374.6456\n",
      "Occ_Other                        -15.1911       8966913.4580 -0.0000 1.0000      -17574842.6213      17574812.2391\n",
      "Occ_Professional                  11.0103       9661615.6592  0.0000 1.0000      -18936407.7142      18936429.7348\n",
      "Occ_Retired                       10.5253      10330761.0665  0.0000 1.0000      -20247909.0979      20247930.1485\n",
      "Occ_Sales                        -45.1490 1614295922405.0413 -0.0000 1.0000 -3163961868348.8955 3163961868258.5977\n",
      "Occ_Technical                    -11.5084      10330913.9080 -0.0000 1.0000      -20248230.6954      20248207.6786\n",
      "Ed_Completed College             -20.8049         18500.4530 -0.0011 0.9991         -36281.0265         36239.4166\n",
      "Ed_Graduated School              -12.0616           904.9753 -0.0133 0.9894          -1785.7807          1761.6575\n",
      "Ed_High School                     0.2411             0.6540  0.3686 0.7124             -1.0408             1.5230\n",
      "Ed_Some College                   -0.6383             0.7548 -0.8456 0.3978             -2.1178             0.8412\n",
      "Mosaic_Bourgeois Prosperity       16.3317      67348065.4669  0.0000 1.0000     -131999766.4118     131999799.0753\n",
      "Mosaic_Career and Family          -1.0548      67347964.1409 -0.0000 1.0000     -131999585.2032     131999583.0935\n",
      "Mosaic_Comfortable Retirement     16.0221      67348169.3105  0.0000 1.0000     -131999970.2511     132000002.2954\n",
      "Mosaic_Hard Working Blue Collar   -0.1799      67348204.7704 -0.0000 1.0000     -132000055.9534     132000055.5936\n",
      "Mosaic_Low Income Elders         -16.4300      72129750.5826 -0.0000 1.0000     -141371729.7858     141371696.9258\n",
      "Mosaic_Metropolitan Strugglers    -8.4138      67355778.9881 -0.0000 1.0000     -132014909.3811     132014892.5536\n",
      "Mosaic_Post Industrial Survivors  -1.8646      67348277.0311 -0.0000 1.0000     -132000199.2664     132000195.5372\n",
      "Mosaic_Routine Service Workers    -1.0538      67348190.5459 -0.0000 1.0000     -132000028.9477     132000026.8402\n",
      "Mosaic_Rural Inheritance          -0.8933      67348263.3168 -0.0000 1.0000     -132000171.4156     132000169.6290\n",
      "Mosaic_Sophisticated Singles      -2.1362      67348199.7004 -0.0000 1.0000     -132000047.9727     132000043.7003\n",
      "m_AutoRenew                        0.7271             0.5418  1.3422 0.1795             -0.3347             1.7890\n",
      "Dwell_MFDU                        -6.6516      16713223.8734 -0.0000 1.0000      -32757323.5091      32757310.2059\n",
      "Dwell_POBOX                      -20.3757      16713223.9832 -0.0000 1.0000      -32757337.4484      32757296.6969\n",
      "Dwell_SFDU                        -6.4732      16713223.8734 -0.0000 1.0000      -32757323.3307      32757310.3842\n",
      "==================================================================================================================\n",
      "\n"
     ]
    }
   ],
   "source": [
    "########### Feature selection on  deposit Flag  #############\n",
    "\n",
    "Modeling_X=prod_train[X_list]\n",
    "Test_X=prod_test[X_list]\n",
    "\n",
    "X_train = sm.add_constant(Modeling_X)\n",
    "y_train = prod_train.loc[:,'FSV Deposit Program Flag']\n",
    "\n",
    "X_test = sm.add_constant(Test_X)\n",
    "y_test = prod_test.loc[:,'FSV Deposit Program Flag']\n",
    "\n",
    "logit_model_Depos=sm.Logit(y_train,X_train)\n",
    "result=logit_model_Depos.fit()\n",
    "print(result.summary2())\n"
   ]
  },
  {
   "cell_type": "code",
   "execution_count": 377,
   "metadata": {
    "scrolled": true
   },
   "outputs": [
    {
     "name": "stderr",
     "output_type": "stream",
     "text": [
      "C:\\Anaconda3\\lib\\site-packages\\sklearn\\linear_model\\logistic.py:432: FutureWarning: Default solver will be changed to 'lbfgs' in 0.22. Specify a solver to silence this warning.\n",
      "  FutureWarning)\n",
      "C:\\Anaconda3\\lib\\site-packages\\sklearn\\metrics\\classification.py:1437: UndefinedMetricWarning: Precision and F-score are ill-defined and being set to 0.0 in labels with no predicted samples.\n",
      "  'precision', 'predicted', average, warn_for)\n",
      "C:\\Anaconda3\\lib\\site-packages\\sklearn\\linear_model\\logistic.py:432: FutureWarning: Default solver will be changed to 'lbfgs' in 0.22. Specify a solver to silence this warning.\n",
      "  FutureWarning)\n",
      "C:\\Anaconda3\\lib\\site-packages\\sklearn\\linear_model\\logistic.py:432: FutureWarning: Default solver will be changed to 'lbfgs' in 0.22. Specify a solver to silence this warning.\n",
      "  FutureWarning)\n",
      "C:\\Anaconda3\\lib\\site-packages\\sklearn\\linear_model\\logistic.py:432: FutureWarning: Default solver will be changed to 'lbfgs' in 0.22. Specify a solver to silence this warning.\n",
      "  FutureWarning)\n"
     ]
    },
    {
     "name": "stdout",
     "output_type": "stream",
     "text": [
      "              precision    recall  f1-score   support\n",
      "\n",
      "           0       1.00      1.00      1.00      1754\n",
      "           1       0.00      0.00      0.00         7\n",
      "\n",
      "    accuracy                           1.00      1761\n",
      "   macro avg       0.50      0.50      0.50      1761\n",
      "weighted avg       0.99      1.00      0.99      1761\n",
      "\n",
      "Accuracy of this classifier on test set: 1.00\n",
      "0.9956161709362279\n"
     ]
    },
    {
     "data": {
      "image/png": "[encoded data removed]",
      "text/plain": [
       "<Figure size 432x288 with 1 Axes>"
      ]
     },
     "metadata": {
      "needs_background": "light"
     },
     "output_type": "display_data"
    }
   ],
   "source": [
    "# no single field has low p-value -> will be a model with very limited predicitive power\n",
    "# set p-value <25% to build the model.\n",
    "X_list_final=['m_LenResidence','m_NewMover','m_AutoRenew'\n",
    "]\n",
    "\n",
    "Modeling_X=prod_train[X_list_final]\n",
    "Test_X=prod_test[X_list_final]\n",
    "\n",
    "X_train = sm.add_constant(Modeling_X)\n",
    "y_train = prod_train.loc[:,'FSV Deposit Program Flag']\n",
    "\n",
    "X_test = sm.add_constant(Test_X)\n",
    "y_test = prod_test.loc[:,'FSV Deposit Program Flag']\n",
    "\n",
    "logregdepos = LogisticRegression()\n",
    "logregdepos.fit(X_train,y_train )\n",
    "\n",
    "y_pred = logregdepos.predict(X_test)\n",
    "\n",
    "from sklearn.metrics import classification_report\n",
    "print(classification_report(y_test, y_pred))\n",
    "\n",
    "print('Accuracy of this classifier on test set: {:.2f}'.format(logregdepos.score(X_test, y_test)))\n",
    "\n",
    "from sklearn.model_selection import cross_val_score\n",
    "scores = cross_val_score(logregdepos, X_train, y_train, cv=3)\n",
    "print(scores.mean())\n",
    "\n",
    "from sklearn.metrics import roc_auc_score\n",
    "from sklearn.metrics import roc_curve\n",
    "logit_roc_auc = roc_auc_score(y_test, logregdepos.predict(X_test))\n",
    "fpr, tpr, thresholds = roc_curve(y_test, logregdepos.predict_proba(X_test)[:,1])\n",
    "plt.figure()\n",
    "plt.plot(fpr, tpr, label='Logistic Regression (area = %0.1f)' % logit_roc_auc)\n",
    "plt.plot([0, 1], [0, 1],'r--')\n",
    "plt.xlim([0.0, 1.0])\n",
    "plt.ylim([0.0, 1.05])\n",
    "plt.xlabel('False Positive Rate')\n",
    "plt.ylabel('True Positive Rate')\n",
    "plt.title('Receiver operating characteristic')\n",
    "plt.legend(loc=\"lower right\")\n",
    "plt.savefig('Log_ROC')\n",
    "plt.show()\n",
    "\n",
    "# AUC is showing that model is not doing better than a random guess.\n",
    "# Here we may need to assign probability as the constant for every observation later."
   ]
  },
  {
   "cell_type": "code",
   "execution_count": 378,
   "metadata": {},
   "outputs": [
    {
     "name": "stdout",
     "output_type": "stream",
     "text": [
      "[0.99561724 0.99561724 0.99561404]\n",
      "[0.99561724 0.99561724 0.99561404]\n",
      "[0.99561724 0.99561724 0.99561404]\n"
     ]
    }
   ],
   "source": [
    "DT_depos = DecisionTreeClassifier(max_depth=15, min_samples_split=50,min_samples_leaf=20,random_state=0)\n",
    "print(cross_val_score(DT_depos, X_train, y_train, cv=3))\n",
    "\n",
    "RF_depos = RandomForestClassifier(n_estimators=15, max_depth=15,min_samples_split=50,min_samples_leaf=20, random_state=0)\n",
    "print(cross_val_score(RF_depos, X_train, y_train, cv=3))\n",
    "\n",
    "ET_depos = ExtraTreesClassifier(n_estimators=15, max_depth=15,min_samples_split=50,min_samples_leaf=20, random_state=0)\n",
    "print(cross_val_score(ET_depos, X_train, y_train, cv=3))"
   ]
  },
  {
   "cell_type": "code",
   "execution_count": 379,
   "metadata": {},
   "outputs": [
    {
     "name": "stderr",
     "output_type": "stream",
     "text": [
      "C:\\Anaconda3\\lib\\site-packages\\numpy\\core\\fromnumeric.py:2389: FutureWarning: Method .ptp is deprecated and will be removed in a future version. Use numpy.ptp instead.\n",
      "  return ptp(axis=axis, out=out, **kwargs)\n",
      "C:\\Anaconda3\\lib\\site-packages\\sklearn\\metrics\\classification.py:1437: UndefinedMetricWarning: Precision and F-score are ill-defined and being set to 0.0 in labels with no predicted samples.\n",
      "  'precision', 'predicted', average, warn_for)\n"
     ]
    },
    {
     "name": "stdout",
     "output_type": "stream",
     "text": [
      "              precision    recall  f1-score   support\n",
      "\n",
      "           0       1.00      1.00      1.00      1754\n",
      "           1       0.00      0.00      0.00         7\n",
      "\n",
      "    accuracy                           1.00      1761\n",
      "   macro avg       0.50      0.50      0.50      1761\n",
      "weighted avg       0.99      1.00      0.99      1761\n",
      "\n",
      "Accuracy of this classifier on test set: 1.00\n",
      "0.9956161709362279\n"
     ]
    },
    {
     "data": {
      "image/png": "[encoded data removed]",
      "text/plain": [
       "<Figure size 432x288 with 1 Axes>"
      ]
     },
     "metadata": {
      "needs_background": "light"
     },
     "output_type": "display_data"
    }
   ],
   "source": [
    "# no single field has low p-value -> will be a model with very limited predicitive power\n",
    "# set p-value <25% to build the model.\n",
    "X_list_final=['m_LenResidence','m_NewMover','m_AutoRenew'\n",
    "]\n",
    "\n",
    "Modeling_X=prod_train[X_list_final]\n",
    "Test_X=prod_test[X_list_final]\n",
    "\n",
    "X_train = sm.add_constant(Modeling_X)\n",
    "y_train = prod_train.loc[:,'FSV Deposit Program Flag']\n",
    "\n",
    "X_test = sm.add_constant(Test_X)\n",
    "y_test = prod_test.loc[:,'FSV Deposit Program Flag']\n",
    "\n",
    "RF_depos.fit(X_train,y_train )\n",
    "\n",
    "y_pred = RF_depos.predict(X_test)\n",
    "\n",
    "from sklearn.metrics import classification_report\n",
    "print(classification_report(y_test, y_pred))\n",
    "\n",
    "print('Accuracy of this classifier on test set: {:.2f}'.format(RF_depos.score(X_test, y_test)))\n",
    "\n",
    "from sklearn.model_selection import cross_val_score\n",
    "scores = cross_val_score(RF_depos, X_train, y_train, cv=3)\n",
    "print(scores.mean())\n",
    "\n",
    "from sklearn.metrics import roc_auc_score\n",
    "from sklearn.metrics import roc_curve\n",
    "logit_roc_auc = roc_auc_score(y_test, RF_depos.predict(X_test))\n",
    "fpr, tpr, thresholds = roc_curve(y_test, RF_depos.predict_proba(X_test)[:,1])\n",
    "plt.figure()\n",
    "plt.plot(fpr, tpr, label='Logistic Regression (area = %0.1f)' % logit_roc_auc)\n",
    "plt.plot([0, 1], [0, 1],'r--')\n",
    "plt.xlim([0.0, 1.0])\n",
    "plt.ylim([0.0, 1.05])\n",
    "plt.xlabel('False Positive Rate')\n",
    "plt.ylabel('True Positive Rate')\n",
    "plt.title('Receiver operating characteristic')\n",
    "plt.legend(loc=\"lower right\")\n",
    "plt.savefig('RF_depos_ROC')\n",
    "plt.show()\n",
    "\n",
    "# AUC is showing that model is doing worse than a random guess.\n",
    "# Here will assign probability as the avg. constant for every observation later."
   ]
  },
  {
   "cell_type": "code",
   "execution_count": 380,
   "metadata": {},
   "outputs": [],
   "source": [
    "#print(y_train.describe())\n",
    "#print(y_test.describe())\n",
    "prod_train_out['Pred_Prob_Deposit1']=0.004384\n",
    "prod_test_out['Pred_Prob_Deposit1']=0.003975\n",
    "#prod_test_out.to_csv(r'C:\\Mark_Mao\\MLAL_capstone\\CleanSet\\prod_out_check.csv')"
   ]
  },
  {
   "cell_type": "code",
   "execution_count": 381,
   "metadata": {},
   "outputs": [
    {
     "data": {
      "image/png": "[encoded data removed]",
      "text/plain": [
       "<Figure size 432x288 with 1 Axes>"
      ]
     },
     "metadata": {
      "needs_background": "light"
     },
     "output_type": "display_data"
    },
    {
     "name": "stdout",
     "output_type": "stream",
     "text": [
      "count    5867.000000\n",
      "mean        0.000511\n",
      "std         0.022609\n",
      "min         0.000000\n",
      "25%         0.000000\n",
      "50%         0.000000\n",
      "75%         0.000000\n",
      "max         1.000000\n",
      "Name: FSV Home Equity Flag, dtype: float64\n"
     ]
    },
    {
     "data": {
      "text/plain": [
       "<Figure size 432x288 with 0 Axes>"
      ]
     },
     "metadata": {},
     "output_type": "display_data"
    }
   ],
   "source": [
    "sns.countplot(x= 'FSV Home Equity Flag',data=Profile_activeset,palette='hls')\n",
    "plt.show()\n",
    "plt.savefig('count_plot')\n",
    "\n",
    "print(Profile_activeset['FSV Home Equity Flag'].describe())\n",
    "# Will save the time for this and set the probability to be 0 (0.0005)"
   ]
  },
  {
   "cell_type": "code",
   "execution_count": 382,
   "metadata": {},
   "outputs": [],
   "source": [
    "# Will save the time for this and set the probability to be (0.0005) (mathematically 0)\n",
    "prod_train_out['Pred_Prob_HomeEquity1']=0.0005\n",
    "prod_test_out['Pred_Prob_HomeEquity1']=0.0005"
   ]
  },
  {
   "cell_type": "code",
   "execution_count": 383,
   "metadata": {
    "scrolled": true
   },
   "outputs": [
    {
     "data": {
      "image/png": "[encoded data removed]",
      "text/plain": [
       "<Figure size 432x288 with 1 Axes>"
      ]
     },
     "metadata": {
      "needs_background": "light"
     },
     "output_type": "display_data"
    },
    {
     "name": "stdout",
     "output_type": "stream",
     "text": [
      "count    5867.000000\n",
      "mean        0.039373\n",
      "std         0.194497\n",
      "min         0.000000\n",
      "25%         0.000000\n",
      "50%         0.000000\n",
      "75%         0.000000\n",
      "max         1.000000\n",
      "Name: FSV ID Theft Flag, dtype: float64\n"
     ]
    },
    {
     "data": {
      "text/plain": [
       "<Figure size 432x288 with 0 Axes>"
      ]
     },
     "metadata": {},
     "output_type": "display_data"
    }
   ],
   "source": [
    "sns.countplot(x='FSV ID Theft Flag',data=Profile_activeset,palette='hls')\n",
    "plt.show()\n",
    "plt.savefig('count_plot')\n",
    "\n",
    "print(Profile_activeset['FSV ID Theft Flag'].describe())"
   ]
  },
  {
   "cell_type": "code",
   "execution_count": 384,
   "metadata": {
    "scrolled": false
   },
   "outputs": [
    {
     "name": "stderr",
     "output_type": "stream",
     "text": [
      "C:\\Anaconda3\\lib\\site-packages\\numpy\\core\\fromnumeric.py:2389: FutureWarning: Method .ptp is deprecated and will be removed in a future version. Use numpy.ptp instead.\n",
      "  return ptp(axis=axis, out=out, **kwargs)\n"
     ]
    },
    {
     "name": "stdout",
     "output_type": "stream",
     "text": [
      "Warning: Maximum number of iterations has been exceeded.\n",
      "         Current function value: 0.152669\n",
      "         Iterations: 35\n",
      "                                                    Results: Logit\n",
      "=======================================================================================================================\n",
      "Model:                                 Logit                              Pseudo R-squared:                  0.059     \n",
      "Dependent Variable:                    FSV ID Theft Flag                  AIC:                               1339.7216 \n",
      "Date:                                  2020-05-30 10:21                   BIC:                               1611.4904 \n",
      "No. Observations:                      4106                               Log-Likelihood:                    -626.86   \n",
      "Df Model:                              42                                 LL-Null:                           -666.40   \n",
      "Df Residuals:                          4063                               LLR p-value:                       0.00046752\n",
      "Converged:                             0.0000                             Scale:                             1.0000    \n",
      "No. Iterations:                        35.0000                                                                         \n",
      "-----------------------------------------------------------------------------------------------------------------------\n",
      "                                  Coef.         Std.Err.         z    P>|z|          [0.025               0.975]       \n",
      "-----------------------------------------------------------------------------------------------------------------------\n",
      "m_ProfileMissing                   6.0206                 nan     nan    nan                   nan                  nan\n",
      "m_TenureYr                         0.0229              0.0069  3.3421 0.0008                0.0095               0.0364\n",
      "m_OccupationMissing               -0.5452              0.4064 -1.3415 0.1798               -1.3418               0.2514\n",
      "m_AgeMissing                     -13.1608                 nan     nan    nan                   nan                  nan\n",
      "m_IncomeMissing                  -16.5399           8413.3199 -0.0020 0.9984           -16506.3438           16473.2640\n",
      "m_HomeownerFlag                   -0.6994              0.6180 -1.1318 0.2577               -1.9106               0.5118\n",
      "m_RenterFlag                      -1.0643              0.8089 -1.3157 0.1883               -2.6497               0.5212\n",
      "m_memberage                       -0.0044              0.0059 -0.7472 0.4549               -0.0160               0.0072\n",
      "m_DwellMissing                    -3.4426         870555.1544 -0.0000 1.0000         -1706260.1918         1706253.3066\n",
      "m_nChild                          -0.2079              0.1681 -1.2363 0.2164               -0.5374               0.1217\n",
      "m_LenResidence                     0.0149              0.0232  0.6421 0.5208               -0.0306               0.0605\n",
      "m_Income                           0.0000              0.0000  0.2403 0.8101               -0.0000               0.0000\n",
      "m_Credit                          -0.0008              0.0013 -0.5742 0.5658               -0.0033               0.0018\n",
      "m_MailRespondYes                   0.5599              0.7841  0.7141 0.4752               -0.9768               2.0966\n",
      "m_NoChild                         -0.2480              0.3070 -0.8077 0.4193               -0.8498               0.3538\n",
      "m_PrimaryMember                    0.3900              0.2289  1.7036 0.0885               -0.0587               0.8387\n",
      "m_OptIn_Publication               15.1546           2278.8465  0.0067 0.9947            -4451.3025            4481.6116\n",
      "m_CashCallYes                      1.1167              1.0967  1.0182 0.3086               -1.0329               3.2663\n",
      "m_MosaicMIssing                   11.7263                 nan     nan    nan                   nan                  nan\n",
      "m_NewMover                        -0.4420              0.3016 -1.4655 0.1428               -1.0332               0.1492\n",
      "Occ_Blue_Collar                   -1.9246         214209.1847 -0.0000 1.0000          -419844.2118          419840.3626\n",
      "Occ_Management                    -1.3968         214037.2411 -0.0000 1.0000          -419506.6808          419503.8871\n",
      "Occ_OfficeAdmin                   -2.0833         214288.3266 -0.0000 1.0000          -419999.4858          419995.3192\n",
      "Occ_Other                         -1.7239         213854.1877 -0.0000 1.0000          -419148.2296          419144.7819\n",
      "Occ_Professional                  -1.2485         213755.8783 -0.0000 1.0000          -418955.0714          418952.5744\n",
      "Occ_Retired                       -1.9218         214194.1369 -0.0000 1.0000          -419814.7158          419810.8723\n",
      "Occ_Sales                         -1.7536         213890.5591 -0.0000 1.0000          -419219.5461          419216.0390\n",
      "Occ_Technical                     -1.1085         214219.6085 -0.0000 1.0000          -419863.8259          419861.6090\n",
      "Ed_Completed College               0.1748              0.3051  0.5730 0.5667               -0.4231               0.7727\n",
      "Ed_Graduated School                0.0517              0.7667  0.0675 0.9462               -1.4510               1.5544\n",
      "Ed_High School                     0.3303              0.2694  1.2262 0.2201               -0.1977               0.8583\n",
      "Ed_Some College                    0.2406              0.2624  0.9170 0.3591               -0.2737               0.7549\n",
      "Mosaic_Bourgeois Prosperity       11.2350                 nan     nan    nan                   nan                  nan\n",
      "Mosaic_Career and Family         -14.5441                 nan     nan    nan                   nan                  nan\n",
      "Mosaic_Comfortable Retirement     11.5560                 nan     nan    nan                   nan                  nan\n",
      "Mosaic_Hard Working Blue Collar   11.3970                 nan     nan    nan                   nan                  nan\n",
      "Mosaic_Low Income Elders          11.5007                 nan     nan    nan                   nan                  nan\n",
      "Mosaic_Metropolitan Strugglers   -51.9180 69709796436330.6875 -0.0000 1.0000 -136628690384878.6719 136628690384774.8281\n",
      "Mosaic_Post Industrial Survivors  11.2737                 nan     nan    nan                   nan                  nan\n",
      "Mosaic_Routine Service Workers    12.1834                 nan     nan    nan                   nan                  nan\n",
      "Mosaic_Rural Inheritance          -7.4215                 nan     nan    nan                   nan                  nan\n",
      "Mosaic_Sophisticated Singles      -0.9679                 nan     nan    nan                   nan                  nan\n",
      "m_AutoRenew                        0.0737              0.2197  0.3356 0.7372               -0.3569               0.5044\n",
      "Dwell_MFDU                        -3.2952         870555.1544 -0.0000 1.0000         -1706260.0444         1706253.4540\n",
      "Dwell_POBOX                       -2.8108         870555.1544 -0.0000 1.0000         -1706259.5600         1706253.9384\n",
      "Dwell_SFDU                        -3.6122         870555.1544 -0.0000 1.0000         -1706260.3614         1706253.1370\n",
      "=======================================================================================================================\n",
      "\n"
     ]
    },
    {
     "name": "stderr",
     "output_type": "stream",
     "text": [
      "C:\\Anaconda3\\lib\\site-packages\\statsmodels\\base\\model.py:512: ConvergenceWarning: Maximum Likelihood optimization failed to converge. Check mle_retvals\n",
      "  \"Check mle_retvals\", ConvergenceWarning)\n",
      "C:\\Anaconda3\\lib\\site-packages\\statsmodels\\base\\model.py:1286: RuntimeWarning: invalid value encountered in sqrt\n",
      "  bse_ = np.sqrt(np.diag(self.cov_params()))\n",
      "C:\\Anaconda3\\lib\\site-packages\\scipy\\stats\\_distn_infrastructure.py:877: RuntimeWarning: invalid value encountered in greater\n",
      "  return (self.a < x) & (x < self.b)\n",
      "C:\\Anaconda3\\lib\\site-packages\\scipy\\stats\\_distn_infrastructure.py:877: RuntimeWarning: invalid value encountered in less\n",
      "  return (self.a < x) & (x < self.b)\n",
      "C:\\Anaconda3\\lib\\site-packages\\scipy\\stats\\_distn_infrastructure.py:1831: RuntimeWarning: invalid value encountered in less_equal\n",
      "  cond2 = cond0 & (x <= self.a)\n"
     ]
    }
   ],
   "source": [
    "Modeling_X=prod_train[X_list]\n",
    "Test_X=prod_test[X_list]\n",
    "\n",
    "X_train = sm.add_constant(Modeling_X)\n",
    "y_train = prod_train.loc[:,'FSV ID Theft Flag']\n",
    "\n",
    "X_test = sm.add_constant(Test_X)\n",
    "y_test = prod_test.loc[:,'FSV ID Theft Flag']\n",
    "\n",
    "logit_model_IDT=sm.Logit(y_train,X_train)\n",
    "result=logit_model_IDT.fit()\n",
    "print(result.summary2())\n"
   ]
  },
  {
   "cell_type": "code",
   "execution_count": 385,
   "metadata": {},
   "outputs": [
    {
     "name": "stderr",
     "output_type": "stream",
     "text": [
      "C:\\Anaconda3\\lib\\site-packages\\sklearn\\linear_model\\logistic.py:432: FutureWarning: Default solver will be changed to 'lbfgs' in 0.22. Specify a solver to silence this warning.\n",
      "  FutureWarning)\n",
      "C:\\Anaconda3\\lib\\site-packages\\sklearn\\metrics\\classification.py:1437: UndefinedMetricWarning: Precision and F-score are ill-defined and being set to 0.0 in labels with no predicted samples.\n",
      "  'precision', 'predicted', average, warn_for)\n",
      "C:\\Anaconda3\\lib\\site-packages\\sklearn\\linear_model\\logistic.py:432: FutureWarning: Default solver will be changed to 'lbfgs' in 0.22. Specify a solver to silence this warning.\n",
      "  FutureWarning)\n",
      "C:\\Anaconda3\\lib\\site-packages\\sklearn\\linear_model\\logistic.py:432: FutureWarning: Default solver will be changed to 'lbfgs' in 0.22. Specify a solver to silence this warning.\n",
      "  FutureWarning)\n",
      "C:\\Anaconda3\\lib\\site-packages\\sklearn\\linear_model\\logistic.py:432: FutureWarning: Default solver will be changed to 'lbfgs' in 0.22. Specify a solver to silence this warning.\n",
      "  FutureWarning)\n"
     ]
    },
    {
     "name": "stdout",
     "output_type": "stream",
     "text": [
      "              precision    recall  f1-score   support\n",
      "\n",
      "           0       0.96      1.00      0.98      1687\n",
      "           1       0.00      0.00      0.00        74\n",
      "\n",
      "    accuracy                           0.96      1761\n",
      "   macro avg       0.48      0.50      0.49      1761\n",
      "weighted avg       0.92      0.96      0.94      1761\n",
      "\n",
      "Accuracy of this classifier on test set: 0.96\n",
      "0.9617634922667578\n"
     ]
    },
    {
     "data": {
      "image/png": "[encoded data removed]",
      "text/plain": [
       "<Figure size 432x288 with 1 Axes>"
      ]
     },
     "metadata": {
      "needs_background": "light"
     },
     "output_type": "display_data"
    }
   ],
   "source": [
    "X_list_final=['m_TenureYr', 'm_PrimaryMember']\n",
    "\n",
    "Modeling_X=prod_train[X_list_final]\n",
    "Test_X=prod_test[X_list_final]\n",
    "\n",
    "X_train = sm.add_constant(Modeling_X)\n",
    "y_train = prod_train.loc[:,'FSV ID Theft Flag']\n",
    "\n",
    "X_test = sm.add_constant(Test_X)\n",
    "y_test = prod_test.loc[:,'FSV ID Theft Flag']\n",
    "\n",
    "logregIDT = LogisticRegression()\n",
    "logregIDT.fit(X_train,y_train )\n",
    "\n",
    "y_pred = logregIDT.predict(X_test)\n",
    "\n",
    "from sklearn.metrics import classification_report\n",
    "print(classification_report(y_test, y_pred))\n",
    "\n",
    "print('Accuracy of this classifier on test set: {:.2f}'.format(logregIDT.score(X_test, y_test)))\n",
    "\n",
    "from sklearn.model_selection import cross_val_score\n",
    "scores = cross_val_score(logregIDT, X_train, y_train, cv=3)\n",
    "print(scores.mean())\n",
    "\n",
    "from sklearn.metrics import roc_auc_score\n",
    "from sklearn.metrics import roc_curve\n",
    "logit_roc_auc = roc_auc_score(y_test, logregIDT.predict(X_test))\n",
    "fpr, tpr, thresholds = roc_curve(y_test, logregIDT.predict_proba(X_test)[:,1])\n",
    "plt.figure()\n",
    "plt.plot(fpr, tpr, label='Logistic Regression (area = %0.2f)' % logit_roc_auc)\n",
    "plt.plot([0, 1], [0, 1],'r--')\n",
    "plt.xlim([0.0, 1.0])\n",
    "plt.ylim([0.0, 1.05])\n",
    "plt.xlabel('False Positive Rate')\n",
    "plt.ylabel('True Positive Rate')\n",
    "plt.title('Receiver operating characteristic')\n",
    "plt.legend(loc=\"lower right\")\n",
    "plt.savefig('Log_ROC')\n",
    "plt.show()"
   ]
  },
  {
   "cell_type": "code",
   "execution_count": 386,
   "metadata": {},
   "outputs": [
    {
     "name": "stdout",
     "output_type": "stream",
     "text": [
      "[0.96131387 0.9619883  0.9619883 ]\n",
      "[0.96131387 0.9619883  0.9619883 ]\n",
      "[0.96131387 0.9619883  0.9619883 ]\n"
     ]
    }
   ],
   "source": [
    "DT_IDT = DecisionTreeClassifier(max_depth=15, min_samples_split=50,min_samples_leaf=20,random_state=0)\n",
    "print(cross_val_score(DT_IDT, X_train, y_train, cv=3))\n",
    "\n",
    "RF_IDT = RandomForestClassifier(n_estimators=15, max_depth=15,min_samples_split=50,min_samples_leaf=20, random_state=0)\n",
    "print(cross_val_score(RF_IDT, X_train, y_train, cv=3))\n",
    "\n",
    "ET_IDT = ExtraTreesClassifier(n_estimators=15, max_depth=15,min_samples_split=50,min_samples_leaf=20, random_state=0)\n",
    "print(cross_val_score(ET_IDT, X_train, y_train, cv=3))\n",
    "\n",
    "# use decision tree for better balance of accuracy and simplicity"
   ]
  },
  {
   "cell_type": "code",
   "execution_count": 387,
   "metadata": {},
   "outputs": [],
   "source": [
    "DT_IDT.fit(X_train, y_train)\n",
    "y_train_pred= pd.DataFrame(DT_IDT.predict_proba(X_train), columns = ['Pred_Prob_IDtheft0','Pred_Prob_IDtheft1']) \n",
    "y_test_pred = pd.DataFrame(DT_IDT.predict_proba(X_test), columns = ['Pred_Prob_IDtheft0','Pred_Prob_IDtheft1']) \n",
    "#print(y_test_pred.head(10))\n",
    "prod_train.reset_index(drop=True, inplace=True)\n",
    "y_train_pred.reset_index(drop=True, inplace=True)\n",
    "prod_test.reset_index(drop=True, inplace=True)\n",
    "y_test_pred.reset_index(drop=True, inplace=True)\n",
    "prod_train_out=pd.concat([prod_train_out, y_train_pred],axis=1)\n",
    "prod_test_out=pd.concat([prod_test_out, y_test_pred],axis=1)\n",
    "\n",
    "#cancel_out=pd.concat([cancel_train_out, cancel_test_out],axis=0)\n",
    "# only keep the active member prediction for segementation.\n",
    "#cancel_out_active=cancel_out[cancel_out['Voluntary Cancel Flag']==0]\n",
    "prod_test_out.to_csv(r'C:\\Mark_Mao\\MLAL_capstone\\CleanSet\\prod_out_check.csv')\n",
    "#print(cancel_out_active['Household Key'].describe())"
   ]
  },
  {
   "cell_type": "code",
   "execution_count": 388,
   "metadata": {
    "scrolled": true
   },
   "outputs": [
    {
     "data": {
      "image/png": "[encoded data removed]",
      "text/plain": [
       "<Figure size 432x288 with 1 Axes>"
      ]
     },
     "metadata": {
      "needs_background": "light"
     },
     "output_type": "display_data"
    },
    {
     "name": "stdout",
     "output_type": "stream",
     "text": [
      "count    4106.000000\n",
      "mean        0.001705\n",
      "std         0.041259\n",
      "min         0.000000\n",
      "25%         0.000000\n",
      "50%         0.000000\n",
      "75%         0.000000\n",
      "max         1.000000\n",
      "Name: FSV Mortgage Flag, dtype: float64\n",
      "count    1761.000000\n",
      "mean        0.001704\n",
      "std         0.041251\n",
      "min         0.000000\n",
      "25%         0.000000\n",
      "50%         0.000000\n",
      "75%         0.000000\n",
      "max         1.000000\n",
      "Name: FSV Mortgage Flag, dtype: float64\n"
     ]
    },
    {
     "data": {
      "text/plain": [
       "<Figure size 432x288 with 0 Axes>"
      ]
     },
     "metadata": {},
     "output_type": "display_data"
    }
   ],
   "source": [
    "sns.countplot(x='FSV Mortgage Flag',data=Profile_activeset,palette='hls')\n",
    "plt.show()\n",
    "plt.savefig('count_plot')\n",
    "\n",
    "print(prod_train['FSV Mortgage Flag'].describe())\n",
    "print(prod_test['FSV Mortgage Flag'].describe())\n",
    "# Will save the time for this and set the probability to be 0 (0.0017)"
   ]
  },
  {
   "cell_type": "code",
   "execution_count": 389,
   "metadata": {},
   "outputs": [],
   "source": [
    "# Will save the time for this and set the probability to be (0.0017\n",
    "prod_train_out['Pred_Prob_Mortgage1']=0.0017\n",
    "prod_test_out['Pred_Prob_Mortgage1']=0.0017"
   ]
  },
  {
   "cell_type": "code",
   "execution_count": 390,
   "metadata": {},
   "outputs": [
    {
     "data": {
      "image/png": "[encoded data removed]",
      "text/plain": [
       "<Figure size 432x288 with 1 Axes>"
      ]
     },
     "metadata": {
      "needs_background": "light"
     },
     "output_type": "display_data"
    },
    {
     "name": "stdout",
     "output_type": "stream",
     "text": [
      "count    4106.000000\n",
      "mean        0.188992\n",
      "std         0.391550\n",
      "min         0.000000\n",
      "25%         0.000000\n",
      "50%         0.000000\n",
      "75%         0.000000\n",
      "max         1.000000\n",
      "Name: INS Client Flag, dtype: float64\n",
      "count    1761.000000\n",
      "mean        0.184554\n",
      "std         0.388046\n",
      "min         0.000000\n",
      "25%         0.000000\n",
      "50%         0.000000\n",
      "75%         0.000000\n",
      "max         1.000000\n",
      "Name: INS Client Flag, dtype: float64\n"
     ]
    },
    {
     "data": {
      "text/plain": [
       "<Figure size 432x288 with 0 Axes>"
      ]
     },
     "metadata": {},
     "output_type": "display_data"
    }
   ],
   "source": [
    "\n",
    "sns.countplot(x='INS Client Flag',data=Profile_activeset,palette='hls')\n",
    "plt.show()\n",
    "plt.savefig('count_plot')\n",
    "\n",
    "print(prod_train['INS Client Flag'].describe())\n",
    "print(prod_test['INS Client Flag'].describe())"
   ]
  },
  {
   "cell_type": "code",
   "execution_count": 391,
   "metadata": {
    "scrolled": false
   },
   "outputs": [
    {
     "name": "stderr",
     "output_type": "stream",
     "text": [
      "C:\\Anaconda3\\lib\\site-packages\\numpy\\core\\fromnumeric.py:2389: FutureWarning: Method .ptp is deprecated and will be removed in a future version. Use numpy.ptp instead.\n",
      "  return ptp(axis=axis, out=out, **kwargs)\n"
     ]
    },
    {
     "name": "stdout",
     "output_type": "stream",
     "text": [
      "Warning: Maximum number of iterations has been exceeded.\n",
      "         Current function value: 0.460940\n",
      "         Iterations: 35\n",
      "                                          Results: Logit\n",
      "==================================================================================================\n",
      "Model:                         Logit                       Pseudo R-squared:            0.049     \n",
      "Dependent Variable:            INS Client Flag             AIC:                         3871.2413 \n",
      "Date:                          2020-05-30 10:21            BIC:                         4143.0101 \n",
      "No. Observations:              4106                        Log-Likelihood:              -1892.6   \n",
      "Df Model:                      42                          LL-Null:                     -1990.4   \n",
      "Df Residuals:                  4063                        LLR p-value:                 1.1133e-21\n",
      "Converged:                     0.0000                      Scale:                       1.0000    \n",
      "No. Iterations:                35.0000                                                            \n",
      "--------------------------------------------------------------------------------------------------\n",
      "                                  Coef.     Std.Err.      z    P>|z|      [0.025         0.975]   \n",
      "--------------------------------------------------------------------------------------------------\n",
      "m_ProfileMissing                  -2.3169 7765840.5733 -0.0000 1.0000 -15220770.1503 15220765.5165\n",
      "m_TenureYr                        -0.0076       0.0029 -2.6193 0.0088        -0.0133       -0.0019\n",
      "m_OccupationMissing               -0.8850       0.1742 -5.0806 0.0000        -1.2263       -0.5436\n",
      "m_AgeMissing                      -1.0047  350843.7773 -0.0000 1.0000   -687642.1724   687640.1629\n",
      "m_IncomeMissing                    0.9862       0.7726  1.2765 0.2018        -0.5281        2.5005\n",
      "m_HomeownerFlag                    0.3852       0.2652  1.4522 0.1465        -0.1347        0.9050\n",
      "m_RenterFlag                       0.7994       0.2893  2.7633 0.0057         0.2324        1.3664\n",
      "m_memberage                        0.0018       0.0028  0.6535 0.5135        -0.0037        0.0074\n",
      "m_DwellMissing                    -0.2408  700942.3173 -0.0000 1.0000  -1373821.9381  1373821.4564\n",
      "m_nChild                           0.0380       0.0723  0.5256 0.5991        -0.1036        0.1796\n",
      "m_LenResidence                    -0.0094       0.0108 -0.8678 0.3855        -0.0306        0.0118\n",
      "m_Income                          -0.0000       0.0000 -3.8334 0.0001        -0.0000       -0.0000\n",
      "m_Credit                          -0.0009       0.0006 -1.4952 0.1349        -0.0022        0.0003\n",
      "m_MailRespondYes                   0.0075       0.3008  0.0251 0.9800        -0.5819        0.5970\n",
      "m_NoChild                          0.0826       0.1495  0.5523 0.5807        -0.2105        0.3756\n",
      "m_PrimaryMember                    0.8162       0.1093  7.4663 0.0000         0.6019        1.0305\n",
      "m_OptIn_Publication                0.4405       0.6415  0.6866 0.4923        -0.8169        1.6978\n",
      "m_CashCallYes                      0.0469       0.8082  0.0580 0.9537        -1.5372        1.6310\n",
      "m_MosaicMIssing                    1.5520 7766274.1745  0.0000 1.0000 -15221616.1240 15221619.2281\n",
      "m_NewMover                        -0.0428       0.1245 -0.3437 0.7311        -0.2868        0.2012\n",
      "Occ_Blue_Collar                   -0.1084  303635.3190 -0.0000 1.0000   -595114.3980   595114.1813\n",
      "Occ_Management                    -0.2618  312475.1246 -0.0000 1.0000   -612440.2521   612439.7286\n",
      "Occ_OfficeAdmin                   -0.4078  322140.7499 -0.0000 1.0000   -631384.6756   631383.8601\n",
      "Occ_Other                          0.1407  313414.7977  0.0000 1.0000   -614281.5751   614281.8564\n",
      "Occ_Professional                  -0.2058  333041.5567 -0.0000 1.0000   -652749.6622   652749.2506\n",
      "Occ_Retired                       -0.2341  301284.0898 -0.0000 1.0000   -590506.1991   590505.7310\n",
      "Occ_Sales                         -0.1317  279801.4560 -0.0000 1.0000   -548400.9083   548400.6448\n",
      "Occ_Technical                      0.2041  291578.4583  0.0000 1.0000   -571483.0728   571483.4810\n",
      "Ed_Completed College               0.1273       0.1607  0.7924 0.4281        -0.1876        0.4422\n",
      "Ed_Graduated School                0.6399       0.3202  1.9987 0.0456         0.0124        1.2674\n",
      "Ed_High School                     0.2630       0.1332  1.9741 0.0484         0.0019        0.5241\n",
      "Ed_Some College                    0.2630       0.1306  2.0132 0.0441         0.0070        0.5190\n",
      "Mosaic_Bourgeois Prosperity        1.3385 7765873.2988  0.0000 1.0000 -15220830.6356 15220833.3126\n",
      "Mosaic_Career and Family           1.8641 7766971.4617  0.0000 1.0000 -15222982.4697 15222986.1979\n",
      "Mosaic_Comfortable Retirement      1.4017 7766077.8298  0.0000 1.0000 -15221231.4459 15221234.2492\n",
      "Mosaic_Hard Working Blue Collar    1.5298 7765873.2988  0.0000 1.0000 -15220830.4443 15220833.5039\n",
      "Mosaic_Low Income Elders           1.1777 7766724.1124  0.0000 1.0000 -15222498.3603 15222500.7158\n",
      "Mosaic_Metropolitan Strugglers     1.8483 7766607.6455  0.0000 1.0000 -15222269.4189 15222273.1155\n",
      "Mosaic_Post Industrial Survivors   1.6587 7767055.2027  0.0000 1.0000 -15223146.8046 15223150.1220\n",
      "Mosaic_Routine Service Workers     1.4584 7766026.8030  0.0000 1.0000 -15221131.3785 15221134.2952\n",
      "Mosaic_Rural Inheritance         -17.6189 7766991.6022 -0.0000 1.0000 -15223041.4274 15223006.1896\n",
      "Mosaic_Sophisticated Singles       1.4727 7766190.4250  0.0000 1.0000 -15221452.0573 15221455.0028\n",
      "m_AutoRenew                        0.2643       0.1042  2.5371 0.0112         0.0601        0.4685\n",
      "Dwell_MFDU                        -0.4083  700942.3173 -0.0000 1.0000  -1373822.1055  1373821.2890\n",
      "Dwell_POBOX                        0.1215  700942.3173  0.0000 1.0000  -1373821.5757  1373821.8188\n",
      "Dwell_SFDU                        -0.4772  700942.3173 -0.0000 1.0000  -1373822.1744  1373821.2201\n",
      "==================================================================================================\n",
      "\n"
     ]
    },
    {
     "name": "stderr",
     "output_type": "stream",
     "text": [
      "C:\\Anaconda3\\lib\\site-packages\\statsmodels\\base\\model.py:512: ConvergenceWarning: Maximum Likelihood optimization failed to converge. Check mle_retvals\n",
      "  \"Check mle_retvals\", ConvergenceWarning)\n"
     ]
    }
   ],
   "source": [
    "Modeling_X=prod_train[X_list]\n",
    "Test_X=prod_test[X_list]\n",
    "\n",
    "X_train = sm.add_constant(Modeling_X)\n",
    "y_train = prod_train.loc[:,'INS Client Flag']\n",
    "\n",
    "X_test = sm.add_constant(Test_X)\n",
    "y_test = prod_test.loc[:,'INS Client Flag']\n",
    "\n",
    "logit_model_INS=sm.Logit(y_train,X_train)\n",
    "result=logit_model_INS.fit()\n",
    "print(result.summary2())"
   ]
  },
  {
   "cell_type": "code",
   "execution_count": 392,
   "metadata": {},
   "outputs": [
    {
     "name": "stderr",
     "output_type": "stream",
     "text": [
      "C:\\Anaconda3\\lib\\site-packages\\sklearn\\linear_model\\logistic.py:432: FutureWarning: Default solver will be changed to 'lbfgs' in 0.22. Specify a solver to silence this warning.\n",
      "  FutureWarning)\n",
      "C:\\Anaconda3\\lib\\site-packages\\sklearn\\metrics\\classification.py:1437: UndefinedMetricWarning: Precision and F-score are ill-defined and being set to 0.0 in labels with no predicted samples.\n",
      "  'precision', 'predicted', average, warn_for)\n",
      "C:\\Anaconda3\\lib\\site-packages\\sklearn\\linear_model\\logistic.py:432: FutureWarning: Default solver will be changed to 'lbfgs' in 0.22. Specify a solver to silence this warning.\n",
      "  FutureWarning)\n",
      "C:\\Anaconda3\\lib\\site-packages\\sklearn\\linear_model\\logistic.py:432: FutureWarning: Default solver will be changed to 'lbfgs' in 0.22. Specify a solver to silence this warning.\n",
      "  FutureWarning)\n",
      "C:\\Anaconda3\\lib\\site-packages\\sklearn\\linear_model\\logistic.py:432: FutureWarning: Default solver will be changed to 'lbfgs' in 0.22. Specify a solver to silence this warning.\n",
      "  FutureWarning)\n"
     ]
    },
    {
     "name": "stdout",
     "output_type": "stream",
     "text": [
      "              precision    recall  f1-score   support\n",
      "\n",
      "           0       0.82      1.00      0.90      1436\n",
      "           1       0.00      0.00      0.00       325\n",
      "\n",
      "    accuracy                           0.82      1761\n",
      "   macro avg       0.41      0.50      0.45      1761\n",
      "weighted avg       0.66      0.82      0.73      1761\n",
      "\n",
      "Accuracy of this classifier on test set: 0.82\n",
      "0.8110083767978505\n",
      "[[1436    0]\n",
      " [ 325    0]]\n"
     ]
    },
    {
     "data": {
      "image/png": "[encoded data removed]",
      "text/plain": [
       "<Figure size 432x288 with 1 Axes>"
      ]
     },
     "metadata": {
      "needs_background": "light"
     },
     "output_type": "display_data"
    }
   ],
   "source": [
    "X_list_final=['m_TenureYr','m_OccupationMissing',\n",
    "      'm_PrimaryMember', 'm_RenterFlag',\n",
    "         'm_Income', 'Ed_Graduated School','Ed_High School','Ed_Some College','m_AutoRenew'\n",
    "]\n",
    "\n",
    "Modeling_X=prod_train[X_list_final]\n",
    "Test_X=prod_test[X_list_final]\n",
    "\n",
    "X_train = sm.add_constant(Modeling_X)\n",
    "y_train = prod_train.loc[:,'INS Client Flag']\n",
    "\n",
    "X_test = sm.add_constant(Test_X)\n",
    "y_test = prod_test.loc[:,'INS Client Flag']\n",
    "\n",
    "logregINS = LogisticRegression()\n",
    "logregINS.fit(X_train,y_train )\n",
    "\n",
    "y_pred = logregINS.predict(X_test)\n",
    "\n",
    "from sklearn.metrics import classification_report\n",
    "print(classification_report(y_test, y_pred))\n",
    "\n",
    "print('Accuracy of this classifier on test set: {:.2f}'.format(logregINS.score(X_test, y_test)))\n",
    "\n",
    "\n",
    "from sklearn.model_selection import cross_val_score\n",
    "scores = cross_val_score(logregINS, X_train, y_train, cv=3)\n",
    "print(scores.mean())\n",
    "from sklearn.metrics import confusion_matrix\n",
    "confusion_matrix = confusion_matrix(y_test, y_pred)\n",
    "print(confusion_matrix)\n",
    "from sklearn.metrics import roc_auc_score\n",
    "from sklearn.metrics import roc_curve\n",
    "logit_roc_auc = roc_auc_score(y_test, logregINS.predict(X_test))\n",
    "fpr, tpr, thresholds = roc_curve(y_test, logregINS.predict_proba(X_test)[:,1])\n",
    "plt.figure()\n",
    "plt.plot(fpr, tpr, label='Logistic Regression (area = %0.2f)' % logit_roc_auc)\n",
    "plt.plot([0, 1], [0, 1],'r--')\n",
    "plt.xlim([0.0, 1.0])\n",
    "plt.ylim([0.0, 1.05])\n",
    "plt.xlabel('False Positive Rate')\n",
    "plt.ylabel('True Positive Rate')\n",
    "plt.title('Receiver operating characteristic')\n",
    "plt.legend(loc=\"lower right\")\n",
    "plt.savefig('Log_ROC')\n",
    "plt.show()"
   ]
  },
  {
   "cell_type": "code",
   "execution_count": 393,
   "metadata": {},
   "outputs": [
    {
     "name": "stdout",
     "output_type": "stream",
     "text": [
      "[0.79620161 0.81081081 0.8004386 ]\n",
      "[0.81081081 0.81081081 0.81140351]\n",
      "[0.81081081 0.81081081 0.81140351]\n"
     ]
    }
   ],
   "source": [
    "DT_INS = DecisionTreeClassifier(max_depth=15, min_samples_split=50,min_samples_leaf=20,random_state=0)\n",
    "print(cross_val_score(DT_INS, X_train, y_train, cv=3))\n",
    "\n",
    "RF_INS = RandomForestClassifier(n_estimators=15, max_depth=15,min_samples_split=50,min_samples_leaf=20, random_state=0)\n",
    "print(cross_val_score(RF_INS, X_train, y_train, cv=3))\n",
    "\n",
    "ET_INS = ExtraTreesClassifier(n_estimators=15, max_depth=15,min_samples_split=50,min_samples_leaf=20, random_state=0)\n",
    "print(cross_val_score(ET_INS, X_train, y_train, cv=3))\n",
    "\n",
    "# Random Foreast has better accuracy"
   ]
  },
  {
   "cell_type": "code",
   "execution_count": 394,
   "metadata": {},
   "outputs": [
    {
     "name": "stderr",
     "output_type": "stream",
     "text": [
      "C:\\Anaconda3\\lib\\site-packages\\numpy\\core\\fromnumeric.py:2389: FutureWarning: Method .ptp is deprecated and will be removed in a future version. Use numpy.ptp instead.\n",
      "  return ptp(axis=axis, out=out, **kwargs)\n",
      "C:\\Anaconda3\\lib\\site-packages\\sklearn\\metrics\\classification.py:1437: UndefinedMetricWarning: Precision and F-score are ill-defined and being set to 0.0 in labels with no predicted samples.\n",
      "  'precision', 'predicted', average, warn_for)\n"
     ]
    },
    {
     "name": "stdout",
     "output_type": "stream",
     "text": [
      "              precision    recall  f1-score   support\n",
      "\n",
      "           0       0.82      1.00      0.90      1436\n",
      "           1       0.00      0.00      0.00       325\n",
      "\n",
      "    accuracy                           0.82      1761\n",
      "   macro avg       0.41      0.50      0.45      1761\n",
      "weighted avg       0.66      0.82      0.73      1761\n",
      "\n",
      "Accuracy of this classifier on test set: 0.82\n",
      "0.8110083767978505\n"
     ]
    },
    {
     "data": {
      "image/png": "[encoded data removed]",
      "text/plain": [
       "<Figure size 432x288 with 1 Axes>"
      ]
     },
     "metadata": {
      "needs_background": "light"
     },
     "output_type": "display_data"
    }
   ],
   "source": [
    "X_list_final=['m_TenureYr','m_OccupationMissing',\n",
    "      'm_PrimaryMember', 'm_RenterFlag',\n",
    "         'm_Income', 'Ed_Graduated School','Ed_High School','Ed_Some College','m_AutoRenew'\n",
    "]\n",
    "\n",
    "Modeling_X=prod_train[X_list_final]\n",
    "Test_X=prod_test[X_list_final]\n",
    "\n",
    "X_train = sm.add_constant(Modeling_X)\n",
    "y_train = prod_train.loc[:,'INS Client Flag']\n",
    "\n",
    "X_test = sm.add_constant(Test_X)\n",
    "y_test = prod_test.loc[:,'INS Client Flag']\n",
    "\n",
    "RF_INS.fit(X_train,y_train )\n",
    "\n",
    "y_pred = RF_INS.predict(X_test)\n",
    "\n",
    "from sklearn.metrics import classification_report\n",
    "print(classification_report(y_test, y_pred))\n",
    "\n",
    "print('Accuracy of this classifier on test set: {:.2f}'.format(RF_INS.score(X_test, y_test)))\n",
    "\n",
    "from sklearn.model_selection import cross_val_score\n",
    "scores = cross_val_score(RF_INS, X_train, y_train, cv=3)\n",
    "print(scores.mean())\n",
    "\n",
    "from sklearn.metrics import roc_auc_score\n",
    "from sklearn.metrics import roc_curve\n",
    "logit_roc_auc = roc_auc_score(y_test, RF_INS.predict(X_test))\n",
    "fpr, tpr, thresholds = roc_curve(y_test, RF_INS.predict_proba(X_test)[:,1])\n",
    "plt.figure()\n",
    "plt.plot(fpr, tpr, label='Random Forest (area = %0.1f)' % logit_roc_auc)\n",
    "plt.plot([0, 1], [0, 1],'r--')\n",
    "plt.xlim([0.0, 1.0])\n",
    "plt.ylim([0.0, 1.05])\n",
    "plt.xlabel('False Positive Rate')\n",
    "plt.ylabel('True Positive Rate')\n",
    "plt.title('Receiver operating characteristic')\n",
    "plt.legend(loc=\"lower right\")\n",
    "plt.savefig('RF_INS_ROC')\n",
    "plt.show()"
   ]
  },
  {
   "cell_type": "code",
   "execution_count": 395,
   "metadata": {},
   "outputs": [
    {
     "name": "stderr",
     "output_type": "stream",
     "text": [
      "C:\\Anaconda3\\lib\\site-packages\\numpy\\core\\fromnumeric.py:2389: FutureWarning: Method .ptp is deprecated and will be removed in a future version. Use numpy.ptp instead.\n",
      "  return ptp(axis=axis, out=out, **kwargs)\n",
      "C:\\Anaconda3\\lib\\site-packages\\sklearn\\metrics\\classification.py:1437: UndefinedMetricWarning: Precision and F-score are ill-defined and being set to 0.0 in labels with no predicted samples.\n",
      "  'precision', 'predicted', average, warn_for)\n"
     ]
    },
    {
     "name": "stdout",
     "output_type": "stream",
     "text": [
      "              precision    recall  f1-score   support\n",
      "\n",
      "           0       0.82      1.00      0.90      1436\n",
      "           1       0.00      0.00      0.00       325\n",
      "\n",
      "    accuracy                           0.82      1761\n",
      "   macro avg       0.41      0.50      0.45      1761\n",
      "weighted avg       0.66      0.82      0.73      1761\n",
      "\n",
      "Accuracy of this classifier on test set: 0.82\n",
      "0.8110083767978505\n"
     ]
    },
    {
     "data": {
      "image/png": "[encoded data removed]",
      "text/plain": [
       "<Figure size 432x288 with 1 Axes>"
      ]
     },
     "metadata": {
      "needs_background": "light"
     },
     "output_type": "display_data"
    }
   ],
   "source": [
    "X_list_final=['m_TenureYr','m_OccupationMissing',\n",
    "      'm_PrimaryMember', 'm_RenterFlag',\n",
    "         'm_Income', 'Ed_Graduated School','Ed_High School','Ed_Some College','m_AutoRenew'\n",
    "]\n",
    "\n",
    "Modeling_X=prod_train[X_list_final]\n",
    "Test_X=prod_test[X_list_final]\n",
    "\n",
    "X_train = sm.add_constant(Modeling_X)\n",
    "y_train = prod_train.loc[:,'INS Client Flag']\n",
    "\n",
    "X_test = sm.add_constant(Test_X)\n",
    "y_test = prod_test.loc[:,'INS Client Flag']\n",
    "\n",
    "ET_INS.fit(X_train,y_train )\n",
    "\n",
    "y_pred = ET_INS.predict(X_test)\n",
    "\n",
    "from sklearn.metrics import classification_report\n",
    "print(classification_report(y_test, y_pred))\n",
    "\n",
    "print('Accuracy of this classifier on test set: {:.2f}'.format(ET_INS.score(X_test, y_test)))\n",
    "\n",
    "from sklearn.model_selection import cross_val_score\n",
    "scores = cross_val_score(ET_INS, X_train, y_train, cv=3)\n",
    "print(scores.mean())\n",
    "\n",
    "from sklearn.metrics import roc_auc_score\n",
    "from sklearn.metrics import roc_curve\n",
    "logit_roc_auc = roc_auc_score(y_test, ET_INS.predict(X_test))\n",
    "fpr, tpr, thresholds = roc_curve(y_test, ET_INS.predict_proba(X_test)[:,1])\n",
    "plt.figure()\n",
    "plt.plot(fpr, tpr, label='Extra Trees (area = %0.1f)' % logit_roc_auc)\n",
    "plt.plot([0, 1], [0, 1],'r--')\n",
    "plt.xlim([0.0, 1.0])\n",
    "plt.ylim([0.0, 1.05])\n",
    "plt.xlabel('False Positive Rate')\n",
    "plt.ylabel('True Positive Rate')\n",
    "plt.title('Receiver operating characteristic')\n",
    "plt.legend(loc=\"lower right\")\n",
    "plt.savefig('ET_INS_ROC')\n",
    "plt.show()"
   ]
  },
  {
   "cell_type": "code",
   "execution_count": 396,
   "metadata": {},
   "outputs": [
    {
     "name": "stdout",
     "output_type": "stream",
     "text": [
      "[0.72899927 0.73119065 0.70394737]\n"
     ]
    }
   ],
   "source": [
    "# not very happy with Random Forest and Extra Trees on AUC. Trying Boosting.\n",
    "from sklearn.ensemble import AdaBoostClassifier\n",
    "\n",
    "bdt_real_INS = AdaBoostClassifier(\n",
    "    DecisionTreeClassifier(max_depth=5),\n",
    "    n_estimators=200,\n",
    "    learning_rate=1)\n",
    "\n",
    "print(cross_val_score(bdt_real_INS, X_train, y_train, cv=3))"
   ]
  },
  {
   "cell_type": "code",
   "execution_count": 397,
   "metadata": {
    "scrolled": true
   },
   "outputs": [
    {
     "name": "stderr",
     "output_type": "stream",
     "text": [
      "C:\\Anaconda3\\lib\\site-packages\\numpy\\core\\fromnumeric.py:2389: FutureWarning: Method .ptp is deprecated and will be removed in a future version. Use numpy.ptp instead.\n",
      "  return ptp(axis=axis, out=out, **kwargs)\n"
     ]
    },
    {
     "name": "stdout",
     "output_type": "stream",
     "text": [
      "              precision    recall  f1-score   support\n",
      "\n",
      "           0       0.82      0.90      0.86      1436\n",
      "           1       0.24      0.15      0.18       325\n",
      "\n",
      "    accuracy                           0.76      1761\n",
      "   macro avg       0.53      0.52      0.52      1761\n",
      "weighted avg       0.72      0.76      0.73      1761\n",
      "\n",
      "Accuracy of this classifier on test set: 0.76\n",
      "0.7274708919445761\n"
     ]
    },
    {
     "data": {
      "image/png": "[encoded data removed]",
      "text/plain": [
       "<Figure size 432x288 with 1 Axes>"
      ]
     },
     "metadata": {
      "needs_background": "light"
     },
     "output_type": "display_data"
    }
   ],
   "source": [
    "X_list_final=['m_TenureYr','m_OccupationMissing',\n",
    "      'm_PrimaryMember', 'm_RenterFlag',\n",
    "         'm_Income', 'Ed_Graduated School','Ed_High School','Ed_Some College','m_AutoRenew'\n",
    "]\n",
    "\n",
    "Modeling_X=prod_train[X_list_final]\n",
    "Test_X=prod_test[X_list_final]\n",
    "\n",
    "X_train = sm.add_constant(Modeling_X)\n",
    "y_train = prod_train.loc[:,'INS Client Flag']\n",
    "\n",
    "X_test = sm.add_constant(Test_X)\n",
    "y_test = prod_test.loc[:,'INS Client Flag']\n",
    "\n",
    "bdt_real_INS.fit(X_train,y_train )\n",
    "\n",
    "y_pred = bdt_real_INS.predict(X_test)\n",
    "\n",
    "from sklearn.metrics import classification_report\n",
    "print(classification_report(y_test, y_pred))\n",
    "\n",
    "print('Accuracy of this classifier on test set: {:.2f}'.format(bdt_real_INS.score(X_test, y_test)))\n",
    "\n",
    "from sklearn.model_selection import cross_val_score\n",
    "scores = cross_val_score(bdt_real_INS, X_train, y_train, cv=3)\n",
    "print(scores.mean())\n",
    "\n",
    "from sklearn.metrics import roc_auc_score\n",
    "from sklearn.metrics import roc_curve\n",
    "logit_roc_auc = roc_auc_score(y_test, bdt_real_INS.predict(X_test))\n",
    "fpr, tpr, thresholds = roc_curve(y_test, bdt_real_INS.predict_proba(X_test)[:,1])\n",
    "plt.figure()\n",
    "plt.plot(fpr, tpr, label='Adaboost Decision Tree (area = %0.1f)' % logit_roc_auc)\n",
    "plt.plot([0, 1], [0, 1],'r--')\n",
    "plt.xlim([0.0, 1.0])\n",
    "plt.ylim([0.0, 1.05])\n",
    "plt.xlabel('False Positive Rate')\n",
    "plt.ylabel('True Positive Rate')\n",
    "plt.title('Receiver operating characteristic')\n",
    "plt.legend(loc=\"lower right\")\n",
    "plt.savefig('bdt_real_INS')\n",
    "plt.show()"
   ]
  },
  {
   "cell_type": "code",
   "execution_count": 398,
   "metadata": {},
   "outputs": [
    {
     "name": "stdout",
     "output_type": "stream",
     "text": [
      "[0.78305332 0.78743608 0.76900585]\n"
     ]
    }
   ],
   "source": [
    "from sklearn.ensemble import GradientBoostingClassifier\n",
    "\n",
    "GB_INS = GradientBoostingClassifier(learning_rate=1,min_samples_split=50, min_samples_leaf=25, n_estimators=200,random_state=0)\n",
    "print(cross_val_score(GB_INS, X_train, y_train, cv=3))"
   ]
  },
  {
   "cell_type": "code",
   "execution_count": 399,
   "metadata": {},
   "outputs": [
    {
     "name": "stderr",
     "output_type": "stream",
     "text": [
      "C:\\Anaconda3\\lib\\site-packages\\numpy\\core\\fromnumeric.py:2389: FutureWarning: Method .ptp is deprecated and will be removed in a future version. Use numpy.ptp instead.\n",
      "  return ptp(axis=axis, out=out, **kwargs)\n"
     ]
    },
    {
     "name": "stdout",
     "output_type": "stream",
     "text": [
      "              precision    recall  f1-score   support\n",
      "\n",
      "           0       0.82      0.96      0.88      1436\n",
      "           1       0.25      0.06      0.09       325\n",
      "\n",
      "    accuracy                           0.79      1761\n",
      "   macro avg       0.53      0.51      0.49      1761\n",
      "weighted avg       0.71      0.79      0.74      1761\n",
      "\n",
      "Accuracy of this classifier on test set: 0.79\n",
      "0.7798317520934875\n"
     ]
    },
    {
     "data": {
      "image/png": "[encoded data removed]",
      "text/plain": [
       "<Figure size 432x288 with 1 Axes>"
      ]
     },
     "metadata": {
      "needs_background": "light"
     },
     "output_type": "display_data"
    }
   ],
   "source": [
    "X_list_final=['m_TenureYr','m_OccupationMissing',\n",
    "      'm_PrimaryMember', 'm_RenterFlag',\n",
    "         'm_Income', 'Ed_Graduated School','Ed_High School','Ed_Some College','m_AutoRenew'\n",
    "]\n",
    "\n",
    "Modeling_X=prod_train[X_list_final]\n",
    "Test_X=prod_test[X_list_final]\n",
    "\n",
    "X_train = sm.add_constant(Modeling_X)\n",
    "y_train = prod_train.loc[:,'INS Client Flag']\n",
    "\n",
    "X_test = sm.add_constant(Test_X)\n",
    "y_test = prod_test.loc[:,'INS Client Flag']\n",
    "\n",
    "GB_INS.fit(X_train,y_train )\n",
    "\n",
    "y_pred = GB_INS.predict(X_test)\n",
    "\n",
    "from sklearn.metrics import classification_report\n",
    "print(classification_report(y_test, y_pred))\n",
    "\n",
    "print('Accuracy of this classifier on test set: {:.2f}'.format(GB_INS.score(X_test, y_test)))\n",
    "\n",
    "from sklearn.model_selection import cross_val_score\n",
    "scores = cross_val_score(GB_INS, X_train, y_train, cv=3)\n",
    "print(scores.mean())\n",
    "\n",
    "from sklearn.metrics import roc_auc_score\n",
    "from sklearn.metrics import roc_curve\n",
    "logit_roc_auc = roc_auc_score(y_test, GB_INS.predict(X_test))\n",
    "fpr, tpr, thresholds = roc_curve(y_test, GB_INS.predict_proba(X_test)[:,1])\n",
    "plt.figure()\n",
    "plt.plot(fpr, tpr, label='Gradient Boosting Tree (area = %0.1f)' % logit_roc_auc)\n",
    "plt.plot([0, 1], [0, 1],'r--')\n",
    "plt.xlim([0.0, 1.0])\n",
    "plt.ylim([0.0, 1.05])\n",
    "plt.xlabel('False Positive Rate')\n",
    "plt.ylabel('True Positive Rate')\n",
    "plt.title('Receiver operating characteristic')\n",
    "plt.legend(loc=\"lower right\")\n",
    "plt.savefig('GB_INS')\n",
    "plt.show()"
   ]
  },
  {
   "cell_type": "code",
   "execution_count": 400,
   "metadata": {},
   "outputs": [],
   "source": [
    "#After comparing multiple models, extra trees is the better model for Insurance product.\n",
    "ET_INS.fit(X_train, y_train)\n",
    "y_train_pred= pd.DataFrame(ET_INS.predict_proba(X_train), columns = ['Pred_Prob_INS0','Pred_Prob_INS1']) \n",
    "y_test_pred = pd.DataFrame(ET_INS.predict_proba(X_test), columns = ['Pred_Prob_INS0','Pred_Prob_INS1']) \n",
    "#print(y_test_pred.head(10))\n",
    "prod_train.reset_index(drop=True, inplace=True)\n",
    "y_train_pred.reset_index(drop=True, inplace=True)\n",
    "prod_test.reset_index(drop=True, inplace=True)\n",
    "y_test_pred.reset_index(drop=True, inplace=True)\n",
    "prod_train_out=pd.concat([prod_train_out, y_train_pred],axis=1)\n",
    "prod_test_out=pd.concat([prod_test_out, y_test_pred],axis=1)\n",
    "\n",
    "#cancel_out=pd.concat([cancel_train_out, cancel_test_out],axis=0)\n",
    "# only keep the active member prediction for segementation.\n",
    "#cancel_out_active=cancel_out[cancel_out['Voluntary Cancel Flag']==0]\n",
    "prod_test_out.to_csv(r'C:\\Mark_Mao\\MLAL_capstone\\CleanSet\\prod_out_check.csv')\n",
    "#print(cancel_out_active['Household Key'].describe())\n"
   ]
  },
  {
   "cell_type": "code",
   "execution_count": 401,
   "metadata": {},
   "outputs": [
    {
     "name": "stderr",
     "output_type": "stream",
     "text": [
      "C:\\Anaconda3\\lib\\site-packages\\numpy\\core\\fromnumeric.py:2389: FutureWarning: Method .ptp is deprecated and will be removed in a future version. Use numpy.ptp instead.\n",
      "  return ptp(axis=axis, out=out, **kwargs)\n"
     ]
    },
    {
     "name": "stdout",
     "output_type": "stream",
     "text": [
      "[0.79547115 0.80715851 0.7880117 ]\n",
      "[0.81081081 0.81081081 0.81140351]\n",
      "[0.81081081 0.81081081 0.81140351]\n"
     ]
    }
   ],
   "source": [
    "#Trying using all of the features to see if that will improve\n",
    "Modeling_X2=prod_train[X_list]\n",
    "Test_X2=prod_test[X_list]\n",
    "\n",
    "X_train2 = sm.add_constant(Modeling_X2)\n",
    "y_train2 = prod_train.loc[:,'INS Client Flag']\n",
    "\n",
    "X_test2 = sm.add_constant(Test_X2)\n",
    "y_test2 = prod_test.loc[:,'INS Client Flag']\n",
    "\n",
    "DT_INS2 = DecisionTreeClassifier(max_depth=15, min_samples_split=50,min_samples_leaf=20,random_state=0)\n",
    "print(cross_val_score(DT_INS2, X_train2, y_train2, cv=3))\n",
    "\n",
    "RF_INS2 = RandomForestClassifier(n_estimators=100, max_depth=15,min_samples_split=50,min_samples_leaf=20, random_state=0)\n",
    "print(cross_val_score(RF_INS2, X_train2, y_train2, cv=3))\n",
    "\n",
    "ET_INS2 = ExtraTreesClassifier(n_estimators=100, max_depth=15,min_samples_split=50,min_samples_leaf=20, random_state=0)\n",
    "print(cross_val_score(ET_INS2, X_train2, y_train2, cv=3))\n",
    "\n",
    "# Random Foreast has better accuracy"
   ]
  },
  {
   "cell_type": "code",
   "execution_count": 402,
   "metadata": {},
   "outputs": [
    {
     "name": "stderr",
     "output_type": "stream",
     "text": [
      "C:\\Anaconda3\\lib\\site-packages\\numpy\\core\\fromnumeric.py:2389: FutureWarning: Method .ptp is deprecated and will be removed in a future version. Use numpy.ptp instead.\n",
      "  return ptp(axis=axis, out=out, **kwargs)\n",
      "C:\\Anaconda3\\lib\\site-packages\\sklearn\\metrics\\classification.py:1437: UndefinedMetricWarning: Precision and F-score are ill-defined and being set to 0.0 in labels with no predicted samples.\n",
      "  'precision', 'predicted', average, warn_for)\n"
     ]
    },
    {
     "name": "stdout",
     "output_type": "stream",
     "text": [
      "              precision    recall  f1-score   support\n",
      "\n",
      "           0       0.82      1.00      0.90      1436\n",
      "           1       0.00      0.00      0.00       325\n",
      "\n",
      "    accuracy                           0.82      1761\n",
      "   macro avg       0.41      0.50      0.45      1761\n",
      "weighted avg       0.66      0.82      0.73      1761\n",
      "\n",
      "Accuracy of this classifier on test set: 0.82\n",
      "0.8110083767978505\n"
     ]
    },
    {
     "data": {
      "image/png": "[encoded data removed]",
      "text/plain": [
       "<Figure size 432x288 with 1 Axes>"
      ]
     },
     "metadata": {
      "needs_background": "light"
     },
     "output_type": "display_data"
    }
   ],
   "source": [
    "Modeling_X2=prod_train[X_list]\n",
    "Test_X2=prod_test[X_list]\n",
    "\n",
    "X_train2 = sm.add_constant(Modeling_X2)\n",
    "y_train2 = prod_train.loc[:,'INS Client Flag']\n",
    "\n",
    "X_test2 = sm.add_constant(Test_X2)\n",
    "y_test2 = prod_test.loc[:,'INS Client Flag']\n",
    "\n",
    "ET_INS2.fit(X_train2,y_train2 )\n",
    "\n",
    "y_pred2 = ET_INS2.predict(X_test2)\n",
    "\n",
    "from sklearn.metrics import classification_report\n",
    "print(classification_report(y_test2, y_pred2))\n",
    "\n",
    "print('Accuracy of this classifier on test set: {:.2f}'.format(ET_INS2.score(X_test2, y_test2)))\n",
    "\n",
    "from sklearn.model_selection import cross_val_score\n",
    "scores = cross_val_score(ET_INS2, X_train2, y_train2, cv=3)\n",
    "print(scores.mean())\n",
    "\n",
    "from sklearn.metrics import roc_auc_score\n",
    "from sklearn.metrics import roc_curve\n",
    "logit_roc_auc = roc_auc_score(y_test2, ET_INS2.predict(X_test2))\n",
    "fpr, tpr, thresholds = roc_curve(y_test2, ET_INS2.predict_proba(X_test2)[:,1])\n",
    "plt.figure()\n",
    "plt.plot(fpr, tpr, label='Extra Trees (area = %0.1f)' % logit_roc_auc)\n",
    "plt.plot([0, 1], [0, 1],'r--')\n",
    "plt.xlim([0.0, 1.0])\n",
    "plt.ylim([0.0, 1.05])\n",
    "plt.xlabel('False Positive Rate')\n",
    "plt.ylabel('True Positive Rate')\n",
    "plt.title('Receiver operating characteristic')\n",
    "plt.legend(loc=\"lower right\")\n",
    "plt.savefig('ET_INS_ROC')\n",
    "plt.show()"
   ]
  },
  {
   "cell_type": "code",
   "execution_count": 403,
   "metadata": {},
   "outputs": [
    {
     "data": {
      "image/png": "[encoded data removed]",
      "text/plain": [
       "<Figure size 432x288 with 1 Axes>"
      ]
     },
     "metadata": {
      "needs_background": "light"
     },
     "output_type": "display_data"
    },
    {
     "data": {
      "text/plain": [
       "<Figure size 432x288 with 0 Axes>"
      ]
     },
     "metadata": {},
     "output_type": "display_data"
    }
   ],
   "source": [
    "# Move on to the Travelware product\n",
    "sns.countplot(x='TRV Globalware Flag',data=Profile_activeset,palette='hls')\n",
    "plt.show()\n",
    "plt.savefig('count_plot')"
   ]
  },
  {
   "cell_type": "code",
   "execution_count": 404,
   "metadata": {
    "scrolled": false
   },
   "outputs": [
    {
     "name": "stderr",
     "output_type": "stream",
     "text": [
      "C:\\Anaconda3\\lib\\site-packages\\numpy\\core\\fromnumeric.py:2389: FutureWarning: Method .ptp is deprecated and will be removed in a future version. Use numpy.ptp instead.\n",
      "  return ptp(axis=axis, out=out, **kwargs)\n"
     ]
    },
    {
     "name": "stdout",
     "output_type": "stream",
     "text": [
      "Warning: Maximum number of iterations has been exceeded.\n",
      "         Current function value: 0.383473\n",
      "         Iterations: 35\n",
      "                                         Results: Logit\n",
      "================================================================================================\n",
      "Model:                        Logit                        Pseudo R-squared:          0.034     \n",
      "Dependent Variable:           TRV Globalware Flag          AIC:                       3235.0844 \n",
      "Date:                         2020-05-30 10:22             BIC:                       3506.8532 \n",
      "No. Observations:             4106                         Log-Likelihood:            -1574.5   \n",
      "Df Model:                     42                           LL-Null:                   -1630.1   \n",
      "Df Residuals:                 4063                         LLR p-value:               3.7682e-08\n",
      "Converged:                    0.0000                       Scale:                     1.0000    \n",
      "No. Iterations:               35.0000                                                           \n",
      "------------------------------------------------------------------------------------------------\n",
      "                                  Coef.     Std.Err.      z    P>|z|      [0.025       0.975]   \n",
      "------------------------------------------------------------------------------------------------\n",
      "m_ProfileMissing                  -3.1724 4132950.6019 -0.0000 1.0000 -8100437.5019 8100431.1571\n",
      "m_TenureYr                         0.0058       0.0034  1.6903 0.0910       -0.0009       0.0126\n",
      "m_OccupationMissing               -0.2619       0.2289 -1.1442 0.2525       -0.7104       0.1867\n",
      "m_AgeMissing                     -17.9792          nan     nan    nan           nan          nan\n",
      "m_IncomeMissing                    1.6541       0.7787  2.1242 0.0337        0.1279       3.1803\n",
      "m_HomeownerFlag                    0.2986       0.3252  0.9183 0.3585       -0.3387       0.9359\n",
      "m_RenterFlag                       0.2966       0.3704  0.8007 0.4233       -0.4294       1.0225\n",
      "m_memberage                        0.0131       0.0035  3.7705 0.0002        0.0063       0.0199\n",
      "m_DwellMissing                    -4.3754  597655.9601 -0.0000 1.0000 -1171388.5323 1171379.7816\n",
      "m_nChild                          -0.0047       0.0793 -0.0588 0.9531       -0.1601       0.1507\n",
      "m_LenResidence                    -0.0148       0.0122 -1.2160 0.2240       -0.0388       0.0091\n",
      "m_Income                           0.0000       0.0000  1.1513 0.2496       -0.0000       0.0000\n",
      "m_Credit                           0.0006       0.0007  0.8586 0.3906       -0.0008       0.0021\n",
      "m_MailRespondYes                   0.1667       0.3561  0.4681 0.6397       -0.5312       0.8647\n",
      "m_NoChild                         -0.2307       0.1641 -1.4059 0.1597       -0.5523       0.0909\n",
      "m_PrimaryMember                    0.0311       0.1167  0.2668 0.7896       -0.1977       0.2599\n",
      "m_OptIn_Publication               21.0934   20712.8022  0.0010 0.9992   -40575.2529   40617.4398\n",
      "m_CashCallYes                     -0.3865       1.0685 -0.3617 0.7175       -2.4808       1.7077\n",
      "m_MosaicMIssing                    1.9349 4132743.1643  0.0000 1.0000 -8100025.8244 8100029.6943\n",
      "m_NewMover                        -0.2030       0.1487 -1.3646 0.1724       -0.4945       0.0885\n",
      "Occ_Blue_Collar                   -2.6867  716816.2961 -0.0000 1.0000 -1404936.8106 1404931.4372\n",
      "Occ_Management                    -1.8676  717116.8082 -0.0000 1.0000 -1405524.9844 1405521.2491\n",
      "Occ_OfficeAdmin                   -2.2569  717053.5081 -0.0000 1.0000 -1405401.3078 1405396.7940\n",
      "Occ_Other                         -2.3222  717080.0087 -0.0000 1.0000 -1405453.3133 1405448.6688\n",
      "Occ_Professional                  -2.1663  717027.2366 -0.0000 1.0000 -1405349.7259 1405345.3933\n",
      "Occ_Retired                       -2.3144  716245.3113 -0.0000 1.0000 -1403817.3286 1403812.6998\n",
      "Occ_Sales                         -2.0323  716242.1286 -0.0000 1.0000 -1403810.8085 1403806.7439\n",
      "Occ_Technical                     -2.3328  717630.9538 -0.0000 1.0000 -1406533.1565 1406528.4909\n",
      "Ed_Completed College               0.2718       0.1689  1.6092 0.1076       -0.0593       0.6029\n",
      "Ed_Graduated School                0.5850       0.3643  1.6056 0.1084       -0.1291       1.2991\n",
      "Ed_High School                    -0.0439       0.1583 -0.2770 0.7818       -0.3542       0.2665\n",
      "Ed_Some College                    0.3061       0.1434  2.1346 0.0328        0.0250       0.5872\n",
      "Mosaic_Bourgeois Prosperity        1.2069 4131112.1392  0.0000 1.0000 -8096829.8020 8096832.2158\n",
      "Mosaic_Career and Family           1.5823 4132718.8122  0.0000 1.0000 -8099978.4479 8099981.6125\n",
      "Mosaic_Comfortable Retirement      1.4011 4134621.4701  0.0000 1.0000 -8103707.7701 8103710.5722\n",
      "Mosaic_Hard Working Blue Collar    1.7757 4132918.1341  0.0000 1.0000 -8100368.9181 8100372.4695\n",
      "Mosaic_Low Income Elders           0.5465 4136343.0287  0.0000 1.0000 -8107082.8175 8107083.9104\n",
      "Mosaic_Metropolitan Strugglers     0.7266 4134194.1297  0.0000 1.0000 -8102870.8727 8102872.3260\n",
      "Mosaic_Post Industrial Survivors   1.4994 4134787.3456  0.0000 1.0000 -8104032.7817 8104035.7806\n",
      "Mosaic_Routine Service Workers     1.9574 4134323.9593  0.0000 1.0000 -8103124.1032 8103128.0181\n",
      "Mosaic_Rural Inheritance         -17.5248 4134054.5134 -0.0000 1.0000 -8102615.4812 8102580.4315\n",
      "Mosaic_Sophisticated Singles       1.7215 4134133.7215  0.0000 1.0000 -8102751.4799 8102754.9229\n",
      "m_AutoRenew                        0.0887       0.1208  0.7340 0.4629       -0.1481       0.3255\n",
      "Dwell_MFDU                        -4.7582  597655.9601 -0.0000 1.0000 -1171388.9151 1171379.3987\n",
      "Dwell_POBOX                       -4.2062  597655.9601 -0.0000 1.0000 -1171388.3631 1171379.9507\n",
      "Dwell_SFDU                        -4.6395  597655.9601 -0.0000 1.0000 -1171388.7964 1171379.5174\n",
      "================================================================================================\n",
      "\n"
     ]
    },
    {
     "name": "stderr",
     "output_type": "stream",
     "text": [
      "C:\\Anaconda3\\lib\\site-packages\\statsmodels\\base\\model.py:512: ConvergenceWarning: Maximum Likelihood optimization failed to converge. Check mle_retvals\n",
      "  \"Check mle_retvals\", ConvergenceWarning)\n",
      "C:\\Anaconda3\\lib\\site-packages\\statsmodels\\base\\model.py:1286: RuntimeWarning: invalid value encountered in sqrt\n",
      "  bse_ = np.sqrt(np.diag(self.cov_params()))\n",
      "C:\\Anaconda3\\lib\\site-packages\\scipy\\stats\\_distn_infrastructure.py:877: RuntimeWarning: invalid value encountered in greater\n",
      "  return (self.a < x) & (x < self.b)\n",
      "C:\\Anaconda3\\lib\\site-packages\\scipy\\stats\\_distn_infrastructure.py:877: RuntimeWarning: invalid value encountered in less\n",
      "  return (self.a < x) & (x < self.b)\n",
      "C:\\Anaconda3\\lib\\site-packages\\scipy\\stats\\_distn_infrastructure.py:1831: RuntimeWarning: invalid value encountered in less_equal\n",
      "  cond2 = cond0 & (x <= self.a)\n"
     ]
    }
   ],
   "source": [
    "########### Feature selection on Travelware Flag  #############\n",
    "\n",
    "Modeling_X=prod_train[X_list]\n",
    "Test_X=prod_test[X_list]\n",
    "\n",
    "X_train = sm.add_constant(Modeling_X)\n",
    "y_train = prod_train.loc[:,'TRV Globalware Flag']\n",
    "\n",
    "X_test = sm.add_constant(Test_X)\n",
    "y_test = prod_test.loc[:,'TRV Globalware Flag']\n",
    "\n",
    "logit_model_TRV=sm.Logit(y_train,X_train)\n",
    "result=logit_model_TRV.fit()\n",
    "print(result.summary2())\n"
   ]
  },
  {
   "cell_type": "code",
   "execution_count": 405,
   "metadata": {},
   "outputs": [
    {
     "name": "stderr",
     "output_type": "stream",
     "text": [
      "C:\\Anaconda3\\lib\\site-packages\\sklearn\\linear_model\\logistic.py:432: FutureWarning: Default solver will be changed to 'lbfgs' in 0.22. Specify a solver to silence this warning.\n",
      "  FutureWarning)\n",
      "C:\\Anaconda3\\lib\\site-packages\\sklearn\\metrics\\classification.py:1437: UndefinedMetricWarning: Precision and F-score are ill-defined and being set to 0.0 in labels with no predicted samples.\n",
      "  'precision', 'predicted', average, warn_for)\n",
      "C:\\Anaconda3\\lib\\site-packages\\sklearn\\linear_model\\logistic.py:432: FutureWarning: Default solver will be changed to 'lbfgs' in 0.22. Specify a solver to silence this warning.\n",
      "  FutureWarning)\n",
      "C:\\Anaconda3\\lib\\site-packages\\sklearn\\linear_model\\logistic.py:432: FutureWarning: Default solver will be changed to 'lbfgs' in 0.22. Specify a solver to silence this warning.\n",
      "  FutureWarning)\n",
      "C:\\Anaconda3\\lib\\site-packages\\sklearn\\linear_model\\logistic.py:432: FutureWarning: Default solver will be changed to 'lbfgs' in 0.22. Specify a solver to silence this warning.\n",
      "  FutureWarning)\n"
     ]
    },
    {
     "name": "stdout",
     "output_type": "stream",
     "text": [
      "              precision    recall  f1-score   support\n",
      "\n",
      "           0       0.88      1.00      0.93      1546\n",
      "           1       0.00      0.00      0.00       215\n",
      "\n",
      "    accuracy                           0.88      1761\n",
      "   macro avg       0.44      0.50      0.47      1761\n",
      "weighted avg       0.77      0.88      0.82      1761\n",
      "\n",
      "Accuracy of this classifier on test set: 0.88\n",
      "0.8643449637404118\n"
     ]
    },
    {
     "data": {
      "image/png": "[encoded data removed]",
      "text/plain": [
       "<Figure size 432x288 with 1 Axes>"
      ]
     },
     "metadata": {
      "needs_background": "light"
     },
     "output_type": "display_data"
    }
   ],
   "source": [
    "X_list_final=['m_TenureYr','m_memberage', \n",
    "         'm_IncomeMissing', 'Ed_Graduated School', 'Ed_Completed College',\n",
    "            'Ed_Some College'\n",
    "]\n",
    "\n",
    "Modeling_X=prod_train[X_list_final]\n",
    "Test_X=prod_test[X_list_final]\n",
    "\n",
    "X_train = sm.add_constant(Modeling_X)\n",
    "y_train = prod_train.loc[:,'TRV Globalware Flag']\n",
    "\n",
    "X_test = sm.add_constant(Test_X)\n",
    "y_test = prod_test.loc[:,'TRV Globalware Flag']\n",
    "\n",
    "logregTRV = LogisticRegression()\n",
    "logregTRV.fit(X_train,y_train )\n",
    "\n",
    "y_pred = logregTRV.predict(X_test)\n",
    "\n",
    "from sklearn.metrics import classification_report\n",
    "print(classification_report(y_test, y_pred))\n",
    "\n",
    "print('Accuracy of this classifier on test set: {:.2f}'.format(logregTRV.score(X_test, y_test)))\n",
    "\n",
    "from sklearn.model_selection import cross_val_score\n",
    "scores = cross_val_score(logregTRV, X_train, y_train, cv=3)\n",
    "print(scores.mean())\n",
    "\n",
    "from sklearn.metrics import roc_auc_score\n",
    "from sklearn.metrics import roc_curve\n",
    "logit_roc_auc = roc_auc_score(y_test, logregTRV.predict(X_test))\n",
    "fpr, tpr, thresholds = roc_curve(y_test, logregTRV.predict_proba(X_test)[:,1])\n",
    "plt.figure()\n",
    "plt.plot(fpr, tpr, label='Logistic Regression (area = %0.2f)' % logit_roc_auc)\n",
    "plt.plot([0, 1], [0, 1],'r--')\n",
    "plt.xlim([0.0, 1.0])\n",
    "plt.ylim([0.0, 1.05])\n",
    "plt.xlabel('False Positive Rate')\n",
    "plt.ylabel('True Positive Rate')\n",
    "plt.title('Receiver operating characteristic')\n",
    "plt.legend(loc=\"lower right\")\n",
    "plt.savefig('TRV_ROC')\n",
    "plt.show()"
   ]
  },
  {
   "cell_type": "code",
   "execution_count": 406,
   "metadata": {
    "scrolled": true
   },
   "outputs": [
    {
     "name": "stdout",
     "output_type": "stream",
     "text": [
      "[0.8641344  0.8641344  0.86476608]\n",
      "[0.8641344  0.8641344  0.86476608]\n",
      "[0.8641344  0.8641344  0.86476608]\n",
      "[0.83345508 0.83710738 0.84429825]\n",
      "[0.79985391 0.79254931 0.78947368]\n"
     ]
    }
   ],
   "source": [
    "DT_TRV = DecisionTreeClassifier(max_depth=15, min_samples_split=50,min_samples_leaf=20,random_state=0)\n",
    "print(cross_val_score(DT_TRV, X_train, y_train, cv=3))\n",
    "\n",
    "RF_TRV = RandomForestClassifier(n_estimators=15, max_depth=15,min_samples_split=50,min_samples_leaf=20, random_state=0)\n",
    "print(cross_val_score(RF_TRV, X_train, y_train, cv=3))\n",
    "\n",
    "ET_TRV = ExtraTreesClassifier(n_estimators=15, max_depth=15,min_samples_split=50,min_samples_leaf=20, random_state=0)\n",
    "print(cross_val_score(ET_TRV, X_train, y_train, cv=3))\n",
    "\n",
    "GB_TRV = GradientBoostingClassifier(learning_rate=1,min_samples_split=50, min_samples_leaf=25, n_estimators=200,random_state=0)\n",
    "print(cross_val_score(GB_TRV, X_train, y_train, cv=3))\n",
    "\n",
    "bdt_real_TRV = AdaBoostClassifier(DecisionTreeClassifier(max_depth=10,min_samples_split=50, min_samples_leaf=25,), n_estimators=200,learning_rate=1)\n",
    "print(cross_val_score(bdt_real_TRV, X_train, y_train, cv=3))"
   ]
  },
  {
   "cell_type": "code",
   "execution_count": 407,
   "metadata": {},
   "outputs": [
    {
     "name": "stderr",
     "output_type": "stream",
     "text": [
      "C:\\Anaconda3\\lib\\site-packages\\numpy\\core\\fromnumeric.py:2389: FutureWarning: Method .ptp is deprecated and will be removed in a future version. Use numpy.ptp instead.\n",
      "  return ptp(axis=axis, out=out, **kwargs)\n",
      "C:\\Anaconda3\\lib\\site-packages\\sklearn\\metrics\\classification.py:1437: UndefinedMetricWarning: Precision and F-score are ill-defined and being set to 0.0 in labels with no predicted samples.\n",
      "  'precision', 'predicted', average, warn_for)\n"
     ]
    },
    {
     "name": "stdout",
     "output_type": "stream",
     "text": [
      "              precision    recall  f1-score   support\n",
      "\n",
      "           0       0.88      1.00      0.93      1546\n",
      "           1       0.00      0.00      0.00       215\n",
      "\n",
      "    accuracy                           0.88      1761\n",
      "   macro avg       0.44      0.50      0.47      1761\n",
      "weighted avg       0.77      0.88      0.82      1761\n",
      "\n",
      "Accuracy of this classifier on test set: 0.88\n",
      "0.8643449637404118\n"
     ]
    },
    {
     "data": {
      "image/png": "[encoded data removed]",
      "text/plain": [
       "<Figure size 432x288 with 1 Axes>"
      ]
     },
     "metadata": {
      "needs_background": "light"
     },
     "output_type": "display_data"
    }
   ],
   "source": [
    "X_list_final=['m_TenureYr','m_memberage', \n",
    "         'm_IncomeMissing', 'Ed_Graduated School', 'Ed_Completed College',\n",
    "            'Ed_Some College'\n",
    "]\n",
    "\n",
    "Modeling_X=prod_train[X_list_final]\n",
    "Test_X=prod_test[X_list_final]\n",
    "\n",
    "X_train = sm.add_constant(Modeling_X)\n",
    "y_train = prod_train.loc[:,'TRV Globalware Flag']\n",
    "\n",
    "X_test = sm.add_constant(Test_X)\n",
    "y_test = prod_test.loc[:,'TRV Globalware Flag']\n",
    "\n",
    "RF_TRV.fit(X_train,y_train )\n",
    "\n",
    "y_pred = RF_TRV.predict(X_test)\n",
    "\n",
    "from sklearn.metrics import classification_report\n",
    "print(classification_report(y_test, y_pred))\n",
    "\n",
    "print('Accuracy of this classifier on test set: {:.2f}'.format(RF_TRV.score(X_test, y_test)))\n",
    "\n",
    "from sklearn.model_selection import cross_val_score\n",
    "scores = cross_val_score(RF_TRV, X_train, y_train, cv=3)\n",
    "print(scores.mean())\n",
    "\n",
    "from sklearn.metrics import roc_auc_score\n",
    "from sklearn.metrics import roc_curve\n",
    "logit_roc_auc = roc_auc_score(y_test, RF_TRV.predict(X_test))\n",
    "fpr, tpr, thresholds = roc_curve(y_test, RF_TRV.predict_proba(X_test)[:,1])\n",
    "plt.figure()\n",
    "plt.plot(fpr, tpr, label='Random Forest (area = %0.1f)' % logit_roc_auc)\n",
    "plt.plot([0, 1], [0, 1],'r--')\n",
    "plt.xlim([0.0, 1.0])\n",
    "plt.ylim([0.0, 1.05])\n",
    "plt.xlabel('False Positive Rate')\n",
    "plt.ylabel('True Positive Rate')\n",
    "plt.title('Receiver operating characteristic')\n",
    "plt.legend(loc=\"lower right\")\n",
    "plt.savefig('TRV_INS_ROC')\n",
    "plt.show()"
   ]
  },
  {
   "cell_type": "code",
   "execution_count": 408,
   "metadata": {},
   "outputs": [
    {
     "name": "stderr",
     "output_type": "stream",
     "text": [
      "C:\\Anaconda3\\lib\\site-packages\\numpy\\core\\fromnumeric.py:2389: FutureWarning: Method .ptp is deprecated and will be removed in a future version. Use numpy.ptp instead.\n",
      "  return ptp(axis=axis, out=out, **kwargs)\n",
      "C:\\Anaconda3\\lib\\site-packages\\sklearn\\metrics\\classification.py:1437: UndefinedMetricWarning: Precision and F-score are ill-defined and being set to 0.0 in labels with no predicted samples.\n",
      "  'precision', 'predicted', average, warn_for)\n"
     ]
    },
    {
     "name": "stdout",
     "output_type": "stream",
     "text": [
      "              precision    recall  f1-score   support\n",
      "\n",
      "           0       0.88      1.00      0.93      1546\n",
      "           1       0.00      0.00      0.00       215\n",
      "\n",
      "    accuracy                           0.88      1761\n",
      "   macro avg       0.44      0.50      0.47      1761\n",
      "weighted avg       0.77      0.88      0.82      1761\n",
      "\n",
      "Accuracy of this classifier on test set: 0.88\n",
      "0.8643449637404118\n"
     ]
    },
    {
     "data": {
      "image/png": "[encoded data removed]",
      "text/plain": [
       "<Figure size 432x288 with 1 Axes>"
      ]
     },
     "metadata": {
      "needs_background": "light"
     },
     "output_type": "display_data"
    }
   ],
   "source": [
    "X_list_final=['m_TenureYr','m_memberage', \n",
    "         'm_IncomeMissing', 'Ed_Graduated School', 'Ed_Completed College',\n",
    "            'Ed_Some College'\n",
    "]\n",
    "\n",
    "Modeling_X=prod_train[X_list_final]\n",
    "Test_X=prod_test[X_list_final]\n",
    "\n",
    "X_train = sm.add_constant(Modeling_X)\n",
    "y_train = prod_train.loc[:,'TRV Globalware Flag']\n",
    "\n",
    "X_test = sm.add_constant(Test_X)\n",
    "y_test = prod_test.loc[:,'TRV Globalware Flag']\n",
    "\n",
    "DT_TRV.fit(X_train,y_train )\n",
    "\n",
    "y_pred = DT_TRV.predict(X_test)\n",
    "\n",
    "from sklearn.metrics import classification_report\n",
    "print(classification_report(y_test, y_pred))\n",
    "\n",
    "print('Accuracy of this classifier on test set: {:.2f}'.format(DT_TRV.score(X_test, y_test)))\n",
    "\n",
    "from sklearn.model_selection import cross_val_score\n",
    "scores = cross_val_score(DT_TRV, X_train, y_train, cv=3)\n",
    "print(scores.mean())\n",
    "\n",
    "from sklearn.metrics import roc_auc_score\n",
    "from sklearn.metrics import roc_curve\n",
    "logit_roc_auc = roc_auc_score(y_test, DT_TRV.predict(X_test))\n",
    "fpr, tpr, thresholds = roc_curve(y_test, DT_TRV.predict_proba(X_test)[:,1])\n",
    "plt.figure()\n",
    "plt.plot(fpr, tpr, label='DECISION TREE (area = %0.1f)' % logit_roc_auc)\n",
    "plt.plot([0, 1], [0, 1],'r--')\n",
    "plt.xlim([0.0, 1.0])\n",
    "plt.ylim([0.0, 1.05])\n",
    "plt.xlabel('False Positive Rate')\n",
    "plt.ylabel('True Positive Rate')\n",
    "plt.title('Receiver operating characteristic')\n",
    "plt.legend(loc=\"lower right\")\n",
    "plt.savefig('TRV_ROC')\n",
    "plt.show()"
   ]
  },
  {
   "cell_type": "code",
   "execution_count": 409,
   "metadata": {},
   "outputs": [
    {
     "name": "stderr",
     "output_type": "stream",
     "text": [
      "C:\\Anaconda3\\lib\\site-packages\\numpy\\core\\fromnumeric.py:2389: FutureWarning: Method .ptp is deprecated and will be removed in a future version. Use numpy.ptp instead.\n",
      "  return ptp(axis=axis, out=out, **kwargs)\n",
      "C:\\Anaconda3\\lib\\site-packages\\sklearn\\metrics\\classification.py:1437: UndefinedMetricWarning: Precision and F-score are ill-defined and being set to 0.0 in labels with no predicted samples.\n",
      "  'precision', 'predicted', average, warn_for)\n"
     ]
    },
    {
     "name": "stdout",
     "output_type": "stream",
     "text": [
      "              precision    recall  f1-score   support\n",
      "\n",
      "           0       0.88      1.00      0.93      1546\n",
      "           1       0.00      0.00      0.00       215\n",
      "\n",
      "    accuracy                           0.88      1761\n",
      "   macro avg       0.44      0.50      0.47      1761\n",
      "weighted avg       0.77      0.88      0.82      1761\n",
      "\n",
      "Accuracy of this classifier on test set: 0.88\n",
      "0.8643449637404118\n"
     ]
    },
    {
     "data": {
      "image/png": "[encoded data removed]",
      "text/plain": [
       "<Figure size 432x288 with 1 Axes>"
      ]
     },
     "metadata": {
      "needs_background": "light"
     },
     "output_type": "display_data"
    }
   ],
   "source": [
    "X_list_final=['m_TenureYr','m_memberage', \n",
    "         'm_IncomeMissing', 'Ed_Graduated School', 'Ed_Completed College',\n",
    "            'Ed_Some College'\n",
    "]\n",
    "\n",
    "Modeling_X=prod_train[X_list_final]\n",
    "Test_X=prod_test[X_list_final]\n",
    "\n",
    "X_train = sm.add_constant(Modeling_X)\n",
    "y_train = prod_train.loc[:,'TRV Globalware Flag']\n",
    "\n",
    "X_test = sm.add_constant(Test_X)\n",
    "y_test = prod_test.loc[:,'TRV Globalware Flag']\n",
    "\n",
    "ET_TRV.fit(X_train,y_train )\n",
    "\n",
    "y_pred = ET_TRV.predict(X_test)\n",
    "\n",
    "from sklearn.metrics import classification_report\n",
    "print(classification_report(y_test, y_pred))\n",
    "\n",
    "print('Accuracy of this classifier on test set: {:.2f}'.format(ET_TRV.score(X_test, y_test)))\n",
    "\n",
    "from sklearn.model_selection import cross_val_score\n",
    "scores = cross_val_score(ET_TRV, X_train, y_train, cv=3)\n",
    "print(scores.mean())\n",
    "\n",
    "from sklearn.metrics import roc_auc_score\n",
    "from sklearn.metrics import roc_curve\n",
    "logit_roc_auc = roc_auc_score(y_test, ET_TRV.predict(X_test))\n",
    "fpr, tpr, thresholds = roc_curve(y_test, ET_TRV.predict_proba(X_test)[:,1])\n",
    "plt.figure()\n",
    "plt.plot(fpr, tpr, label='Extra Tree (area = %0.1f)' % logit_roc_auc)\n",
    "plt.plot([0, 1], [0, 1],'r--')\n",
    "plt.xlim([0.0, 1.0])\n",
    "plt.ylim([0.0, 1.05])\n",
    "plt.xlabel('False Positive Rate')\n",
    "plt.ylabel('True Positive Rate')\n",
    "plt.title('Receiver operating characteristic')\n",
    "plt.legend(loc=\"lower right\")\n",
    "plt.savefig('TRV_ROC')\n",
    "plt.show()"
   ]
  },
  {
   "cell_type": "code",
   "execution_count": 410,
   "metadata": {},
   "outputs": [],
   "source": [
    "# Random forest is better model for travel ware.\n",
    "\n",
    "RF_TRV.fit(X_train, y_train)\n",
    "y_train_pred= pd.DataFrame(RF_TRV.predict_proba(X_train), columns = ['Pred_Prob_TRV0','Pred_Prob_TRV1']) \n",
    "y_test_pred = pd.DataFrame(RF_TRV.predict_proba(X_test), columns = ['Pred_Prob_TRV0','Pred_Prob_TRV1']) \n",
    "#print(y_test_pred.head(10))\n",
    "prod_train.reset_index(drop=True, inplace=True)\n",
    "y_train_pred.reset_index(drop=True, inplace=True)\n",
    "prod_test.reset_index(drop=True, inplace=True)\n",
    "y_test_pred.reset_index(drop=True, inplace=True)\n",
    "prod_train_out=pd.concat([prod_train_out, y_train_pred],axis=1)\n",
    "prod_test_out=pd.concat([prod_test_out, y_test_pred],axis=1)\n",
    "\n",
    "#cancel_out=pd.concat([cancel_train_out, cancel_test_out],axis=0)\n",
    "# only keep the active member prediction for segementation.\n",
    "#cancel_out_active=cancel_out[cancel_out['Voluntary Cancel Flag']==0]\n",
    "#prod_test_out.to_csv(r'C:\\Mark_Mao\\MLAL_capstone\\CleanSet\\prod_out_check.csv')\n",
    "#print(cancel_out_active['Household Key'].describe())"
   ]
  },
  {
   "cell_type": "code",
   "execution_count": 411,
   "metadata": {},
   "outputs": [],
   "source": [
    "prod_out=pd.concat([prod_train_out, prod_test_out],axis=0)\n",
    "prod_out.to_csv(r'C:\\Mark_Mao\\MLAL_capstone\\CleanSet\\prod_out.csv')"
   ]
  },
  {
   "cell_type": "code",
   "execution_count": 413,
   "metadata": {},
   "outputs": [],
   "source": [
    "cancel_out_active=cancel_out[cancel_out['Voluntary Cancel Flag']==0]\n",
    "cancel_out_active.to_csv(r'C:\\Mark_Mao\\MLAL_capstone\\CleanSet\\cancel_out_active.csv')"
   ]
  },
  {
   "cell_type": "code",
   "execution_count": 414,
   "metadata": {},
   "outputs": [],
   "source": [
    "# Note: Probability of Voluntary cancallation is a good model to identify both event and non-event\n",
    "# and has a very good separation between 0/1.\n",
    "\n",
    "# The resst of the model is good at predicting non-event (not buying product) but \n",
    "# not very good at predicting the event (buying product). Not great at separating 0/1.\n",
    "# It is still fine to identify certain chararistics that may lead to higher chance to buying AAA products.\n"
   ]
  }
 ],
 "metadata": {
  "kernelspec": {
   "display_name": "Python 3",
   "language": "python",
   "name": "python3"
  },
  "language_info": {
   "codemirror_mode": {
    "name": "ipython",
    "version": 3
   },
   "file_extension": ".py",
   "mimetype": "text/x-python",
   "name": "python",
   "nbconvert_exporter": "python",
   "pygments_lexer": "ipython3",
   "version": "3.7.3"
  }
 },
 "nbformat": 4,
 "nbformat_minor": 2
}
