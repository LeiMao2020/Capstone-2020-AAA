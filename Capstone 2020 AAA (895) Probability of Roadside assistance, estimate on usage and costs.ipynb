{
 "cells": [
  {
   "cell_type": "code",
   "execution_count": 98,
   "metadata": {},
   "outputs": [],
   "source": [
    "# 1st step - Read data and sample to training and validation.\n",
    "# 2nd step - trim down the dataset for certain modeling (use linear/log regression to do the initial feature selection)\n",
    "# 3rd step - build models and compare and choose the best one based on validation\n",
    "# 4th step - Score all the data and output\n",
    "\n",
    "%matplotlib inline\n",
    "import numpy as np\n",
    "import pandas as pd\n",
    "import matplotlib.pyplot as plt\n",
    "import pathlib, re\n",
    "\n",
    "from sklearn.feature_extraction.text import CountVectorizer\n",
    "from sklearn.model_selection import train_test_split\n",
    "from sklearn.naive_bayes import MultinomialNB\n",
    "from sklearn import preprocessing\n",
    "from sklearn.linear_model import LogisticRegression\n",
    "from sklearn.model_selection import train_test_split\n",
    "import seaborn as sns\n",
    "#nbayes = MultinomialNB()\n",
    "#nbayes.fit(sms_messages_train, labels_train)\n",
    "#accuracy=nbayes.score(sms_messages_test,labels_test)\n"
   ]
  },
  {
   "cell_type": "code",
   "execution_count": 99,
   "metadata": {
    "scrolled": false
   },
   "outputs": [
    {
     "name": "stdout",
     "output_type": "stream",
     "text": [
      "<class 'pandas.core.frame.DataFrame'>\n",
      "RangeIndex: 3511 entries, 0 to 3510\n",
      "Data columns (total 63 columns):\n",
      "Household Key                       3511 non-null float64\n",
      "m_Avg_ERS_Cost_PerYr                3511 non-null float64\n",
      "m_Avg_ERS_ENT_Count_PerYr           3511 non-null float64\n",
      "m_Prob_ERS_ENT_Used                 3511 non-null float64\n",
      "Car_American                        3511 non-null int64\n",
      "Car_American_Luxury                 3511 non-null int64\n",
      "Car_European                        3511 non-null int64\n",
      "Car_European_Luxury                 3511 non-null int64\n",
      "Car_Japan                           3511 non-null int64\n",
      "Car_Japan_Luxury                    3511 non-null int64\n",
      "Car_Other                           3511 non-null int64\n",
      "m_ExpensiveModel                    3511 non-null int64\n",
      "m_SportsCar                         3511 non-null int64\n",
      "Dwell_MFDU                          3511 non-null float64\n",
      "Dwell_POBOX                         3511 non-null float64\n",
      "Dwell_SFDU                          3511 non-null float64\n",
      "Ed_Completed College                3511 non-null float64\n",
      "Ed_Graduated School                 3511 non-null float64\n",
      "Ed_High School                      3511 non-null float64\n",
      "Ed_Some College                     3511 non-null float64\n",
      "Mosaic_Bourgeois Prosperity         3511 non-null float64\n",
      "Mosaic_Career and Family            3511 non-null float64\n",
      "Mosaic_Comfortable Retirement       3511 non-null float64\n",
      "Mosaic_Hard Working Blue Collar     3511 non-null float64\n",
      "Mosaic_Low Income Elders            3511 non-null float64\n",
      "Mosaic_Metropolitan Strugglers      3511 non-null float64\n",
      "Mosaic_Post Industrial Survivors    3511 non-null float64\n",
      "Mosaic_Routine Service Workers      3511 non-null float64\n",
      "Mosaic_Rural Inheritance            3511 non-null float64\n",
      "Mosaic_Sophisticated Singles        3511 non-null float64\n",
      "Occ_Blue_Collar                     3511 non-null float64\n",
      "Occ_Management                      3511 non-null float64\n",
      "Occ_OfficeAdmin                     3511 non-null float64\n",
      "Occ_Other                           3511 non-null float64\n",
      "Occ_Professional                    3511 non-null float64\n",
      "Occ_Retired                         3511 non-null float64\n",
      "Occ_Sales                           3511 non-null float64\n",
      "Occ_Technical                       3511 non-null float64\n",
      "m_AgeMissing                        3511 non-null int64\n",
      "m_AutoRenew                         3511 non-null float64\n",
      "m_CashCallYes                       3511 non-null float64\n",
      "m_Credit                            3511 non-null float64\n",
      "m_CreditMissing                     3511 non-null float64\n",
      "m_DwellMissing                      3511 non-null float64\n",
      "m_HomeownerFlag                     3511 non-null float64\n",
      "m_Income                            3511 non-null float64\n",
      "m_IncomeMissing                     3511 non-null float64\n",
      "m_LenResidence                      3511 non-null float64\n",
      "m_MailRespondYes                    3511 non-null float64\n",
      "m_MosJoin2CancelMissing             3511 non-null int64\n",
      "m_MosaicMIssing                     3511 non-null float64\n",
      "m_NewMover                          3511 non-null float64\n",
      "m_No2DirectMail                     3511 non-null int64\n",
      "m_NoChild                           3511 non-null float64\n",
      "m_OccupationMissing                 3511 non-null float64\n",
      "m_OptIn_Publication                 3511 non-null int64\n",
      "m_PlusMember                        3511 non-null float64\n",
      "m_PrimaryMember                     3511 non-null float64\n",
      "m_ProfileMissing                    3511 non-null float64\n",
      "m_RenterFlag                        3511 non-null float64\n",
      "m_TenureYr                          3511 non-null float64\n",
      "m_memberage                         3511 non-null float64\n",
      "m_nChild                            3511 non-null float64\n",
      "dtypes: float64(50), int64(13)\n",
      "memory usage: 1.7 MB\n",
      "None\n"
     ]
    }
   ],
   "source": [
    "# import data\n",
    "RS_fullset=pd.read_csv(\"C:\\Mark_Mao\\MLAL_capstone\\CleanSet\\RoadService_activeset_noDup.csv\")\n",
    "#check\n",
    "print(RS_fullset.info())\n",
    "#print(list(Profile_fullset.columns) )"
   ]
  },
  {
   "cell_type": "code",
   "execution_count": 100,
   "metadata": {},
   "outputs": [],
   "source": [
    "# Looks like target is not created correctly with 0/1 - Will create a new field for this\n",
    "RS_fullset['m_Prob_ERS_ENT_Used'] = RS_fullset['m_Avg_ERS_ENT_Count_PerYr'].apply(lambda x: 1 if x >0 else 0)"
   ]
  },
  {
   "cell_type": "code",
   "execution_count": 101,
   "metadata": {},
   "outputs": [],
   "source": [
    "RS_train, RS_test = train_test_split(RS_fullset, test_size=0.3,random_state=0)"
   ]
  },
  {
   "cell_type": "code",
   "execution_count": 102,
   "metadata": {},
   "outputs": [],
   "source": [
    "RS_nonzeroset=RS_fullset[RS_fullset['m_Prob_ERS_ENT_Used']>0]\n",
    "RS_nonzero_train, RS_nonzero_test = train_test_split(RS_nonzeroset, test_size=0.3,random_state=0)"
   ]
  },
  {
   "cell_type": "code",
   "execution_count": 103,
   "metadata": {},
   "outputs": [],
   "source": [
    "X_list=['m_PlusMember','Car_American' ,'Car_American_Luxury',  'Car_European',\n",
    "'Car_European_Luxury', 'Car_Japan','Car_Japan_Luxury' ,'Car_Other',\n",
    "    'm_SportsCar','m_ExpensiveModel', 'm_ProfileMissing', 'm_TenureYr', \n",
    "        'm_OccupationMissing',  'm_IncomeMissing', \n",
    "        'm_HomeownerFlag', 'm_RenterFlag', 'm_memberage',\n",
    "        'm_nChild', 'm_LenResidence', \n",
    "         'm_Income', 'm_Credit', \n",
    "        'm_MailRespondYes', 'm_NoChild', \n",
    "        'm_PrimaryMember', 'm_OptIn_Publication', 'm_CashCallYes',\n",
    "         'm_NewMover', 'Occ_Blue_Collar', \n",
    "        'Occ_Management', 'Occ_OfficeAdmin', 'Occ_Other', \n",
    "        'Occ_Professional', 'Occ_Retired', 'Occ_Sales', \n",
    "        'Occ_Technical', 'Ed_Completed College', \n",
    "        'Ed_Graduated School', 'Ed_High School', \n",
    "        'Ed_Some College', 'Mosaic_Bourgeois Prosperity', \n",
    "        'Mosaic_Career and Family', 'Mosaic_Comfortable Retirement',\n",
    "        'Mosaic_Hard Working Blue Collar', 'Mosaic_Low Income Elders',\n",
    "        'Mosaic_Metropolitan Strugglers', \n",
    "        'Mosaic_Post Industrial Survivors', \n",
    "        'Mosaic_Routine Service Workers', 'Mosaic_Rural Inheritance',\n",
    "        'Mosaic_Sophisticated Singles', 'm_AutoRenew', 'Dwell_MFDU', \n",
    "        'Dwell_POBOX', 'Dwell_SFDU'  \n",
    "]"
   ]
  },
  {
   "cell_type": "code",
   "execution_count": 104,
   "metadata": {
    "scrolled": true
   },
   "outputs": [
    {
     "data": {
      "image/png": "[encoded data removed]",
      "text/plain": [
       "<Figure size 432x288 with 1 Axes>"
      ]
     },
     "metadata": {
      "needs_background": "light"
     },
     "output_type": "display_data"
    },
    {
     "data": {
      "text/plain": [
       "<Figure size 432x288 with 0 Axes>"
      ]
     },
     "metadata": {},
     "output_type": "display_data"
    }
   ],
   "source": [
    "sns.countplot(x='m_Prob_ERS_ENT_Used',data=RS_fullset,palette='hls')\n",
    "plt.show()\n",
    "plt.savefig('count_plot')"
   ]
  },
  {
   "cell_type": "code",
   "execution_count": 105,
   "metadata": {},
   "outputs": [],
   "source": [
    "from sklearn.feature_selection import RFE\n",
    "from sklearn.linear_model import LogisticRegression\n",
    "from sklearn import metrics\n",
    "from sklearn.metrics import roc_auc_score\n",
    "from sklearn.metrics import roc_curve, auc\n",
    "import statsmodels.api as sm"
   ]
  },
  {
   "cell_type": "code",
   "execution_count": 106,
   "metadata": {
    "scrolled": false
   },
   "outputs": [
    {
     "name": "stderr",
     "output_type": "stream",
     "text": [
      "C:\\Anaconda3\\lib\\site-packages\\numpy\\core\\fromnumeric.py:2389: FutureWarning: Method .ptp is deprecated and will be removed in a future version. Use numpy.ptp instead.\n",
      "  return ptp(axis=axis, out=out, **kwargs)\n",
      "C:\\Anaconda3\\lib\\site-packages\\statsmodels\\base\\model.py:512: ConvergenceWarning: Maximum Likelihood optimization failed to converge. Check mle_retvals\n",
      "  \"Check mle_retvals\", ConvergenceWarning)\n",
      "C:\\Anaconda3\\lib\\site-packages\\statsmodels\\base\\model.py:1286: RuntimeWarning: invalid value encountered in sqrt\n",
      "  bse_ = np.sqrt(np.diag(self.cov_params()))\n",
      "C:\\Anaconda3\\lib\\site-packages\\scipy\\stats\\_distn_infrastructure.py:877: RuntimeWarning: invalid value encountered in greater\n",
      "  return (self.a < x) & (x < self.b)\n",
      "C:\\Anaconda3\\lib\\site-packages\\scipy\\stats\\_distn_infrastructure.py:877: RuntimeWarning: invalid value encountered in less\n",
      "  return (self.a < x) & (x < self.b)\n",
      "C:\\Anaconda3\\lib\\site-packages\\scipy\\stats\\_distn_infrastructure.py:1831: RuntimeWarning: invalid value encountered in less_equal\n",
      "  cond2 = cond0 & (x <= self.a)\n"
     ]
    },
    {
     "name": "stdout",
     "output_type": "stream",
     "text": [
      "Warning: Maximum number of iterations has been exceeded.\n",
      "         Current function value: 0.530308\n",
      "         Iterations: 35\n",
      "                                          Results: Logit\n",
      "==================================================================================================\n",
      "Model:                        Logit                         Pseudo R-squared:           0.160     \n",
      "Dependent Variable:           m_Prob_ERS_ENT_Used           AIC:                        2711.9331 \n",
      "Date:                         2020-05-30 19:18              BIC:                        3019.6881 \n",
      "No. Observations:             2457                          Log-Likelihood:             -1303.0   \n",
      "Df Model:                     52                            LL-Null:                    -1551.1   \n",
      "Df Residuals:                 2404                          LLR p-value:                8.7791e-74\n",
      "Converged:                    0.0000                        Scale:                      1.0000    \n",
      "No. Iterations:               35.0000                                                             \n",
      "--------------------------------------------------------------------------------------------------\n",
      "                                  Coef.     Std.Err.      z    P>|z|      [0.025         0.975]   \n",
      "--------------------------------------------------------------------------------------------------\n",
      "const                             0.4152           nan     nan    nan            nan           nan\n",
      "m_PlusMember                      0.2317        0.1240  1.8687 0.0617        -0.0113        0.4747\n",
      "Car_American                      0.8655        0.0954  9.0738 0.0000         0.6785        1.0524\n",
      "Car_American_Luxury               0.8626        0.2854  3.0220 0.0025         0.3031        1.4220\n",
      "Car_European                      1.4181        0.3202  4.4291 0.0000         0.7906        2.0457\n",
      "Car_European_Luxury               0.8223        0.1882  4.3700 0.0000         0.4535        1.1911\n",
      "Car_Japan                         1.0460        0.0985 10.6238 0.0000         0.8531        1.2390\n",
      "Car_Japan_Luxury                  1.0889        0.2548  4.2739 0.0000         0.5895        1.5883\n",
      "Car_Other                         0.4017        0.1011  3.9751 0.0001         0.2036        0.5998\n",
      "m_SportsCar                       0.3493        0.4122  0.8475 0.3967        -0.4585        1.1572\n",
      "m_ExpensiveModel                  0.0024        0.2360  0.0103 0.9918        -0.4601        0.4649\n",
      "m_ProfileMissing                  0.8443        1.5140  0.5576 0.5771        -2.1232        3.8117\n",
      "m_TenureYr                       -0.0065        0.0035 -1.8692 0.0616        -0.0133        0.0003\n",
      "m_OccupationMissing              -0.5494        0.3129 -1.7556 0.0792        -1.1627        0.0640\n",
      "m_IncomeMissing                  -0.2423        1.4841 -0.1633 0.8703        -3.1511        2.6664\n",
      "m_HomeownerFlag                  -0.0907        0.3103 -0.2924 0.7700        -0.6989        0.5174\n",
      "m_RenterFlag                     -0.0559        0.3641 -0.1536 0.8779        -0.7696        0.6578\n",
      "m_memberage                       0.0069        0.0041  1.6700 0.0949        -0.0012        0.0150\n",
      "m_nChild                         -0.1641        0.1093 -1.5012 0.1333        -0.3783        0.0501\n",
      "m_LenResidence                   -0.0008        0.0136 -0.0568 0.9547        -0.0274        0.0258\n",
      "m_Income                         -0.0000        0.0000 -1.0787 0.2807        -0.0000        0.0000\n",
      "m_Credit                         -0.0004        0.0007 -0.5435 0.5868        -0.0019        0.0011\n",
      "m_MailRespondYes                 -0.2514        0.3837 -0.6552 0.5123        -1.0035        0.5007\n",
      "m_NoChild                        -0.2382        0.1987 -1.1986 0.2307        -0.6276        0.1513\n",
      "m_PrimaryMember                  -0.5490        0.2386 -2.3014 0.0214        -1.0166       -0.0814\n",
      "m_OptIn_Publication              -0.0264        0.5809 -0.0455 0.9637        -1.1650        1.1122\n",
      "m_CashCallYes                    -0.0661        0.9539 -0.0693 0.9448        -1.9356        1.8035\n",
      "m_NewMover                       -0.0856        0.1437 -0.5955 0.5515        -0.3671        0.1960\n",
      "Occ_Blue_Collar                   0.0054           nan     nan    nan            nan           nan\n",
      "Occ_Management                   -0.0245           nan     nan    nan            nan           nan\n",
      "Occ_OfficeAdmin                   0.1415           nan     nan    nan            nan           nan\n",
      "Occ_Other                         0.4896           nan     nan    nan            nan           nan\n",
      "Occ_Professional                 -0.0820           nan     nan    nan            nan           nan\n",
      "Occ_Retired                      -0.0257           nan     nan    nan            nan           nan\n",
      "Occ_Sales                         0.3177           nan     nan    nan            nan           nan\n",
      "Occ_Technical                    -0.4069           nan     nan    nan            nan           nan\n",
      "Ed_Completed College              0.0334        0.2005  0.1668 0.8675        -0.3596        0.4265\n",
      "Ed_Graduated School              -0.4096        0.4673 -0.8764 0.3808        -1.3256        0.5064\n",
      "Ed_High School                   -0.0003        0.1671 -0.0018 0.9985        -0.3277        0.3271\n",
      "Ed_Some College                   0.0473        0.1671  0.2829 0.7772        -0.2803        0.3749\n",
      "Mosaic_Bourgeois Prosperity      -0.2594        0.3571 -0.7265 0.4675        -0.9593        0.4404\n",
      "Mosaic_Career and Family          0.3622        0.8572  0.4225 0.6727        -1.3180        2.0423\n",
      "Mosaic_Comfortable Retirement    -0.4607        0.3203 -1.4385 0.1503        -1.0884        0.1670\n",
      "Mosaic_Hard Working Blue Collar   0.9465        0.9181  1.0309 0.3026        -0.8530        2.7459\n",
      "Mosaic_Low Income Elders         -0.9172        0.5506 -1.6659 0.0957        -1.9963        0.1619\n",
      "Mosaic_Metropolitan Strugglers    0.1631        0.6578  0.2479 0.8042        -1.1262        1.4524\n",
      "Mosaic_Post Industrial Survivors  0.2368        0.5857  0.4042 0.6861        -0.9113        1.3848\n",
      "Mosaic_Routine Service Workers   -0.6791        0.4332 -1.5677 0.1170        -1.5282        0.1699\n",
      "Mosaic_Rural Inheritance         30.4733    20647.6585  0.0015 0.9988    -40438.1938    40499.1404\n",
      "Mosaic_Sophisticated Singles     82.2415 13573436.0637  0.0000 1.0000 -26603363.5897 26603528.0727\n",
      "m_AutoRenew                       0.0329        0.1312  0.2506 0.8021        -0.2243        0.2900\n",
      "Dwell_MFDU                        0.1255        0.2254  0.5565 0.5779        -0.3164        0.5673\n",
      "Dwell_POBOX                       0.0997        0.4160  0.2397 0.8106        -0.7157        0.9151\n",
      "Dwell_SFDU                        0.0385        0.1676  0.2300 0.8181        -0.2899        0.3670\n",
      "==================================================================================================\n",
      "\n"
     ]
    }
   ],
   "source": [
    "########### Feature selection on Probability of roadside service use  #############\n",
    "\n",
    "Modeling_X=RS_train[X_list]\n",
    "Test_X=RS_test[X_list]\n",
    "\n",
    "X_train = sm.add_constant(Modeling_X)\n",
    "y_train = RS_train.loc[:,'m_Prob_ERS_ENT_Used']\n",
    "\n",
    "X_test = sm.add_constant(Test_X)\n",
    "y_test = RS_test.loc[:,'m_Prob_ERS_ENT_Used']\n",
    "\n",
    "logit_model_Pr=sm.Logit(y_train,X_train)\n",
    "result=logit_model_Pr.fit()\n",
    "print(result.summary2())"
   ]
  },
  {
   "cell_type": "code",
   "execution_count": 107,
   "metadata": {},
   "outputs": [
    {
     "name": "stdout",
     "output_type": "stream",
     "text": [
      "Optimization terminated successfully.\n",
      "         Current function value: 0.536496\n",
      "         Iterations 7\n",
      "                           Results: Logit\n",
      "====================================================================\n",
      "Model:              Logit               Pseudo R-squared: 0.150     \n",
      "Dependent Variable: m_Prob_ERS_ENT_Used AIC:              2660.3395 \n",
      "Date:               2020-05-30 19:18    BIC:              2730.0199 \n",
      "No. Observations:   2457                Log-Likelihood:   -1318.2   \n",
      "Df Model:           11                  LL-Null:          -1551.1   \n",
      "Df Residuals:       2445                LLR p-value:      5.8127e-93\n",
      "Converged:          1.0000              Scale:            1.0000    \n",
      "No. Iterations:     7.0000                                          \n",
      "--------------------------------------------------------------------\n",
      "                       Coef.  Std.Err.    z    P>|z|   [0.025 0.975]\n",
      "--------------------------------------------------------------------\n",
      "const                 -0.5241   0.3646 -1.4373 0.1506 -1.2388 0.1906\n",
      "m_PlusMember           0.2433   0.1215  2.0034 0.0451  0.0053 0.4813\n",
      "Car_American           0.8702   0.0924  9.4147 0.0000  0.6890 1.0514\n",
      "Car_American_Luxury    0.8685   0.2768  3.1376 0.0017  0.3260 1.4111\n",
      "Car_European           1.3638   0.3156  4.3216 0.0000  0.7453 1.9823\n",
      "Car_European_Luxury    0.8460   0.1634  5.1784 0.0000  0.5258 1.1662\n",
      "Car_Japan              1.0554   0.0970 10.8823 0.0000  0.8653 1.2455\n",
      "Car_Japan_Luxury       1.0491   0.2326  4.5099 0.0000  0.5932 1.5050\n",
      "Car_Other              0.4053   0.0997  4.0645 0.0000  0.2099 0.6007\n",
      "m_TenureYr            -0.0065   0.0034 -1.9312 0.0535 -0.0132 0.0001\n",
      "m_memberage            0.0055   0.0039  1.4051 0.1600 -0.0022 0.0131\n",
      "m_PrimaryMember       -0.4271   0.2267 -1.8834 0.0596 -0.8715 0.0174\n",
      "====================================================================\n",
      "\n"
     ]
    }
   ],
   "source": [
    "########### Feature selection on  Probability of Usage roadside service or not Flag  #############\n",
    "\n",
    "X_list_final=['m_PlusMember','Car_American' ,'Car_American_Luxury',  'Car_European',\n",
    "'Car_European_Luxury', 'Car_Japan','Car_Japan_Luxury' ,'Car_Other',\n",
    "    'm_TenureYr', 'm_memberage','m_PrimaryMember'\n",
    "]\n",
    "\n",
    "Modeling_X=RS_train[X_list_final]\n",
    "Test_X=RS_test[X_list_final]\n",
    "\n",
    "X_train = sm.add_constant(Modeling_X)\n",
    "y_train = RS_train.loc[:,'m_Prob_ERS_ENT_Used']\n",
    "\n",
    "X_test = sm.add_constant(Test_X)\n",
    "y_test = RS_test.loc[:,'m_Prob_ERS_ENT_Used']\n",
    "\n",
    "logit_model_pr=sm.Logit(y_train,X_train)\n",
    "result=logit_model_pr.fit()\n",
    "print(result.summary2())"
   ]
  },
  {
   "cell_type": "code",
   "execution_count": 108,
   "metadata": {},
   "outputs": [
    {
     "name": "stderr",
     "output_type": "stream",
     "text": [
      "C:\\Anaconda3\\lib\\site-packages\\sklearn\\linear_model\\logistic.py:432: FutureWarning: Default solver will be changed to 'lbfgs' in 0.22. Specify a solver to silence this warning.\n",
      "  FutureWarning)\n",
      "C:\\Anaconda3\\lib\\site-packages\\sklearn\\linear_model\\logistic.py:432: FutureWarning: Default solver will be changed to 'lbfgs' in 0.22. Specify a solver to silence this warning.\n",
      "  FutureWarning)\n",
      "C:\\Anaconda3\\lib\\site-packages\\sklearn\\linear_model\\logistic.py:432: FutureWarning: Default solver will be changed to 'lbfgs' in 0.22. Specify a solver to silence this warning.\n",
      "  FutureWarning)\n",
      "C:\\Anaconda3\\lib\\site-packages\\sklearn\\linear_model\\logistic.py:432: FutureWarning: Default solver will be changed to 'lbfgs' in 0.22. Specify a solver to silence this warning.\n",
      "  FutureWarning)\n"
     ]
    },
    {
     "name": "stdout",
     "output_type": "stream",
     "text": [
      "              precision    recall  f1-score   support\n",
      "\n",
      "           0       0.64      0.51      0.57       354\n",
      "           1       0.77      0.86      0.81       700\n",
      "\n",
      "    accuracy                           0.74      1054\n",
      "   macro avg       0.71      0.68      0.69      1054\n",
      "weighted avg       0.73      0.74      0.73      1054\n",
      "\n",
      "Accuracy of this classifier on test set: 0.74\n",
      "0.7370777370777372\n"
     ]
    },
    {
     "data": {
      "image/png": "[encoded data removed]",
      "text/plain": [
       "<Figure size 432x288 with 1 Axes>"
      ]
     },
     "metadata": {
      "needs_background": "light"
     },
     "output_type": "display_data"
    }
   ],
   "source": [
    "X_list_final=['m_PlusMember','Car_American' ,'Car_American_Luxury',  'Car_European',\n",
    "'Car_European_Luxury', 'Car_Japan','Car_Japan_Luxury' ,'Car_Other',\n",
    "    'm_TenureYr', 'm_memberage','m_PrimaryMember'\n",
    "]\n",
    "\n",
    "Modeling_X=RS_train[X_list_final]\n",
    "Test_X=RS_test[X_list_final]\n",
    "\n",
    "X_train = sm.add_constant(Modeling_X)\n",
    "y_train = RS_train.loc[:,'m_Prob_ERS_ENT_Used']\n",
    "\n",
    "X_test = sm.add_constant(Test_X)\n",
    "y_test = RS_test.loc[:,'m_Prob_ERS_ENT_Used']\n",
    "\n",
    "logreg_pr = LogisticRegression()\n",
    "logreg_pr.fit(X_train,y_train )\n",
    "\n",
    "y_pred = logreg_pr.predict(X_test)\n",
    "\n",
    "from sklearn.metrics import classification_report\n",
    "print(classification_report(y_test, y_pred))\n",
    "\n",
    "print('Accuracy of this classifier on test set: {:.2f}'.format(logreg_pr.score(X_test, y_test)))\n",
    "\n",
    "from sklearn.model_selection import cross_val_score\n",
    "scores = cross_val_score(logreg_pr, X_train, y_train, cv=3)\n",
    "print(scores.mean())\n",
    "\n",
    "from sklearn.metrics import roc_auc_score\n",
    "from sklearn.metrics import roc_curve\n",
    "logit_roc_auc = roc_auc_score(y_test, logreg_pr.predict(X_test))\n",
    "fpr, tpr, thresholds = roc_curve(y_test, logreg_pr.predict_proba(X_test)[:,1])\n",
    "plt.figure()\n",
    "plt.plot(fpr, tpr, label='Logistic Regression (area = %0.2f)' % logit_roc_auc)\n",
    "plt.plot([0, 1], [0, 1],'r--')\n",
    "plt.xlim([0.0, 1.0])\n",
    "plt.ylim([0.0, 1.05])\n",
    "plt.xlabel('False Positive Rate')\n",
    "plt.ylabel('True Positive Rate')\n",
    "plt.title('Receiver operating characteristic')\n",
    "plt.legend(loc=\"lower right\")\n",
    "plt.savefig('Log_ROC')\n",
    "plt.show()\n"
   ]
  },
  {
   "cell_type": "code",
   "execution_count": 109,
   "metadata": {},
   "outputs": [
    {
     "name": "stdout",
     "output_type": "stream",
     "text": [
      "[0.72039072 0.66788767 0.7020757 ]\n",
      "[0.73748474 0.71916972 0.71794872]\n",
      "[0.67399267 0.67399267 0.67399267]\n",
      "[0.68864469 0.62393162 0.68376068]\n",
      "[0.65567766 0.63247863 0.65201465]\n"
     ]
    }
   ],
   "source": [
    "from sklearn.ensemble import RandomForestClassifier\n",
    "from sklearn.ensemble import ExtraTreesClassifier\n",
    "from sklearn.tree import DecisionTreeClassifier\n",
    "from sklearn.ensemble import AdaBoostClassifier\n",
    "from sklearn.ensemble import GradientBoostingClassifier\n",
    "\n",
    "DT_pr = DecisionTreeClassifier(max_depth=15, min_samples_split=50,min_samples_leaf=20,random_state=0)\n",
    "print(cross_val_score(DT_pr, X_train, y_train, cv=3))\n",
    "\n",
    "RF_pr = RandomForestClassifier(n_estimators=40, max_depth=15,min_samples_split=50,min_samples_leaf=20, random_state=0)\n",
    "print(cross_val_score(RF_pr, X_train, y_train, cv=3))\n",
    "\n",
    "ET_pr = ExtraTreesClassifier(n_estimators=40, max_depth=15,min_samples_split=50,min_samples_leaf=20, random_state=0)\n",
    "print(cross_val_score(ET_pr, X_train, y_train, cv=3))\n",
    "\n",
    "GB_pr = GradientBoostingClassifier(learning_rate=1,min_samples_split=50, min_samples_leaf=25, n_estimators=200,random_state=0)\n",
    "print(cross_val_score(GB_pr, X_train, y_train, cv=3))\n",
    "\n",
    "bdt_real_pr = AdaBoostClassifier(DecisionTreeClassifier(max_depth=10,min_samples_split=50, min_samples_leaf=25,), n_estimators=200,learning_rate=1)\n",
    "print(cross_val_score(bdt_real_pr, X_train, y_train, cv=3))\n"
   ]
  },
  {
   "cell_type": "code",
   "execution_count": 110,
   "metadata": {},
   "outputs": [
    {
     "name": "stderr",
     "output_type": "stream",
     "text": [
      "C:\\Anaconda3\\lib\\site-packages\\numpy\\core\\fromnumeric.py:2389: FutureWarning: Method .ptp is deprecated and will be removed in a future version. Use numpy.ptp instead.\n",
      "  return ptp(axis=axis, out=out, **kwargs)\n"
     ]
    },
    {
     "name": "stdout",
     "output_type": "stream",
     "text": [
      "              precision    recall  f1-score   support\n",
      "\n",
      "           0       0.67      0.42      0.52       354\n",
      "           1       0.75      0.89      0.82       700\n",
      "\n",
      "    accuracy                           0.74      1054\n",
      "   macro avg       0.71      0.66      0.67      1054\n",
      "weighted avg       0.73      0.74      0.72      1054\n",
      "\n",
      "Accuracy of this classifier on test set: 0.74\n",
      "0.724867724867725\n"
     ]
    },
    {
     "data": {
      "image/png": "[encoded data removed]",
      "text/plain": [
       "<Figure size 432x288 with 1 Axes>"
      ]
     },
     "metadata": {
      "needs_background": "light"
     },
     "output_type": "display_data"
    }
   ],
   "source": [
    "X_list_final=['m_PlusMember','Car_American' ,'Car_American_Luxury',  'Car_European',\n",
    "'Car_European_Luxury', 'Car_Japan','Car_Japan_Luxury' ,'Car_Other',\n",
    "    'm_TenureYr', 'm_memberage','m_PrimaryMember'\n",
    "]\n",
    "\n",
    "Modeling_X=RS_train[X_list_final]\n",
    "Test_X=RS_test[X_list_final]\n",
    "\n",
    "X_train = sm.add_constant(Modeling_X)\n",
    "y_train = RS_train.loc[:,'m_Prob_ERS_ENT_Used']\n",
    "\n",
    "X_test = sm.add_constant(Test_X)\n",
    "y_test = RS_test.loc[:,'m_Prob_ERS_ENT_Used']\n",
    "\n",
    "RF_pr.fit(X_train,y_train )\n",
    "\n",
    "y_pred =RF_pr.predict(X_test)\n",
    "\n",
    "from sklearn.metrics import classification_report\n",
    "print(classification_report(y_test, y_pred))\n",
    "\n",
    "print('Accuracy of this classifier on test set: {:.2f}'.format(RF_pr.score(X_test, y_test)))\n",
    "\n",
    "from sklearn.model_selection import cross_val_score\n",
    "scores = cross_val_score(RF_pr, X_train, y_train, cv=3)\n",
    "print(scores.mean())\n",
    "\n",
    "from sklearn.metrics import roc_auc_score\n",
    "from sklearn.metrics import roc_curve\n",
    "logit_roc_auc = roc_auc_score(y_test, RF_pr.predict(X_test))\n",
    "fpr, tpr, thresholds = roc_curve(y_test, RF_pr.predict_proba(X_test)[:,1])\n",
    "plt.figure()\n",
    "plt.plot(fpr, tpr, label='Random Forest (area = %0.2f)' % logit_roc_auc)\n",
    "plt.plot([0, 1], [0, 1],'r--')\n",
    "plt.xlim([0.0, 1.0])\n",
    "plt.ylim([0.0, 1.05])\n",
    "plt.xlabel('False Positive Rate')\n",
    "plt.ylabel('True Positive Rate')\n",
    "plt.title('Receiver operating characteristic')\n",
    "plt.legend(loc=\"lower right\")\n",
    "plt.savefig('RF_pr_ROC')\n",
    "plt.show()\n"
   ]
  },
  {
   "cell_type": "code",
   "execution_count": 111,
   "metadata": {
    "scrolled": false
   },
   "outputs": [
    {
     "name": "stderr",
     "output_type": "stream",
     "text": [
      "C:\\Anaconda3\\lib\\site-packages\\sklearn\\linear_model\\logistic.py:432: FutureWarning: Default solver will be changed to 'lbfgs' in 0.22. Specify a solver to silence this warning.\n",
      "  FutureWarning)\n"
     ]
    }
   ],
   "source": [
    "# Logistic regression is a better model here.\n",
    "logreg_pr.fit(X_train, y_train)\n",
    "y_train_pred= pd.DataFrame(logreg_pr.predict_proba(X_train), columns = ['Pred_Prob_RS_Use0','Pred_Prob_RS_Use1']) \n",
    "y_test_pred = pd.DataFrame(logreg_pr.predict_proba(X_test), columns =  ['Pred_Prob_RS_Use0','Pred_Prob_RS_Use1']) \n",
    "#print(y_test_pred.head(10))\n",
    "RS_train.reset_index(drop=True, inplace=True)\n",
    "y_train_pred.reset_index(drop=True, inplace=True)\n",
    "RS_test.reset_index(drop=True, inplace=True)\n",
    "y_test_pred.reset_index(drop=True, inplace=True)\n",
    "RS_train_out=pd.concat([RS_train, y_train_pred],axis=1)\n",
    "RS_test_out=pd.concat([RS_test, y_test_pred],axis=1)\n",
    "\n",
    "#cancel_out=pd.concat([cancel_train_out, cancel_test_out],axis=0)\n",
    "# only keep the active member prediction for segementation.\n",
    "#cancel_out_active=cancel_out[cancel_out['Voluntary Cancel Flag']==0]\n",
    "#RS_test_out.to_csv(r'C:\\Mark_Mao\\MLAL_capstone\\CleanSet\\RS_out_check.csv')\n",
    "#print(cancel_out_active['Household Key'].describe())\n"
   ]
  },
  {
   "cell_type": "code",
   "execution_count": 112,
   "metadata": {},
   "outputs": [
    {
     "data": {
      "text/plain": [
       "<matplotlib.axes._subplots.AxesSubplot at 0x1d20ae95b70>"
      ]
     },
     "execution_count": 112,
     "metadata": {},
     "output_type": "execute_result"
    },
    {
     "data": {
      "image/png": "[encoded data removed]",
      "text/plain": [
       "<Figure size 1080x720 with 1 Axes>"
      ]
     },
     "metadata": {
      "needs_background": "light"
     },
     "output_type": "display_data"
    }
   ],
   "source": [
    "plt.figure(figsize=(15,10))\n",
    "plt.tight_layout()\n",
    "sns.distplot(RS_nonzero_train['m_Avg_ERS_Cost_PerYr'])"
   ]
  },
  {
   "cell_type": "code",
   "execution_count": 142,
   "metadata": {},
   "outputs": [
    {
     "ename": "NameError",
     "evalue": "name 'RS_nonzero' is not defined",
     "output_type": "error",
     "traceback": [
      "\u001b[1;31m---------------------------------------------------------------------------\u001b[0m",
      "\u001b[1;31mNameError\u001b[0m                                 Traceback (most recent call last)",
      "\u001b[1;32m<ipython-input-142-06a0ad93ae23>\u001b[0m in \u001b[0;36m<module>\u001b[1;34m\u001b[0m\n\u001b[1;32m----> 1\u001b[1;33m \u001b[0mprint\u001b[0m\u001b[1;33m(\u001b[0m\u001b[0mRS_nonzero\u001b[0m\u001b[1;33m.\u001b[0m\u001b[0minfo\u001b[0m\u001b[1;33m(\u001b[0m\u001b[1;33m)\u001b[0m\u001b[1;33m)\u001b[0m\u001b[1;33m\u001b[0m\u001b[1;33m\u001b[0m\u001b[0m\n\u001b[0m",
      "\u001b[1;31mNameError\u001b[0m: name 'RS_nonzero' is not defined"
     ]
    }
   ],
   "source": [
    "print(RS_nonzero.info())"
   ]
  },
  {
   "cell_type": "code",
   "execution_count": 113,
   "metadata": {
    "scrolled": false
   },
   "outputs": [
    {
     "name": "stderr",
     "output_type": "stream",
     "text": [
      "C:\\Anaconda3\\lib\\site-packages\\numpy\\core\\fromnumeric.py:2389: FutureWarning: Method .ptp is deprecated and will be removed in a future version. Use numpy.ptp instead.\n",
      "  return ptp(axis=axis, out=out, **kwargs)\n"
     ]
    },
    {
     "name": "stdout",
     "output_type": "stream",
     "text": [
      "                           Results: Ordinary least squares\n",
      "=====================================================================================\n",
      "Model:                    OLS                      Adj. R-squared:         0.188     \n",
      "Dependent Variable:       m_Avg_ERS_Cost_PerYr     AIC:                    18839.8926\n",
      "Date:                     2020-05-30 19:18         BIC:                    19126.5126\n",
      "No. Observations:         1649                     Log-Likelihood:         -9366.9   \n",
      "Df Model:                 52                       F-statistic:            8.315     \n",
      "Df Residuals:             1596                     Prob (F-statistic):     5.28e-53  \n",
      "R-squared:                0.213                    Scale:                  5195.5    \n",
      "-------------------------------------------------------------------------------------\n",
      "                                   Coef.   Std.Err.    t    P>|t|    [0.025   0.975] \n",
      "-------------------------------------------------------------------------------------\n",
      "const                             -11.4016  35.3092 -0.3229 0.7468  -80.6589  57.8557\n",
      "m_PlusMember                       19.0613   4.2985  4.4344 0.0000   10.6301  27.4926\n",
      "Car_American                       19.1388   1.9033 10.0555 0.0000   15.4056  22.8721\n",
      "Car_American_Luxury                26.3183   6.4978  4.0503 0.0001   13.5730  39.0635\n",
      "Car_European                       25.7136   6.8839  3.7353 0.0002   12.2113  39.2160\n",
      "Car_European_Luxury                22.7908   4.2802  5.3247 0.0000   14.3954  31.1862\n",
      "Car_Japan                          17.3399   2.1497  8.0661 0.0000   13.1234  21.5565\n",
      "Car_Japan_Luxury                   14.4517   6.1140  2.3637 0.0182    2.4593  26.4440\n",
      "Car_Other                          14.6646   2.6097  5.6193 0.0000    9.5458  19.7834\n",
      "m_SportsCar                        -9.5503   8.5022 -1.1233 0.2615  -26.2270   7.1263\n",
      "m_ExpensiveModel                   -0.4069   5.5583 -0.0732 0.9416  -11.3093  10.4954\n",
      "m_ProfileMissing                  -17.3969  43.6548 -0.3985 0.6903 -103.0238  68.2299\n",
      "m_TenureYr                         -0.4359   0.1437 -3.0335 0.0025   -0.7178  -0.1541\n",
      "m_OccupationMissing                -1.0993  10.5160 -0.1045 0.9168  -21.7259  19.5272\n",
      "m_IncomeMissing                   -26.6953  40.2419 -0.6634 0.5072 -105.6279  52.2373\n",
      "m_HomeownerFlag                   -23.2335  12.4139 -1.8716 0.0614  -47.5828   1.1158\n",
      "m_RenterFlag                      -19.6471  13.7134 -1.4327 0.1521  -46.5453   7.2512\n",
      "m_memberage                         0.0998   0.1594  0.6259 0.5315   -0.2129   0.4125\n",
      "m_nChild                            3.4632   3.6808  0.9409 0.3469   -3.7564  10.6829\n",
      "m_LenResidence                      1.4842   0.5334  2.7826 0.0055    0.4380   2.5304\n",
      "m_Income                           -0.0001   0.0000 -1.3578 0.1747   -0.0001   0.0000\n",
      "m_Credit                           -0.0336   0.0306 -1.0962 0.2732   -0.0936   0.0265\n",
      "m_MailRespondYes                  -29.8960  14.1092 -2.1189 0.0343  -57.5706  -2.2214\n",
      "m_NoChild                           7.7559   7.1280  1.0881 0.2767   -6.2253  21.7370\n",
      "m_PrimaryMember                    91.2379   8.3813 10.8859 0.0000   74.7983 107.6774\n",
      "m_OptIn_Publication                45.1435  23.2096  1.9450 0.0519   -0.3809  90.6679\n",
      "m_CashCallYes                      66.2373  44.1086  1.5017 0.1334  -20.2796 152.7541\n",
      "m_NewMover                          9.6844   5.5299  1.7513 0.0801   -1.1621  20.5310\n",
      "Occ_Blue_Collar                    -8.5510  15.8753 -0.5386 0.5902  -39.6896  22.5876\n",
      "Occ_Management                     13.8859   9.7116  1.4298 0.1530   -5.1630  32.9348\n",
      "Occ_OfficeAdmin                   -13.0370  12.1498 -1.0730 0.2834  -36.8683  10.7943\n",
      "Occ_Other                           2.8267  10.1590  0.2782 0.7809  -17.0996  22.7530\n",
      "Occ_Professional                   -7.4239   8.3892 -0.8849 0.3763  -23.8789   9.0311\n",
      "Occ_Retired                         4.3426   7.2987  0.5950 0.5519   -9.9735  18.6586\n",
      "Occ_Sales                           2.7052  14.2923  0.1893 0.8499  -25.3285  30.7389\n",
      "Occ_Technical                      -6.1500  18.2919 -0.3362 0.7368  -42.0287  29.7287\n",
      "Ed_Completed College              -26.4913   8.1379 -3.2553 0.0012  -42.4534 -10.5291\n",
      "Ed_Graduated School                -6.1950  19.2378 -0.3220 0.7475  -43.9290  31.5391\n",
      "Ed_High School                    -22.1799   6.7730 -3.2748 0.0011  -35.4647  -8.8950\n",
      "Ed_Some College                   -19.9966   6.6314 -3.0154 0.0026  -33.0037  -6.9894\n",
      "Mosaic_Bourgeois Prosperity       -10.5262  14.4850 -0.7267 0.4675  -38.9379  17.8855\n",
      "Mosaic_Career and Family          -19.3280  23.8637 -0.8099 0.4181  -66.1356  27.4796\n",
      "Mosaic_Comfortable Retirement     -12.2068  13.0593 -0.9347 0.3501  -37.8221  13.4084\n",
      "Mosaic_Hard Working Blue Collar   -11.2110  18.9419 -0.5919 0.5540  -48.3645  25.9426\n",
      "Mosaic_Low Income Elders          -28.3791  26.5054 -1.0707 0.2845  -80.3681  23.6099\n",
      "Mosaic_Metropolitan Strugglers    -50.3539  23.8196 -2.1140 0.0347  -97.0749  -3.6328\n",
      "Mosaic_Post Industrial Survivors  -18.3859  21.3119 -0.8627 0.3884  -60.1881  23.4162\n",
      "Mosaic_Routine Service Workers     -9.1862  17.4349 -0.5269 0.5983  -43.3838  25.0115\n",
      "Mosaic_Rural Inheritance         -131.1921 145.3300 -0.9027 0.3668 -416.2498 153.8657\n",
      "Mosaic_Sophisticated Singles      -68.4206  41.0190 -1.6680 0.0955 -148.8774  12.0362\n",
      "m_AutoRenew                         6.4809   4.8401  1.3390 0.1808   -3.0127  15.9744\n",
      "Dwell_MFDU                          2.9655   8.4149  0.3524 0.7246  -13.5399  19.4709\n",
      "Dwell_POBOX                        -8.8232  14.8994 -0.5922 0.5538  -38.0475  20.4012\n",
      "Dwell_SFDU                         11.2161   6.4509  1.7387 0.0823   -1.4370  23.8693\n",
      "-------------------------------------------------------------------------------------\n",
      "Omnibus:                743.479          Durbin-Watson:             2.053            \n",
      "Prob(Omnibus):          0.000            Jarque-Bera (JB):          4857.832         \n",
      "Skew:                   2.006            Prob(JB):                  0.000            \n",
      "Kurtosis:               10.389           Condition No.:             23799390518725820\n",
      "=====================================================================================\n",
      "* The condition number is large (2e+16). This might indicate             strong\n",
      "multicollinearity or other numerical problems.\n"
     ]
    }
   ],
   "source": [
    "########### Feature selection on cost per yr Flag  #############\n",
    "\n",
    "Modeling_X=RS_nonzero_train[X_list]\n",
    "Test_X=RS_nonzero_test[X_list]\n",
    "\n",
    "X_train = sm.add_constant(Modeling_X)\n",
    "y_train = RS_nonzero_train.loc[:,'m_Avg_ERS_Cost_PerYr']\n",
    "\n",
    "X_test = sm.add_constant(Test_X)\n",
    "y_test = RS_nonzero_test.loc[:,'m_Avg_ERS_Cost_PerYr']\n",
    "\n",
    "linreg_cost=sm.OLS(y_train,X_train)\n",
    "result=linreg_cost.fit()\n",
    "print(result.summary2())\n",
    "\n",
    "# have multicollinearity issue. Will size down and try it again"
   ]
  },
  {
   "cell_type": "code",
   "execution_count": 114,
   "metadata": {},
   "outputs": [
    {
     "name": "stdout",
     "output_type": "stream",
     "text": [
      "                         Results: Ordinary least squares\n",
      "==================================================================================\n",
      "Model:                   OLS                     Adj. R-squared:        0.188     \n",
      "Dependent Variable:      m_Avg_ERS_Cost_PerYr    AIC:                   18808.8922\n",
      "Date:                    2020-05-30 19:18        BIC:                   18927.8665\n",
      "No. Observations:        1649                    Log-Likelihood:        -9382.4   \n",
      "Df Model:                21                      F-statistic:           19.15     \n",
      "Df Residuals:            1627                    Prob (F-statistic):    8.14e-64  \n",
      "R-squared:               0.198                   Scale:                 5193.2    \n",
      "----------------------------------------------------------------------------------\n",
      "                                Coef.   Std.Err.    t    P>|t|    [0.025   0.975] \n",
      "----------------------------------------------------------------------------------\n",
      "const                          -64.4870  24.7660 -2.6039 0.0093 -113.0636 -15.9105\n",
      "m_PlusMember                    18.7859   4.2339  4.4370 0.0000   10.4814  27.0904\n",
      "Car_American                    19.1545   1.8058 10.6070 0.0000   15.6125  22.6965\n",
      "Car_American_Luxury             26.7673   6.2104  4.3101 0.0000   14.5861  38.9485\n",
      "Car_European                    24.8077   6.7822  3.6577 0.0003   11.5048  38.1105\n",
      "Car_European_Luxury             21.8122   3.6050  6.0505 0.0000   14.7413  28.8831\n",
      "Car_Japan                       17.4241   2.1135  8.2443 0.0000   13.2786  21.5695\n",
      "Car_Japan_Luxury                13.1379   5.5441  2.3697 0.0179    2.2635  24.0122\n",
      "Car_Other                       14.8969   2.5840  5.7651 0.0000    9.8286  19.9652\n",
      "m_TenureYr                      -0.4254   0.1346 -3.1600 0.0016   -0.6894  -0.1613\n",
      "m_PrimaryMember                 97.2114   7.7961 12.4692 0.0000   81.9199 112.5029\n",
      "m_HomeownerFlag                 -7.6031   8.8307 -0.8610 0.3894  -24.9239   9.7177\n",
      "m_LenResidence                   1.8165   0.5133  3.5392 0.0004    0.8098   2.8233\n",
      "m_MailRespondYes                -5.9076   9.8228 -0.6014 0.5477  -25.1743  13.3592\n",
      "m_OptIn_Publication             39.6335  22.9447  1.7273 0.0843   -5.3708  84.6378\n",
      "m_NewMover                       6.9493   5.3073  1.3094 0.1906   -3.4606  17.3592\n",
      "Ed_Completed College           -28.5632   7.8675 -3.6305 0.0003  -43.9948 -13.1317\n",
      "Ed_High School                 -21.0938   6.6058 -3.1932 0.0014  -34.0504  -8.1371\n",
      "Ed_Some College                -19.6432   6.4162 -3.0615 0.0022  -32.2281  -7.0584\n",
      "Dwell_SFDU                       6.5274   4.0072  1.6289 0.1035   -1.3324  14.3872\n",
      "Mosaic_Metropolitan Strugglers -42.5336  22.0892 -1.9255 0.0543  -85.8598   0.7926\n",
      "Mosaic_Sophisticated Singles   -65.7502  39.6418 -1.6586 0.0974 -143.5046  12.0042\n",
      "----------------------------------------------------------------------------------\n",
      "Omnibus:                  762.805            Durbin-Watson:               2.047   \n",
      "Prob(Omnibus):            0.000              Jarque-Bera (JB):            5100.573\n",
      "Skew:                     2.062              Prob(JB):                    0.000   \n",
      "Kurtosis:                 10.565             Condition No.:               879     \n",
      "==================================================================================\n",
      "\n"
     ]
    }
   ],
   "source": [
    "# 2nd round of features\n",
    "X_list_final=['m_PlusMember','Car_American' ,'Car_American_Luxury',  'Car_European',\n",
    "'Car_European_Luxury', 'Car_Japan','Car_Japan_Luxury' ,'Car_Other',\n",
    "    'm_TenureYr', 'm_PrimaryMember','m_HomeownerFlag',\n",
    "              'm_LenResidence','m_MailRespondYes','m_OptIn_Publication','m_NewMover',\n",
    "              'Ed_Completed College','Ed_High School','Ed_Some College','Dwell_SFDU',\n",
    "              'Mosaic_Metropolitan Strugglers','Mosaic_Sophisticated Singles',\n",
    "             ]\n",
    "\n",
    "Modeling_X=RS_nonzero_train[X_list_final]\n",
    "Test_X=RS_nonzero_test[X_list_final]\n",
    "\n",
    "X_train = sm.add_constant(Modeling_X)\n",
    "y_train = RS_nonzero_train.loc[:,'m_Avg_ERS_Cost_PerYr']\n",
    "\n",
    "X_test = sm.add_constant(Test_X)\n",
    "y_test = RS_nonzero_test.loc[:,'m_Avg_ERS_Cost_PerYr']\n",
    "\n",
    "linreg_cost=sm.OLS(y_train,X_train)\n",
    "result=linreg_cost.fit()\n",
    "print(result.summary2())"
   ]
  },
  {
   "cell_type": "code",
   "execution_count": 115,
   "metadata": {},
   "outputs": [
    {
     "name": "stdout",
     "output_type": "stream",
     "text": [
      "MSE of OLS on test set: 4029.62\n",
      "MSE of Theil_Sen on test set: 3933.55\n",
      "MSE of RANSAC on test set: 5735.75\n",
      "MSE of HuberRegressor on test set: 4287.77\n"
     ]
    }
   ],
   "source": [
    "from sklearn.linear_model import (\n",
    "    LinearRegression, TheilSenRegressor, RANSACRegressor, HuberRegressor)\n",
    "from sklearn.metrics import mean_squared_error\n",
    "from sklearn.preprocessing import PolynomialFeatures\n",
    "from sklearn.pipeline import make_pipeline\n",
    "\n",
    "X_list_final=['m_PlusMember','Car_American' ,'Car_American_Luxury',  'Car_European',\n",
    "'Car_European_Luxury', 'Car_Japan','Car_Japan_Luxury' ,'Car_Other',\n",
    "    'm_TenureYr', 'm_PrimaryMember',\n",
    "              'm_LenResidence','m_OptIn_Publication',\n",
    "              'Ed_Completed College','Ed_High School','Ed_Some College','Dwell_SFDU',\n",
    "              'Mosaic_Metropolitan Strugglers','Mosaic_Sophisticated Singles',\n",
    "             ]\n",
    "\n",
    "Modeling_X=RS_train[X_list_final]\n",
    "Test_X=RS_test[X_list_final]\n",
    "\n",
    "X_train = sm.add_constant(Modeling_X)\n",
    "y_train = RS_train.loc[:,'m_Avg_ERS_Cost_PerYr']\n",
    "\n",
    "X_test = sm.add_constant(Test_X)\n",
    "y_test = RS_test.loc[:,'m_Avg_ERS_Cost_PerYr']\n",
    "\n",
    "\n",
    "OLS=LinearRegression()\n",
    "Theil_Sen=TheilSenRegressor(random_state=0)\n",
    "RANSAC=RANSACRegressor(random_state=0)\n",
    "HuberRegressor=HuberRegressor()\n",
    "    \n",
    "OLS.fit(X_train, y_train)\n",
    "print('MSE of OLS on test set: {:.2f}'.format(mean_squared_error(OLS.predict(X_test), y_test)))\n",
    "\n",
    "Theil_Sen.fit(X_train, y_train)\n",
    "print('MSE of Theil_Sen on test set: {:.2f}'.format(mean_squared_error(Theil_Sen.predict(X_test), y_test)))\n",
    "\n",
    "RANSAC.fit(X_train, y_train)\n",
    "print('MSE of RANSAC on test set: {:.2f}'.format(mean_squared_error(RANSAC.predict(X_test), y_test)))\n",
    "\n",
    "HuberRegressor.fit(X_train, y_train)\n",
    "print('MSE of HuberRegressor on test set: {:.2f}'.format(mean_squared_error(HuberRegressor.predict(X_test), y_test)))\n"
   ]
  },
  {
   "cell_type": "code",
   "execution_count": 116,
   "metadata": {},
   "outputs": [
    {
     "name": "stdout",
     "output_type": "stream",
     "text": [
      "MSE of Decision Tree on test set: 4440.31\n",
      "MSE of Random Forest on test set: 4343.26\n",
      "MSE of ExtraTree on test set: 4346.87\n",
      "MSE of Gradient boost on test set: 5668.89\n"
     ]
    }
   ],
   "source": [
    "from sklearn.tree import DecisionTreeRegressor  \n",
    "from sklearn.ensemble import RandomForestRegressor\n",
    "from sklearn.ensemble import ExtraTreesRegressor\n",
    "from sklearn.ensemble import GradientBoostingRegressor\n",
    "\n",
    "DT_Cost = DecisionTreeRegressor(max_depth=15, min_samples_split=50,min_samples_leaf=20,random_state=0)\n",
    "RF_Cost = RandomForestRegressor(n_estimators=15, max_depth=15,min_samples_split=50,min_samples_leaf=20, random_state=0)\n",
    "ET_Cost = ExtraTreesRegressor(n_estimators=15, max_depth=15,min_samples_split=50,min_samples_leaf=20, random_state=0)\n",
    "GB_Cost = GradientBoostingRegressor(learning_rate=1,min_samples_split=50, min_samples_leaf=25, n_estimators=200,random_state=0)\n",
    "\n",
    "DT_Cost.fit(X_train, y_train)\n",
    "print('MSE of Decision Tree on test set: {:.2f}'.format(mean_squared_error(DT_Cost.predict(X_test), y_test)))\n",
    "\n",
    "RF_Cost.fit(X_train, y_train)\n",
    "print('MSE of Random Forest on test set: {:.2f}'.format(mean_squared_error(RF_Cost.predict(X_test), y_test)))\n",
    "\n",
    "ET_Cost.fit(X_train, y_train)\n",
    "print('MSE of ExtraTree on test set: {:.2f}'.format(mean_squared_error(ET_Cost.predict(X_test), y_test)))\n",
    "\n",
    "GB_Cost.fit(X_train, y_train)\n",
    "print('MSE of Gradient boost on test set: {:.2f}'.format(mean_squared_error(GB_Cost.predict(X_test), y_test)))\n"
   ]
  },
  {
   "cell_type": "code",
   "execution_count": 117,
   "metadata": {},
   "outputs": [],
   "source": [
    "#TheilSenRegressor produces the lowest mse and is the better model\n",
    "\n",
    "Theil_Sen.fit(X_train, y_train)\n",
    "y_train_pred= pd.DataFrame(Theil_Sen.predict(X_train), columns = ['Pred_CostPerYr']) \n",
    "y_test_pred = pd.DataFrame(Theil_Sen.predict(X_test), columns = ['Pred_CostPerYr']) \n",
    "#print(y_test_pred.head(10))\n",
    "RS_train.reset_index(drop=True, inplace=True)\n",
    "y_train_pred.reset_index(drop=True, inplace=True)\n",
    "RS_test.reset_index(drop=True, inplace=True)\n",
    "y_test_pred.reset_index(drop=True, inplace=True)\n",
    "RS_train_out=pd.concat([RS_train_out, y_train_pred],axis=1)\n",
    "RS_test_out=pd.concat([RS_test_out, y_test_pred],axis=1)\n",
    "\n",
    "\n",
    "# only keep the active member prediction for segementation.\n",
    "#cancel_out_active=cancel_out[cancel_out['Voluntary Cancel Flag']==0]\n",
    "#prod_test_out.to_csv(r'C:\\Mark_Mao\\MLAL_capstone\\CleanSet\\prod_out_check.csv')\n",
    "#print(cancel_out_active['Household Key'].describe())"
   ]
  },
  {
   "cell_type": "code",
   "execution_count": 129,
   "metadata": {},
   "outputs": [],
   "source": [
    "RS_out=pd.concat([RS_train_out, RS_test_out],axis=0)\n",
    "RS_out['Pred_ExpectedCostPerYr'] = RS_out.apply(lambda row: max([row['Pred_CostPerYr'], 0])*row['Pred_Prob_RS_Use1'], axis=1)\n",
    "RS_out.to_csv(r'C:\\Mark_Mao\\MLAL_capstone\\CleanSet\\RS_out.csv')"
   ]
  },
  {
   "cell_type": "code",
   "execution_count": 130,
   "metadata": {
    "scrolled": true
   },
   "outputs": [
    {
     "data": {
      "image/png": "[encoded data removed]",
      "text/plain": [
       "<Figure size 432x288 with 1 Axes>"
      ]
     },
     "metadata": {
      "needs_background": "light"
     },
     "output_type": "display_data"
    }
   ],
   "source": [
    "plt.scatter(RS_test_out['Pred_CostPerYr'], RS_test_out['m_Avg_ERS_Cost_PerYr'], alpha=0.5)\n",
    "plt.title('Scatter plot ')\n",
    "plt.ylim(0, 400)\n",
    "plt.xlim(0, 400)\n",
    "plt.show()"
   ]
  },
  {
   "cell_type": "code",
   "execution_count": 141,
   "metadata": {
    "scrolled": true
   },
   "outputs": [
    {
     "data": {
      "image/png": "[encoded data removed]",
      "text/plain": [
       "<Figure size 432x288 with 1 Axes>"
      ]
     },
     "metadata": {
      "needs_background": "light"
     },
     "output_type": "display_data"
    }
   ],
   "source": [
    "check=RS_out[['Household Key','Pred_ExpectedCostPerYr','m_Avg_ERS_Cost_PerYr']].sample(n=1000, random_state=1)\n",
    "check['diff']=check['Pred_ExpectedCostPerYr']-check['m_Avg_ERS_Cost_PerYr']\n",
    "\n",
    "plt.plot(check['diff'], '*', markersize=5)\n",
    "plt.show()"
   ]
  },
  {
   "cell_type": "code",
   "execution_count": 143,
   "metadata": {
    "scrolled": true
   },
   "outputs": [
    {
     "name": "stdout",
     "output_type": "stream",
     "text": [
      "<class 'pandas.core.frame.DataFrame'>\n",
      "Int64Index: 2356 entries, 0 to 3510\n",
      "Data columns (total 63 columns):\n",
      "Household Key                       2356 non-null float64\n",
      "m_Avg_ERS_Cost_PerYr                2356 non-null float64\n",
      "m_Avg_ERS_ENT_Count_PerYr           2356 non-null float64\n",
      "m_Prob_ERS_ENT_Used                 2356 non-null int64\n",
      "Car_American                        2356 non-null int64\n",
      "Car_American_Luxury                 2356 non-null int64\n",
      "Car_European                        2356 non-null int64\n",
      "Car_European_Luxury                 2356 non-null int64\n",
      "Car_Japan                           2356 non-null int64\n",
      "Car_Japan_Luxury                    2356 non-null int64\n",
      "Car_Other                           2356 non-null int64\n",
      "m_ExpensiveModel                    2356 non-null int64\n",
      "m_SportsCar                         2356 non-null int64\n",
      "Dwell_MFDU                          2356 non-null float64\n",
      "Dwell_POBOX                         2356 non-null float64\n",
      "Dwell_SFDU                          2356 non-null float64\n",
      "Ed_Completed College                2356 non-null float64\n",
      "Ed_Graduated School                 2356 non-null float64\n",
      "Ed_High School                      2356 non-null float64\n",
      "Ed_Some College                     2356 non-null float64\n",
      "Mosaic_Bourgeois Prosperity         2356 non-null float64\n",
      "Mosaic_Career and Family            2356 non-null float64\n",
      "Mosaic_Comfortable Retirement       2356 non-null float64\n",
      "Mosaic_Hard Working Blue Collar     2356 non-null float64\n",
      "Mosaic_Low Income Elders            2356 non-null float64\n",
      "Mosaic_Metropolitan Strugglers      2356 non-null float64\n",
      "Mosaic_Post Industrial Survivors    2356 non-null float64\n",
      "Mosaic_Routine Service Workers      2356 non-null float64\n",
      "Mosaic_Rural Inheritance            2356 non-null float64\n",
      "Mosaic_Sophisticated Singles        2356 non-null float64\n",
      "Occ_Blue_Collar                     2356 non-null float64\n",
      "Occ_Management                      2356 non-null float64\n",
      "Occ_OfficeAdmin                     2356 non-null float64\n",
      "Occ_Other                           2356 non-null float64\n",
      "Occ_Professional                    2356 non-null float64\n",
      "Occ_Retired                         2356 non-null float64\n",
      "Occ_Sales                           2356 non-null float64\n",
      "Occ_Technical                       2356 non-null float64\n",
      "m_AgeMissing                        2356 non-null int64\n",
      "m_AutoRenew                         2356 non-null float64\n",
      "m_CashCallYes                       2356 non-null float64\n",
      "m_Credit                            2356 non-null float64\n",
      "m_CreditMissing                     2356 non-null float64\n",
      "m_DwellMissing                      2356 non-null float64\n",
      "m_HomeownerFlag                     2356 non-null float64\n",
      "m_Income                            2356 non-null float64\n",
      "m_IncomeMissing                     2356 non-null float64\n",
      "m_LenResidence                      2356 non-null float64\n",
      "m_MailRespondYes                    2356 non-null float64\n",
      "m_MosJoin2CancelMissing             2356 non-null int64\n",
      "m_MosaicMIssing                     2356 non-null float64\n",
      "m_NewMover                          2356 non-null float64\n",
      "m_No2DirectMail                     2356 non-null int64\n",
      "m_NoChild                           2356 non-null float64\n",
      "m_OccupationMissing                 2356 non-null float64\n",
      "m_OptIn_Publication                 2356 non-null int64\n",
      "m_PlusMember                        2356 non-null float64\n",
      "m_PrimaryMember                     2356 non-null float64\n",
      "m_ProfileMissing                    2356 non-null float64\n",
      "m_RenterFlag                        2356 non-null float64\n",
      "m_TenureYr                          2356 non-null float64\n",
      "m_memberage                         2356 non-null float64\n",
      "m_nChild                            2356 non-null float64\n",
      "dtypes: float64(49), int64(14)\n",
      "memory usage: 1.2 MB\n",
      "None\n"
     ]
    }
   ],
   "source": [
    "print(RS_nonzeroset.info())"
   ]
  },
  {
   "cell_type": "code",
   "execution_count": 176,
   "metadata": {},
   "outputs": [
    {
     "name": "stdout",
     "output_type": "stream",
     "text": [
      "count    3511.000000\n",
      "mean        0.296956\n",
      "std         0.425629\n",
      "min         0.000000\n",
      "25%         0.000000\n",
      "50%         0.000000\n",
      "75%         0.666667\n",
      "max         1.000000\n",
      "Name: m_PlusMember, dtype: float64\n",
      "['0.00', '1.00', '2.00', '3.00', '4.00', '5.00', '6.00', '7.00', '8.00', '9.00', '10.00', '11.00', '12.00', '13.00']\n"
     ]
    },
    {
     "data": {
      "image/png": "[encoded data removed]",
      "text/plain": [
       "<Figure size 432x288 with 1 Axes>"
      ]
     },
     "metadata": {
      "needs_background": "light"
     },
     "output_type": "display_data"
    },
    {
     "data": {
      "text/plain": [
       "<Figure size 432x288 with 0 Axes>"
      ]
     },
     "metadata": {},
     "output_type": "display_data"
    }
   ],
   "source": [
    "\n",
    "import seaborn.apionly as sns\n",
    "import matplotlib.pyplot as plt\n",
    "import matplotlib.ticker as ticker\n",
    "\n",
    "print(RS_fullset['m_PlusMember'].describe())\n",
    "RS_fullset1=RS_fullset[RS_fullset['m_Prob_ERS_ENT_Used']==1]\n",
    "RS_fullset0=RS_fullset[RS_fullset['m_Prob_ERS_ENT_Used']==0]\n",
    "\n",
    "ax=sns.distplot(RS_fullset1['m_PlusMember'] , color=\"blue\", label=\"Used Road Service for the Past 3 Years\",kde=False)\n",
    "ax=sns.distplot(RS_fullset0['m_PlusMember'] , color=\"red\", label=\"NOT Used Road Service for the Past 3 Years\",kde=False)\n",
    "\n",
    "ax.set(xlabel=\"% of Plus/Premier Member\", ylabel = \"Number of Household\")\n",
    "print(xlabels)\n",
    "#ax.set_xticklabels(xlabels)\n",
    "plt.legend()\n",
    "plt.show()\n",
    "plt.savefig('Frequency_plot')\n"
   ]
  },
  {
   "cell_type": "code",
   "execution_count": null,
   "metadata": {},
   "outputs": [],
   "source": []
  }
 ],
 "metadata": {
  "kernelspec": {
   "display_name": "Python 3",
   "language": "python",
   "name": "python3"
  },
  "language_info": {
   "codemirror_mode": {
    "name": "ipython",
    "version": 3
   },
   "file_extension": ".py",
   "mimetype": "text/x-python",
   "name": "python",
   "nbconvert_exporter": "python",
   "pygments_lexer": "ipython3",
   "version": "3.7.3"
  }
 },
 "nbformat": 4,
 "nbformat_minor": 2
}
